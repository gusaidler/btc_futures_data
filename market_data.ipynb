{
 "cells": [
  {
   "cell_type": "markdown",
   "id": "1cf3183b-172c-4163-9928-65d369b302f2",
   "metadata": {},
   "source": [
    "## Retrieve futures market data from Coinglass.com\n",
    "Currently getting the following:\n",
    " - Average Funding rate\n",
    " - Total Open Interest"
   ]
  },
  {
   "cell_type": "code",
   "execution_count": 1,
   "id": "4ce578fe-ee04-4aee-8315-0c42bc86b289",
   "metadata": {},
   "outputs": [],
   "source": [
    "from functions import *\n",
    "\n",
    "import plotly.graph_objects as go\n",
    "import datetime\n",
    "from plotly.subplots import make_subplots\n",
    "from numerize import numerize\n",
    "from IPython.display import Image\n",
    "from IPython.core.display import HTML "
   ]
  },
  {
   "cell_type": "code",
   "execution_count": 2,
   "id": "6a9223d9-5a82-46df-994f-97c597318a0b",
   "metadata": {},
   "outputs": [],
   "source": [
    "df_usdt = get_df_from_url('fr_usdt')\n",
    "df_token = get_df_from_url('fr_token')\n",
    "df_oi = get_df_from_url('oi')\n",
    "\n",
    "df_usdt = get_weighted_mean_funding_rate(df_usdt, df_oi)\n",
    "df_token = get_weighted_mean_funding_rate(df_token, df_oi)\n"
   ]
  },
  {
   "cell_type": "code",
   "execution_count": 3,
   "id": "e8d93624-ae75-40b5-9ecd-1a52a86369b9",
   "metadata": {},
   "outputs": [
    {
     "name": "stdout",
     "output_type": "stream",
     "text": [
      "Funding rate mean (USD or USDT): 0.007\n",
      "Funding rate mean (Token): 0.0072\n",
      "Funding rate mean: 0.0071 \n",
      "\n",
      "Predicted funding rate mean: 0.0036 \n",
      "\n",
      "Current Total Open Interest: 14.04B\n",
      "\n"
     ]
    }
   ],
   "source": [
    "# FUNDING RATE\n",
    "mean_funding_rate_usdt = round(df_usdt['mean_funding_rate'].tail(1)[0], 4)\n",
    "mean_funding_rate_token = round(df_token['mean_funding_rate'].tail(1)[0], 4)\n",
    "\n",
    "mean_funding_rate = round((df_usdt['mean_funding_rate'].tail(1)[0] + df_token['mean_funding_rate'].tail(1)[0]) / 2, 4)\n",
    "\n",
    "# PREDICTED FUNDING RATE\n",
    "mean_predicted_funding_rate_usdt = round(df_usdt['mean_predicted_funding_rate'].tail(1)[0], 4)\n",
    "mean_predicted_funding_rate_token = round(df_token['mean_predicted_funding_rate'].tail(1)[0], 4)\n",
    "\n",
    "mean_predicted_funding_rate = round((df_usdt['mean_predicted_funding_rate'].tail(1)[0] + df_token['mean_predicted_funding_rate'].tail(1)[0]) / 2, 4)\n",
    "\n",
    "# OPEN INTEREST\n",
    "total_oi = df_oi['total_open_interest'].tail(1)[0]\n",
    "\n",
    "# PRINT\n",
    "print('Funding rate mean (USD or USDT): {}'.format(mean_funding_rate_usdt))\n",
    "print('Funding rate mean (Token): {}'.format(mean_funding_rate_token))\n",
    "print('Funding rate mean: {} \\n'.format(mean_funding_rate))\n",
    "\n",
    "#print('Predicted funding rate mean (USD or USDT): {}'.format(mean_predicted_funding_rate_usdt))\n",
    "#print('Predicted funding rate mean (Token): {}'.format(mean_predicted_funding_rate_token))\n",
    "print('Predicted funding rate mean: {} \\n'.format(mean_predicted_funding_rate))\n",
    "\n",
    "print('Current Total Open Interest: {}\\n'.format(numerize.numerize(total_oi)))"
   ]
  },
  {
   "cell_type": "markdown",
   "id": "e273c348-ef74-451f-a34d-b3ac1d63be3b",
   "metadata": {
    "tags": []
   },
   "source": [
    "# Charts"
   ]
  },
  {
   "cell_type": "code",
   "execution_count": 4,
   "id": "6f8a0300-a7f4-4031-9881-004b776bb38c",
   "metadata": {},
   "outputs": [
    {
     "data": {
      "application/vnd.plotly.v1+json": {
       "config": {
        "plotlyServerURL": "https://plot.ly"
       },
       "data": [
        {
         "mode": "lines+markers",
         "name": "Price",
         "type": "scatter",
         "x": [
          "2022-09-07T00:00:00",
          "2022-09-07T08:00:00",
          "2022-09-07T16:00:00",
          "2022-09-08T00:00:00",
          "2022-09-08T08:00:00",
          "2022-09-08T16:00:00",
          "2022-09-09T00:00:00",
          "2022-09-09T08:00:00",
          "2022-09-09T16:00:00",
          "2022-09-10T00:00:00",
          "2022-09-10T08:00:00",
          "2022-09-10T16:00:00",
          "2022-09-11T00:00:00",
          "2022-09-11T08:00:00",
          "2022-09-11T16:00:00",
          "2022-09-12T00:00:00",
          "2022-09-12T08:00:00",
          "2022-09-12T16:00:00",
          "2022-09-13T00:00:00",
          "2022-09-13T08:00:00",
          "2022-09-13T16:00:00",
          "2022-09-14T00:00:00",
          "2022-09-14T08:00:00",
          "2022-09-14T16:00:00",
          "2022-09-15T00:00:00",
          "2022-09-15T08:00:00",
          "2022-09-15T16:00:00",
          "2022-09-16T00:00:00",
          "2022-09-16T08:00:00",
          "2022-09-16T16:00:00",
          "2022-09-17T00:00:00",
          "2022-09-17T08:00:00",
          "2022-09-17T16:00:00",
          "2022-09-18T00:00:00",
          "2022-09-18T08:00:00",
          "2022-09-18T16:00:00",
          "2022-09-19T00:00:00",
          "2022-09-19T08:00:00",
          "2022-09-19T16:00:00",
          "2022-09-20T00:00:00",
          "2022-09-20T08:00:00",
          "2022-09-20T16:00:00",
          "2022-09-21T00:00:00",
          "2022-09-21T08:00:00",
          "2022-09-21T16:00:00",
          "2022-09-22T00:00:00",
          "2022-09-22T08:00:00",
          "2022-09-22T16:00:00",
          "2022-09-23T00:00:00",
          "2022-09-23T08:00:00",
          "2022-09-23T16:00:00",
          "2022-09-24T00:00:00",
          "2022-09-24T08:00:00",
          "2022-09-24T16:00:00",
          "2022-09-25T00:00:00",
          "2022-09-25T08:00:00",
          "2022-09-25T16:00:00",
          "2022-09-26T00:00:00",
          "2022-09-26T08:00:00",
          "2022-09-26T16:00:00",
          "2022-09-27T00:00:00",
          "2022-09-27T08:00:00",
          "2022-09-27T16:00:00",
          "2022-09-28T00:00:00",
          "2022-09-28T08:00:00",
          "2022-09-28T16:00:00",
          "2022-09-29T00:00:00",
          "2022-09-29T08:00:00",
          "2022-09-29T16:00:00",
          "2022-09-30T00:00:00",
          "2022-09-30T08:00:00",
          "2022-09-30T16:00:00",
          "2022-10-01T00:00:00",
          "2022-10-01T08:00:00",
          "2022-10-01T16:00:00",
          "2022-10-02T00:00:00",
          "2022-10-02T08:00:00",
          "2022-10-02T16:00:00",
          "2022-10-03T00:00:00",
          "2022-10-03T08:00:00",
          "2022-10-03T16:00:00",
          "2022-10-04T00:00:00",
          "2022-10-04T08:00:00",
          "2022-10-04T16:00:00",
          "2022-10-05T00:00:00",
          "2022-10-05T08:00:00",
          "2022-10-05T16:00:00",
          "2022-10-06T00:00:00",
          "2022-10-06T08:00:00",
          "2022-10-06T16:00:00",
          "2022-10-07T00:00:00",
          "2022-10-07T08:00:00",
          "2022-10-07T11:00:00"
         ],
         "xaxis": "x",
         "y": [
          18774.9,
          18798.6,
          18866.3,
          19276.4,
          19157.1,
          19241.3,
          19309,
          20627.5,
          21251.8,
          21362.7,
          21269.9,
          21219.6,
          21642.5,
          21599.7,
          21636.4,
          21842,
          22207.4,
          22131.5,
          22394.4,
          22272.9,
          20829.9,
          20166.1,
          20218.9,
          20169,
          20211.2,
          20193.8,
          19725.1,
          19689.6,
          19731,
          19652.5,
          19789,
          19834.8,
          19955.5,
          20107,
          20044.9,
          19806.5,
          19406.5,
          18455.1,
          19075,
          19524,
          19347.7,
          19231.8,
          18865.2,
          18941.4,
          19185.5,
          18452.5,
          18935,
          18971.1,
          19394.9,
          19213.3,
          18709.7,
          19281.2,
          18985.9,
          19109.9,
          18913.6,
          19092,
          18985.3,
          18796.8,
          18900.3,
          19110.1,
          19215.1,
          20174.5,
          19871.6,
          19073.2,
          18778.4,
          19480,
          19405.2,
          19354.3,
          19290.2,
          19580.3,
          19556,
          19748.2,
          19416.2,
          19306.1,
          19320.3,
          19300.4,
          19276,
          19137.9,
          19044.9,
          19188.1,
          19326,
          19624.8,
          19957.8,
          20094.5,
          20335.2,
          20213.5,
          19989,
          20154.1,
          20218.3,
          20007,
          19952.8,
          19922.2,
          19990.2
         ],
         "yaxis": "y"
        },
        {
         "name": "Average Funding Rate",
         "type": "bar",
         "x": [
          "2022-09-07T00:00:00",
          "2022-09-07T08:00:00",
          "2022-09-07T16:00:00",
          "2022-09-08T00:00:00",
          "2022-09-08T08:00:00",
          "2022-09-08T16:00:00",
          "2022-09-09T00:00:00",
          "2022-09-09T08:00:00",
          "2022-09-09T16:00:00",
          "2022-09-10T00:00:00",
          "2022-09-10T08:00:00",
          "2022-09-10T16:00:00",
          "2022-09-11T00:00:00",
          "2022-09-11T08:00:00",
          "2022-09-11T16:00:00",
          "2022-09-12T00:00:00",
          "2022-09-12T08:00:00",
          "2022-09-12T16:00:00",
          "2022-09-13T00:00:00",
          "2022-09-13T08:00:00",
          "2022-09-13T16:00:00",
          "2022-09-14T00:00:00",
          "2022-09-14T08:00:00",
          "2022-09-14T16:00:00",
          "2022-09-15T00:00:00",
          "2022-09-15T08:00:00",
          "2022-09-15T16:00:00",
          "2022-09-16T00:00:00",
          "2022-09-16T08:00:00",
          "2022-09-16T16:00:00",
          "2022-09-17T00:00:00",
          "2022-09-17T08:00:00",
          "2022-09-17T16:00:00",
          "2022-09-18T00:00:00",
          "2022-09-18T08:00:00",
          "2022-09-18T16:00:00",
          "2022-09-19T00:00:00",
          "2022-09-19T08:00:00",
          "2022-09-19T16:00:00",
          "2022-09-20T00:00:00",
          "2022-09-20T08:00:00",
          "2022-09-20T16:00:00",
          "2022-09-21T00:00:00",
          "2022-09-21T08:00:00",
          "2022-09-21T16:00:00",
          "2022-09-22T00:00:00",
          "2022-09-22T08:00:00",
          "2022-09-22T16:00:00",
          "2022-09-23T00:00:00",
          "2022-09-23T08:00:00",
          "2022-09-23T16:00:00",
          "2022-09-24T00:00:00",
          "2022-09-24T08:00:00",
          "2022-09-24T16:00:00",
          "2022-09-25T00:00:00",
          "2022-09-25T08:00:00",
          "2022-09-25T16:00:00",
          "2022-09-26T00:00:00",
          "2022-09-26T08:00:00",
          "2022-09-26T16:00:00",
          "2022-09-27T00:00:00",
          "2022-09-27T08:00:00",
          "2022-09-27T16:00:00",
          "2022-09-28T00:00:00",
          "2022-09-28T08:00:00",
          "2022-09-28T16:00:00",
          "2022-09-29T00:00:00",
          "2022-09-29T08:00:00",
          "2022-09-29T16:00:00",
          "2022-09-30T00:00:00",
          "2022-09-30T08:00:00",
          "2022-09-30T16:00:00",
          "2022-10-01T00:00:00",
          "2022-10-01T08:00:00",
          "2022-10-01T16:00:00",
          "2022-10-02T00:00:00",
          "2022-10-02T08:00:00",
          "2022-10-02T16:00:00",
          "2022-10-03T00:00:00",
          "2022-10-03T08:00:00",
          "2022-10-03T16:00:00",
          "2022-10-04T00:00:00",
          "2022-10-04T08:00:00",
          "2022-10-04T16:00:00",
          "2022-10-05T00:00:00",
          "2022-10-05T08:00:00",
          "2022-10-05T16:00:00",
          "2022-10-06T00:00:00",
          "2022-10-06T08:00:00",
          "2022-10-06T16:00:00",
          "2022-10-07T00:00:00",
          "2022-10-07T08:00:00",
          "2022-10-07T11:00:00"
         ],
         "xaxis": "x2",
         "y": [
          -0.0074,
          0.0013,
          -0.0032,
          0.0003,
          -0.0002,
          -0.0001,
          -0.0011,
          0.0047,
          0.0043,
          0.004,
          0.0066,
          0.0066,
          0.0027,
          0.0057,
          0.0029,
          0.003,
          0.0055,
          0.0039,
          0.0048,
          0.0075,
          0.0083,
          -0.0031,
          0.0033,
          -0.0033,
          -0.0043,
          0.0024,
          0.0022,
          0.0019,
          0.0047,
          0.0006,
          0.0026,
          -0.0025,
          -0.0025,
          0.0001,
          0.0057,
          0.0015,
          0.0036,
          -0.0089,
          -0.0048,
          0.0021,
          -0.0014,
          0.0017,
          0.0025,
          0.0033,
          0.0133,
          -0.0094,
          -0.0074,
          0.0011,
          0.0026,
          0.0032,
          -0.0022,
          0.0016,
          0.003,
          0.0023,
          0.002,
          0.0026,
          0.0019,
          -0.0007,
          0.0021,
          0.0022,
          0.0006,
          0.0072,
          0.0042,
          0.0025,
          0.0016,
          0.0053,
          0.004,
          0.0034,
          0.0017,
          0.0059,
          0.0038,
          0.0033,
          0.0003,
          0.0086,
          0.0055,
          0.0023,
          0.0026,
          0.0032,
          0.0013,
          0.005,
          0.0053,
          0.0043,
          0.0037,
          0.0023,
          0.002,
          0.0059,
          0.0055,
          0.0031,
          0.0035,
          0.0048,
          0.0031,
          0.0062,
          0.0076
         ],
         "yaxis": "y2"
        },
        {
         "mode": "lines+markers",
         "name": "Total Open Interest",
         "type": "scatter",
         "x": [
          "2022-09-07T00:00:00",
          "2022-09-08T00:00:00",
          "2022-09-09T00:00:00",
          "2022-09-10T00:00:00",
          "2022-09-11T00:00:00",
          "2022-09-12T00:00:00",
          "2022-09-13T00:00:00",
          "2022-09-14T00:00:00",
          "2022-09-15T00:00:00",
          "2022-09-16T00:00:00",
          "2022-09-17T00:00:00",
          "2022-09-18T00:00:00",
          "2022-09-19T00:00:00",
          "2022-09-20T00:00:00",
          "2022-09-21T00:00:00",
          "2022-09-22T00:00:00",
          "2022-09-23T00:00:00",
          "2022-09-24T00:00:00",
          "2022-09-25T00:00:00",
          "2022-09-26T00:00:00",
          "2022-09-27T00:00:00",
          "2022-09-28T00:00:00",
          "2022-09-29T00:00:00",
          "2022-09-30T00:00:00",
          "2022-10-01T00:00:00",
          "2022-10-02T00:00:00",
          "2022-10-03T00:00:00",
          "2022-10-04T00:00:00",
          "2022-10-05T00:00:00",
          "2022-10-06T00:00:00",
          "2022-10-07T00:00:00",
          "2022-10-07T11:05:00"
         ],
         "xaxis": "x3",
         "y": [
          12957056842,
          12862281492,
          12762390985,
          14205121875,
          14441921785,
          14687139517,
          14774724048,
          12783573759,
          12615543560,
          12352186589,
          12613752413,
          12927169875,
          12692166040,
          12443025166,
          12415137288,
          12089480325,
          12607487464,
          12609061420,
          12619050728,
          12609391608,
          12996106274,
          12794279788,
          13095222445,
          13060579052,
          12279816787,
          12343954603,
          12300274215,
          12965381343,
          14530689015,
          14095490831,
          14044537816,
          14044032715
         ],
         "yaxis": "y3"
        }
       ],
       "layout": {
        "annotations": [
         {
          "font": {
           "size": 16
          },
          "showarrow": false,
          "text": "Price",
          "x": 0.5,
          "xanchor": "center",
          "xref": "paper",
          "y": 1,
          "yanchor": "bottom",
          "yref": "paper"
         },
         {
          "font": {
           "size": 16
          },
          "showarrow": false,
          "text": "Average Funding Rate",
          "x": 0.5,
          "xanchor": "center",
          "xref": "paper",
          "y": 0.6633333333333333,
          "yanchor": "bottom",
          "yref": "paper"
         },
         {
          "font": {
           "size": 16
          },
          "showarrow": false,
          "text": "Open Interest",
          "x": 0.5,
          "xanchor": "center",
          "xref": "paper",
          "y": 0.32666666666666666,
          "yanchor": "bottom",
          "yref": "paper"
         },
         {
          "showarrow": false,
          "text": "Baseline",
          "x": 1,
          "xanchor": "right",
          "xref": "x2 domain",
          "y": 0.01,
          "yanchor": "bottom",
          "yref": "y2"
         },
         {
          "showarrow": false,
          "text": "<b>19990</b>",
          "x": "2022-10-07T11:00:00",
          "xanchor": "left",
          "xref": "x",
          "y": 19990.2,
          "yanchor": "bottom",
          "yref": "y"
         },
         {
          "showarrow": false,
          "text": "<b>0.0076%</b>",
          "x": "2022-10-07T11:00:00",
          "xanchor": "left",
          "xref": "x2",
          "y": 0.0076,
          "yanchor": "bottom",
          "yref": "y2"
         },
         {
          "showarrow": false,
          "text": "<b>14.04B</b>",
          "x": "2022-10-07T11:05:00",
          "xanchor": "left",
          "xref": "x3",
          "y": 14044032715,
          "yanchor": "bottom",
          "yref": "y3"
         }
        ],
        "height": 1200,
        "legend": {
         "font": {
          "size": 12
         },
         "y": 0.5
        },
        "shapes": [
         {
          "line": {
           "dash": "dot"
          },
          "opacity": 0.3,
          "type": "line",
          "x0": 0,
          "x1": 1,
          "xref": "x2 domain",
          "y0": 0,
          "y1": 0,
          "yref": "y2"
         },
         {
          "line": {
           "dash": "dot"
          },
          "opacity": 0.3,
          "type": "line",
          "x0": 0,
          "x1": 1,
          "xref": "x2 domain",
          "y0": 0.01,
          "y1": 0.01,
          "yref": "y2"
         }
        ],
        "template": {
         "data": {
          "bar": [
           {
            "error_x": {
             "color": "#2a3f5f"
            },
            "error_y": {
             "color": "#2a3f5f"
            },
            "marker": {
             "line": {
              "color": "#E5ECF6",
              "width": 0.5
             },
             "pattern": {
              "fillmode": "overlay",
              "size": 10,
              "solidity": 0.2
             }
            },
            "type": "bar"
           }
          ],
          "barpolar": [
           {
            "marker": {
             "line": {
              "color": "#E5ECF6",
              "width": 0.5
             },
             "pattern": {
              "fillmode": "overlay",
              "size": 10,
              "solidity": 0.2
             }
            },
            "type": "barpolar"
           }
          ],
          "carpet": [
           {
            "aaxis": {
             "endlinecolor": "#2a3f5f",
             "gridcolor": "white",
             "linecolor": "white",
             "minorgridcolor": "white",
             "startlinecolor": "#2a3f5f"
            },
            "baxis": {
             "endlinecolor": "#2a3f5f",
             "gridcolor": "white",
             "linecolor": "white",
             "minorgridcolor": "white",
             "startlinecolor": "#2a3f5f"
            },
            "type": "carpet"
           }
          ],
          "choropleth": [
           {
            "colorbar": {
             "outlinewidth": 0,
             "ticks": ""
            },
            "type": "choropleth"
           }
          ],
          "contour": [
           {
            "colorbar": {
             "outlinewidth": 0,
             "ticks": ""
            },
            "colorscale": [
             [
              0,
              "#0d0887"
             ],
             [
              0.1111111111111111,
              "#46039f"
             ],
             [
              0.2222222222222222,
              "#7201a8"
             ],
             [
              0.3333333333333333,
              "#9c179e"
             ],
             [
              0.4444444444444444,
              "#bd3786"
             ],
             [
              0.5555555555555556,
              "#d8576b"
             ],
             [
              0.6666666666666666,
              "#ed7953"
             ],
             [
              0.7777777777777778,
              "#fb9f3a"
             ],
             [
              0.8888888888888888,
              "#fdca26"
             ],
             [
              1,
              "#f0f921"
             ]
            ],
            "type": "contour"
           }
          ],
          "contourcarpet": [
           {
            "colorbar": {
             "outlinewidth": 0,
             "ticks": ""
            },
            "type": "contourcarpet"
           }
          ],
          "heatmap": [
           {
            "colorbar": {
             "outlinewidth": 0,
             "ticks": ""
            },
            "colorscale": [
             [
              0,
              "#0d0887"
             ],
             [
              0.1111111111111111,
              "#46039f"
             ],
             [
              0.2222222222222222,
              "#7201a8"
             ],
             [
              0.3333333333333333,
              "#9c179e"
             ],
             [
              0.4444444444444444,
              "#bd3786"
             ],
             [
              0.5555555555555556,
              "#d8576b"
             ],
             [
              0.6666666666666666,
              "#ed7953"
             ],
             [
              0.7777777777777778,
              "#fb9f3a"
             ],
             [
              0.8888888888888888,
              "#fdca26"
             ],
             [
              1,
              "#f0f921"
             ]
            ],
            "type": "heatmap"
           }
          ],
          "heatmapgl": [
           {
            "colorbar": {
             "outlinewidth": 0,
             "ticks": ""
            },
            "colorscale": [
             [
              0,
              "#0d0887"
             ],
             [
              0.1111111111111111,
              "#46039f"
             ],
             [
              0.2222222222222222,
              "#7201a8"
             ],
             [
              0.3333333333333333,
              "#9c179e"
             ],
             [
              0.4444444444444444,
              "#bd3786"
             ],
             [
              0.5555555555555556,
              "#d8576b"
             ],
             [
              0.6666666666666666,
              "#ed7953"
             ],
             [
              0.7777777777777778,
              "#fb9f3a"
             ],
             [
              0.8888888888888888,
              "#fdca26"
             ],
             [
              1,
              "#f0f921"
             ]
            ],
            "type": "heatmapgl"
           }
          ],
          "histogram": [
           {
            "marker": {
             "pattern": {
              "fillmode": "overlay",
              "size": 10,
              "solidity": 0.2
             }
            },
            "type": "histogram"
           }
          ],
          "histogram2d": [
           {
            "colorbar": {
             "outlinewidth": 0,
             "ticks": ""
            },
            "colorscale": [
             [
              0,
              "#0d0887"
             ],
             [
              0.1111111111111111,
              "#46039f"
             ],
             [
              0.2222222222222222,
              "#7201a8"
             ],
             [
              0.3333333333333333,
              "#9c179e"
             ],
             [
              0.4444444444444444,
              "#bd3786"
             ],
             [
              0.5555555555555556,
              "#d8576b"
             ],
             [
              0.6666666666666666,
              "#ed7953"
             ],
             [
              0.7777777777777778,
              "#fb9f3a"
             ],
             [
              0.8888888888888888,
              "#fdca26"
             ],
             [
              1,
              "#f0f921"
             ]
            ],
            "type": "histogram2d"
           }
          ],
          "histogram2dcontour": [
           {
            "colorbar": {
             "outlinewidth": 0,
             "ticks": ""
            },
            "colorscale": [
             [
              0,
              "#0d0887"
             ],
             [
              0.1111111111111111,
              "#46039f"
             ],
             [
              0.2222222222222222,
              "#7201a8"
             ],
             [
              0.3333333333333333,
              "#9c179e"
             ],
             [
              0.4444444444444444,
              "#bd3786"
             ],
             [
              0.5555555555555556,
              "#d8576b"
             ],
             [
              0.6666666666666666,
              "#ed7953"
             ],
             [
              0.7777777777777778,
              "#fb9f3a"
             ],
             [
              0.8888888888888888,
              "#fdca26"
             ],
             [
              1,
              "#f0f921"
             ]
            ],
            "type": "histogram2dcontour"
           }
          ],
          "mesh3d": [
           {
            "colorbar": {
             "outlinewidth": 0,
             "ticks": ""
            },
            "type": "mesh3d"
           }
          ],
          "parcoords": [
           {
            "line": {
             "colorbar": {
              "outlinewidth": 0,
              "ticks": ""
             }
            },
            "type": "parcoords"
           }
          ],
          "pie": [
           {
            "automargin": true,
            "type": "pie"
           }
          ],
          "scatter": [
           {
            "fillpattern": {
             "fillmode": "overlay",
             "size": 10,
             "solidity": 0.2
            },
            "type": "scatter"
           }
          ],
          "scatter3d": [
           {
            "line": {
             "colorbar": {
              "outlinewidth": 0,
              "ticks": ""
             }
            },
            "marker": {
             "colorbar": {
              "outlinewidth": 0,
              "ticks": ""
             }
            },
            "type": "scatter3d"
           }
          ],
          "scattercarpet": [
           {
            "marker": {
             "colorbar": {
              "outlinewidth": 0,
              "ticks": ""
             }
            },
            "type": "scattercarpet"
           }
          ],
          "scattergeo": [
           {
            "marker": {
             "colorbar": {
              "outlinewidth": 0,
              "ticks": ""
             }
            },
            "type": "scattergeo"
           }
          ],
          "scattergl": [
           {
            "marker": {
             "colorbar": {
              "outlinewidth": 0,
              "ticks": ""
             }
            },
            "type": "scattergl"
           }
          ],
          "scattermapbox": [
           {
            "marker": {
             "colorbar": {
              "outlinewidth": 0,
              "ticks": ""
             }
            },
            "type": "scattermapbox"
           }
          ],
          "scatterpolar": [
           {
            "marker": {
             "colorbar": {
              "outlinewidth": 0,
              "ticks": ""
             }
            },
            "type": "scatterpolar"
           }
          ],
          "scatterpolargl": [
           {
            "marker": {
             "colorbar": {
              "outlinewidth": 0,
              "ticks": ""
             }
            },
            "type": "scatterpolargl"
           }
          ],
          "scatterternary": [
           {
            "marker": {
             "colorbar": {
              "outlinewidth": 0,
              "ticks": ""
             }
            },
            "type": "scatterternary"
           }
          ],
          "surface": [
           {
            "colorbar": {
             "outlinewidth": 0,
             "ticks": ""
            },
            "colorscale": [
             [
              0,
              "#0d0887"
             ],
             [
              0.1111111111111111,
              "#46039f"
             ],
             [
              0.2222222222222222,
              "#7201a8"
             ],
             [
              0.3333333333333333,
              "#9c179e"
             ],
             [
              0.4444444444444444,
              "#bd3786"
             ],
             [
              0.5555555555555556,
              "#d8576b"
             ],
             [
              0.6666666666666666,
              "#ed7953"
             ],
             [
              0.7777777777777778,
              "#fb9f3a"
             ],
             [
              0.8888888888888888,
              "#fdca26"
             ],
             [
              1,
              "#f0f921"
             ]
            ],
            "type": "surface"
           }
          ],
          "table": [
           {
            "cells": {
             "fill": {
              "color": "#EBF0F8"
             },
             "line": {
              "color": "white"
             }
            },
            "header": {
             "fill": {
              "color": "#C8D4E3"
             },
             "line": {
              "color": "white"
             }
            },
            "type": "table"
           }
          ]
         },
         "layout": {
          "annotationdefaults": {
           "arrowcolor": "#2a3f5f",
           "arrowhead": 0,
           "arrowwidth": 1
          },
          "autotypenumbers": "strict",
          "coloraxis": {
           "colorbar": {
            "outlinewidth": 0,
            "ticks": ""
           }
          },
          "colorscale": {
           "diverging": [
            [
             0,
             "#8e0152"
            ],
            [
             0.1,
             "#c51b7d"
            ],
            [
             0.2,
             "#de77ae"
            ],
            [
             0.3,
             "#f1b6da"
            ],
            [
             0.4,
             "#fde0ef"
            ],
            [
             0.5,
             "#f7f7f7"
            ],
            [
             0.6,
             "#e6f5d0"
            ],
            [
             0.7,
             "#b8e186"
            ],
            [
             0.8,
             "#7fbc41"
            ],
            [
             0.9,
             "#4d9221"
            ],
            [
             1,
             "#276419"
            ]
           ],
           "sequential": [
            [
             0,
             "#0d0887"
            ],
            [
             0.1111111111111111,
             "#46039f"
            ],
            [
             0.2222222222222222,
             "#7201a8"
            ],
            [
             0.3333333333333333,
             "#9c179e"
            ],
            [
             0.4444444444444444,
             "#bd3786"
            ],
            [
             0.5555555555555556,
             "#d8576b"
            ],
            [
             0.6666666666666666,
             "#ed7953"
            ],
            [
             0.7777777777777778,
             "#fb9f3a"
            ],
            [
             0.8888888888888888,
             "#fdca26"
            ],
            [
             1,
             "#f0f921"
            ]
           ],
           "sequentialminus": [
            [
             0,
             "#0d0887"
            ],
            [
             0.1111111111111111,
             "#46039f"
            ],
            [
             0.2222222222222222,
             "#7201a8"
            ],
            [
             0.3333333333333333,
             "#9c179e"
            ],
            [
             0.4444444444444444,
             "#bd3786"
            ],
            [
             0.5555555555555556,
             "#d8576b"
            ],
            [
             0.6666666666666666,
             "#ed7953"
            ],
            [
             0.7777777777777778,
             "#fb9f3a"
            ],
            [
             0.8888888888888888,
             "#fdca26"
            ],
            [
             1,
             "#f0f921"
            ]
           ]
          },
          "colorway": [
           "#636efa",
           "#EF553B",
           "#00cc96",
           "#ab63fa",
           "#FFA15A",
           "#19d3f3",
           "#FF6692",
           "#B6E880",
           "#FF97FF",
           "#FECB52"
          ],
          "font": {
           "color": "#2a3f5f"
          },
          "geo": {
           "bgcolor": "white",
           "lakecolor": "white",
           "landcolor": "#E5ECF6",
           "showlakes": true,
           "showland": true,
           "subunitcolor": "white"
          },
          "hoverlabel": {
           "align": "left"
          },
          "hovermode": "closest",
          "mapbox": {
           "style": "light"
          },
          "paper_bgcolor": "white",
          "plot_bgcolor": "#E5ECF6",
          "polar": {
           "angularaxis": {
            "gridcolor": "white",
            "linecolor": "white",
            "ticks": ""
           },
           "bgcolor": "#E5ECF6",
           "radialaxis": {
            "gridcolor": "white",
            "linecolor": "white",
            "ticks": ""
           }
          },
          "scene": {
           "xaxis": {
            "backgroundcolor": "#E5ECF6",
            "gridcolor": "white",
            "gridwidth": 2,
            "linecolor": "white",
            "showbackground": true,
            "ticks": "",
            "zerolinecolor": "white"
           },
           "yaxis": {
            "backgroundcolor": "#E5ECF6",
            "gridcolor": "white",
            "gridwidth": 2,
            "linecolor": "white",
            "showbackground": true,
            "ticks": "",
            "zerolinecolor": "white"
           },
           "zaxis": {
            "backgroundcolor": "#E5ECF6",
            "gridcolor": "white",
            "gridwidth": 2,
            "linecolor": "white",
            "showbackground": true,
            "ticks": "",
            "zerolinecolor": "white"
           }
          },
          "shapedefaults": {
           "line": {
            "color": "#2a3f5f"
           }
          },
          "ternary": {
           "aaxis": {
            "gridcolor": "white",
            "linecolor": "white",
            "ticks": ""
           },
           "baxis": {
            "gridcolor": "white",
            "linecolor": "white",
            "ticks": ""
           },
           "bgcolor": "#E5ECF6",
           "caxis": {
            "gridcolor": "white",
            "linecolor": "white",
            "ticks": ""
           }
          },
          "title": {
           "x": 0.05
          },
          "xaxis": {
           "automargin": true,
           "gridcolor": "white",
           "linecolor": "white",
           "ticks": "",
           "title": {
            "standoff": 15
           },
           "zerolinecolor": "white",
           "zerolinewidth": 2
          },
          "yaxis": {
           "automargin": true,
           "gridcolor": "white",
           "linecolor": "white",
           "ticks": "",
           "title": {
            "standoff": 15
           },
           "zerolinecolor": "white",
           "zerolinewidth": 2
          }
         }
        },
        "title": {
         "text": "<B>Futures Market Data (last 30 days)</B>",
         "x": 0.5
        },
        "width": 1500,
        "xaxis": {
         "anchor": "y",
         "domain": [
          0,
          1
         ],
         "matches": "x3",
         "showticklabels": false
        },
        "xaxis2": {
         "anchor": "y2",
         "domain": [
          0,
          1
         ],
         "matches": "x3",
         "showticklabels": false
        },
        "xaxis3": {
         "anchor": "y3",
         "domain": [
          0,
          1
         ]
        },
        "yaxis": {
         "anchor": "x",
         "domain": [
          0.6733333333333333,
          1
         ]
        },
        "yaxis2": {
         "anchor": "x2",
         "domain": [
          0.33666666666666667,
          0.6633333333333333
         ]
        },
        "yaxis3": {
         "anchor": "x3",
         "domain": [
          0,
          0.32666666666666666
         ]
        }
       }
      }
     },
     "metadata": {},
     "output_type": "display_data"
    }
   ],
   "source": [
    "# Create series with average funding rate: (usdt + token) / 2\n",
    "se_mean_funding_rate = round((df_token['mean_funding_rate'] + df_usdt['mean_funding_rate']) / 2, 4)\n",
    "se_weighted_mean_funding_rate = round((df_token['weighted_mean_funding_rate'] + df_usdt['weighted_mean_funding_rate']) / 2, 4)\n",
    "\n",
    "\n",
    "# date filter, gets date from 20 days ago\n",
    "days = 30\n",
    "date_filter = (datetime.datetime.now() - datetime.timedelta(days = days)).strftime('%Y-%m-%d')\n",
    "\n",
    "# Create fig with 3 subplots, 1 for price, 1 for funding rate, 1 for open interest\n",
    "fig = make_subplots(\n",
    "    rows=3, \n",
    "    cols=1,\n",
    "    subplot_titles=('Price', 'Average Funding Rate', 'Open Interest'),\n",
    "    shared_xaxes=True,\n",
    "    vertical_spacing=0.01\n",
    ")\n",
    "\n",
    "# Add price plot\n",
    "fig.add_trace(go.Scatter(x=df_token[date_filter:].index, \n",
    "                         y=df_token[date_filter:]['price'],\n",
    "                         name=\"Price\",\n",
    "                         mode='lines+markers'\n",
    "                         ),\n",
    "              row=1,\n",
    "              col=1\n",
    "             )\n",
    "\n",
    "# Add funding rate plot\n",
    "#fig.add_trace(go.Scatter(x=df_token[date_filter:].index, \n",
    "#                         y=se_mean_funding_rate[date_filter:],\n",
    "#                         name=\"Average Funding Rate\",                         \n",
    "#                         mode='lines+markers'),\n",
    "#              row=2,\n",
    "#              col=1\n",
    "#             )\n",
    "fig.add_trace(go.Bar(x=df_token[date_filter:].index, \n",
    "                         y=se_weighted_mean_funding_rate[date_filter:],\n",
    "                         name=\"Average Funding Rate\",                         \n",
    "                        ),\n",
    "              row=2,\n",
    "              col=1\n",
    "             )\n",
    "\n",
    "fig.add_hline(y=0, row=2, col=1, line_dash=\"dot\", opacity=0.3)\n",
    "fig.add_hline(y=0.01, row=2, col=1, line_dash=\"dot\", opacity=0.3, annotation_text='Baseline')\n",
    "\n",
    "# Add open interest plot\n",
    "fig.add_trace(go.Scatter(x=df_oi[date_filter:].index, \n",
    "                         y=df_oi[date_filter:]['total_open_interest'],\n",
    "                         name=\"Total Open Interest\",                       \n",
    "                         mode='lines+markers'),\n",
    "              row=3,\n",
    "              col=1\n",
    "             )\n",
    "\n",
    "###################\n",
    "# Add annotations #\n",
    "###################\n",
    "\n",
    "# Add annotation to current price\n",
    "fig.add_annotation(x=df_token[date_filter:].index[-1], \n",
    "                   y=df_token[date_filter:]['price'][-1],\n",
    "                   text='<b>{}</b>'.format(round(df_token[date_filter:]['price'][-1])),\n",
    "                   showarrow=False,\n",
    "                   xanchor='left',\n",
    "                   yanchor='bottom',\n",
    "                   row=1, col=1)\n",
    "\n",
    "\n",
    "# Add annotation to current funding rate\n",
    "#fig.add_annotation(x=df_token[date_filter:].index[-1], \n",
    "#                   y=se_mean_funding_rate[date_filter:][-1],\n",
    "#                   text='<b>{}%</b>'.format(se_mean_funding_rate[-1]),\n",
    "#                   showarrow=False,\n",
    "#                   xanchor='left',\n",
    "#                   yanchor='bottom',\n",
    "#                   row=2, col=1)\n",
    "\n",
    "fig.add_annotation(x=df_token[date_filter:].index[-1], \n",
    "                   y=se_weighted_mean_funding_rate[date_filter:][-1],\n",
    "                   text='<b>{}%</b>'.format(se_weighted_mean_funding_rate[-1]),\n",
    "                   showarrow=False,\n",
    "                   xanchor='left',\n",
    "                   yanchor='bottom',\n",
    "                   row=2, col=1)\n",
    "\n",
    "\n",
    "# Add annotation to current open interest\n",
    "fig.add_annotation(x=df_oi[date_filter:].index[-1], \n",
    "                   y=df_oi[date_filter:]['total_open_interest'][-1],\n",
    "                   text='<b>{}</b>'.format(numerize.numerize(df_oi[date_filter:]['total_open_interest'][-1])),\n",
    "                   showarrow=False,\n",
    "                   xanchor='left',\n",
    "                   yanchor='bottom',\n",
    "                   row=3, col=1)\n",
    "\n",
    "\n",
    "# Add Title and height\n",
    "fig.update_layout(legend=dict(y=0.5, font_size=12), \n",
    "                  height=1200, \n",
    "                  width=1500,\n",
    "                  title='<B>Futures Market Data (last {} days)</B>'.format(days),\n",
    "                  title_x=0.5)\n",
    "\n",
    "\n",
    "fig.show()\n",
    "\n",
    "\n"
   ]
  },
  {
   "cell_type": "markdown",
   "id": "7e73019c",
   "metadata": {},
   "source": [
    "# Hourly funding rate "
   ]
  },
  {
   "cell_type": "code",
   "execution_count": 5,
   "id": "035d3405",
   "metadata": {},
   "outputs": [
    {
     "name": "stderr",
     "output_type": "stream",
     "text": [
      "Unknown exception: q must be exactly 160, 224, or 256 bits long\n",
      "Traceback (most recent call last):\n",
      "  File \"C:\\Users\\gusta\\AppData\\Roaming\\Python\\Python310\\site-packages\\paramiko\\transport.py\", line 2164, in run\n",
      "    handler(self.auth_handler, m)\n",
      "  File \"C:\\Users\\gusta\\AppData\\Roaming\\Python\\Python310\\site-packages\\paramiko\\auth_handler.py\", line 395, in _parse_service_accept\n",
      "    sig = self.private_key.sign_ssh_data(blob, algorithm)\n",
      "  File \"C:\\Users\\gusta\\AppData\\Roaming\\Python\\Python310\\site-packages\\paramiko\\dsskey.py\", line 109, in sign_ssh_data\n",
      "    key = dsa.DSAPrivateNumbers(\n",
      "  File \"C:\\Users\\gusta\\AppData\\Roaming\\Python\\Python310\\site-packages\\cryptography\\hazmat\\primitives\\asymmetric\\dsa.py\", line 242, in private_key\n",
      "    return ossl.load_dsa_private_numbers(self)\n",
      "  File \"C:\\Users\\gusta\\AppData\\Roaming\\Python\\Python310\\site-packages\\cryptography\\hazmat\\backends\\openssl\\backend.py\", line 843, in load_dsa_private_numbers\n",
      "    dsa._check_dsa_private_numbers(numbers)\n",
      "  File \"C:\\Users\\gusta\\AppData\\Roaming\\Python\\Python310\\site-packages\\cryptography\\hazmat\\primitives\\asymmetric\\dsa.py\", line 283, in _check_dsa_private_numbers\n",
      "    _check_dsa_parameters(parameters)\n",
      "  File \"C:\\Users\\gusta\\AppData\\Roaming\\Python\\Python310\\site-packages\\cryptography\\hazmat\\primitives\\asymmetric\\dsa.py\", line 275, in _check_dsa_parameters\n",
      "    raise ValueError(\"q must be exactly 160, 224, or 256 bits long\")\n",
      "ValueError: q must be exactly 160, 224, or 256 bits long\n",
      "\n"
     ]
    },
    {
     "ename": "ValueError",
     "evalue": "q must be exactly 160, 224, or 256 bits long",
     "output_type": "error",
     "traceback": [
      "\u001b[1;31m---------------------------------------------------------------------------\u001b[0m",
      "\u001b[1;31mValueError\u001b[0m                                Traceback (most recent call last)",
      "\u001b[1;32mc:\\Users\\gusta\\Documents\\workspace\\btc_futures_data\\market_data.ipynb Cell 8\u001b[0m in \u001b[0;36m<cell line: 1>\u001b[1;34m()\u001b[0m\n\u001b[1;32m----> <a href='vscode-notebook-cell:/c%3A/Users/gusta/Documents/workspace/btc_futures_data/market_data.ipynb#X10sZmlsZQ%3D%3D?line=0'>1</a>\u001b[0m df \u001b[39m=\u001b[39m read_csv_sftp(\u001b[39m'\u001b[39;49m\u001b[39m34.65.3.51\u001b[39;49m\u001b[39m'\u001b[39;49m, \u001b[39m'\u001b[39;49m\u001b[39m/home/gustavo/btc_futures_data/hour_funding_rate.csv\u001b[39;49m\u001b[39m'\u001b[39;49m)\n\u001b[0;32m      <a href='vscode-notebook-cell:/c%3A/Users/gusta/Documents/workspace/btc_futures_data/market_data.ipynb#X10sZmlsZQ%3D%3D?line=1'>2</a>\u001b[0m \u001b[39m#df = pd.read_csv('hourly_funding_rate.csv')\u001b[39;00m\n\u001b[0;32m      <a href='vscode-notebook-cell:/c%3A/Users/gusta/Documents/workspace/btc_futures_data/market_data.ipynb#X10sZmlsZQ%3D%3D?line=3'>4</a>\u001b[0m df[\u001b[39m'\u001b[39m\u001b[39mdate\u001b[39m\u001b[39m'\u001b[39m] \u001b[39m=\u001b[39m pd\u001b[39m.\u001b[39mto_datetime(df[\u001b[39m'\u001b[39m\u001b[39mdate\u001b[39m\u001b[39m'\u001b[39m])\n",
      "File \u001b[1;32mc:\\Users\\gusta\\Documents\\workspace\\btc_futures_data\\functions.py:114\u001b[0m, in \u001b[0;36mread_csv_sftp\u001b[1;34m(hostname, remotepath, *args, **kwargs)\u001b[0m\n\u001b[0;32m    112\u001b[0m client \u001b[39m=\u001b[39m paramiko\u001b[39m.\u001b[39mSSHClient()\n\u001b[0;32m    113\u001b[0m client\u001b[39m.\u001b[39mset_missing_host_key_policy(paramiko\u001b[39m.\u001b[39mAutoAddPolicy())\n\u001b[1;32m--> 114\u001b[0m client\u001b[39m.\u001b[39;49mconnect(hostname, key_filename\u001b[39m=\u001b[39;49m\u001b[39m\"\u001b[39;49m\u001b[39mC:\u001b[39;49m\u001b[39m\\\\\u001b[39;49;00m\u001b[39mUsers\u001b[39;49m\u001b[39m\\\\\u001b[39;49;00m\u001b[39mgusta\u001b[39;49m\u001b[39m\\\\\u001b[39;49;00m\u001b[39m.ssh\u001b[39;49m\u001b[39m\\\\\u001b[39;49;00m\u001b[39mgcp\u001b[39;49m\u001b[39m\"\u001b[39;49m)\n\u001b[0;32m    115\u001b[0m \u001b[39m# read the file using SFTP\u001b[39;00m\n\u001b[0;32m    116\u001b[0m sftp \u001b[39m=\u001b[39m client\u001b[39m.\u001b[39mopen_sftp()\n",
      "File \u001b[1;32m~\\AppData\\Roaming\\Python\\Python310\\site-packages\\paramiko\\client.py:435\u001b[0m, in \u001b[0;36mSSHClient.connect\u001b[1;34m(self, hostname, port, username, password, pkey, key_filename, timeout, allow_agent, look_for_keys, compress, sock, gss_auth, gss_kex, gss_deleg_creds, gss_host, banner_timeout, auth_timeout, gss_trust_dns, passphrase, disabled_algorithms)\u001b[0m\n\u001b[0;32m    432\u001b[0m \u001b[39melse\u001b[39;00m:\n\u001b[0;32m    433\u001b[0m     key_filenames \u001b[39m=\u001b[39m key_filename\n\u001b[1;32m--> 435\u001b[0m \u001b[39mself\u001b[39;49m\u001b[39m.\u001b[39;49m_auth(\n\u001b[0;32m    436\u001b[0m     username,\n\u001b[0;32m    437\u001b[0m     password,\n\u001b[0;32m    438\u001b[0m     pkey,\n\u001b[0;32m    439\u001b[0m     key_filenames,\n\u001b[0;32m    440\u001b[0m     allow_agent,\n\u001b[0;32m    441\u001b[0m     look_for_keys,\n\u001b[0;32m    442\u001b[0m     gss_auth,\n\u001b[0;32m    443\u001b[0m     gss_kex,\n\u001b[0;32m    444\u001b[0m     gss_deleg_creds,\n\u001b[0;32m    445\u001b[0m     t\u001b[39m.\u001b[39;49mgss_host,\n\u001b[0;32m    446\u001b[0m     passphrase,\n\u001b[0;32m    447\u001b[0m )\n",
      "File \u001b[1;32m~\\AppData\\Roaming\\Python\\Python310\\site-packages\\paramiko\\client.py:682\u001b[0m, in \u001b[0;36mSSHClient._auth\u001b[1;34m(self, username, password, pkey, key_filenames, allow_agent, look_for_keys, gss_auth, gss_kex, gss_deleg_creds, gss_host, passphrase)\u001b[0m\n\u001b[0;32m    677\u001b[0m \u001b[39mtry\u001b[39;00m:\n\u001b[0;32m    678\u001b[0m     key \u001b[39m=\u001b[39m \u001b[39mself\u001b[39m\u001b[39m.\u001b[39m_key_from_filepath(\n\u001b[0;32m    679\u001b[0m         key_filename, pkey_class, passphrase\n\u001b[0;32m    680\u001b[0m     )\n\u001b[0;32m    681\u001b[0m     allowed_types \u001b[39m=\u001b[39m \u001b[39mset\u001b[39m(\n\u001b[1;32m--> 682\u001b[0m         \u001b[39mself\u001b[39;49m\u001b[39m.\u001b[39;49m_transport\u001b[39m.\u001b[39;49mauth_publickey(username, key)\n\u001b[0;32m    683\u001b[0m     )\n\u001b[0;32m    684\u001b[0m     two_factor \u001b[39m=\u001b[39m allowed_types \u001b[39m&\u001b[39m two_factor_types\n\u001b[0;32m    685\u001b[0m     \u001b[39mif\u001b[39;00m \u001b[39mnot\u001b[39;00m two_factor:\n",
      "File \u001b[1;32m~\\AppData\\Roaming\\Python\\Python310\\site-packages\\paramiko\\transport.py:1635\u001b[0m, in \u001b[0;36mTransport.auth_publickey\u001b[1;34m(self, username, key, event)\u001b[0m\n\u001b[0;32m   1632\u001b[0m \u001b[39mif\u001b[39;00m event \u001b[39mis\u001b[39;00m \u001b[39mnot\u001b[39;00m \u001b[39mNone\u001b[39;00m:\n\u001b[0;32m   1633\u001b[0m     \u001b[39m# caller wants to wait for event themselves\u001b[39;00m\n\u001b[0;32m   1634\u001b[0m     \u001b[39mreturn\u001b[39;00m []\n\u001b[1;32m-> 1635\u001b[0m \u001b[39mreturn\u001b[39;00m \u001b[39mself\u001b[39;49m\u001b[39m.\u001b[39;49mauth_handler\u001b[39m.\u001b[39;49mwait_for_response(my_event)\n",
      "File \u001b[1;32m~\\AppData\\Roaming\\Python\\Python310\\site-packages\\paramiko\\auth_handler.py:245\u001b[0m, in \u001b[0;36mAuthHandler.wait_for_response\u001b[1;34m(self, event)\u001b[0m\n\u001b[0;32m    243\u001b[0m     \u001b[39mif\u001b[39;00m (e \u001b[39mis\u001b[39;00m \u001b[39mNone\u001b[39;00m) \u001b[39mor\u001b[39;00m \u001b[39missubclass\u001b[39m(e\u001b[39m.\u001b[39m\u001b[39m__class__\u001b[39m, \u001b[39mEOFError\u001b[39;00m):\n\u001b[0;32m    244\u001b[0m         e \u001b[39m=\u001b[39m AuthenticationException(\u001b[39m\"\u001b[39m\u001b[39mAuthentication failed.\u001b[39m\u001b[39m\"\u001b[39m)\n\u001b[1;32m--> 245\u001b[0m     \u001b[39mraise\u001b[39;00m e\n\u001b[0;32m    246\u001b[0m \u001b[39mif\u001b[39;00m event\u001b[39m.\u001b[39mis_set():\n\u001b[0;32m    247\u001b[0m     \u001b[39mbreak\u001b[39;00m\n",
      "File \u001b[1;32m~\\AppData\\Roaming\\Python\\Python310\\site-packages\\paramiko\\transport.py:2164\u001b[0m, in \u001b[0;36mTransport.run\u001b[1;34m(self)\u001b[0m\n\u001b[0;32m   2159\u001b[0m \u001b[39melif\u001b[39;00m (\n\u001b[0;32m   2160\u001b[0m     \u001b[39mself\u001b[39m\u001b[39m.\u001b[39mauth_handler \u001b[39mis\u001b[39;00m \u001b[39mnot\u001b[39;00m \u001b[39mNone\u001b[39;00m\n\u001b[0;32m   2161\u001b[0m     \u001b[39mand\u001b[39;00m ptype \u001b[39min\u001b[39;00m \u001b[39mself\u001b[39m\u001b[39m.\u001b[39mauth_handler\u001b[39m.\u001b[39m_handler_table\n\u001b[0;32m   2162\u001b[0m ):\n\u001b[0;32m   2163\u001b[0m     handler \u001b[39m=\u001b[39m \u001b[39mself\u001b[39m\u001b[39m.\u001b[39mauth_handler\u001b[39m.\u001b[39m_handler_table[ptype]\n\u001b[1;32m-> 2164\u001b[0m     handler(\u001b[39mself\u001b[39;49m\u001b[39m.\u001b[39;49mauth_handler, m)\n\u001b[0;32m   2165\u001b[0m     \u001b[39mif\u001b[39;00m \u001b[39mlen\u001b[39m(\u001b[39mself\u001b[39m\u001b[39m.\u001b[39m_expected_packet) \u001b[39m>\u001b[39m \u001b[39m0\u001b[39m:\n\u001b[0;32m   2166\u001b[0m         \u001b[39mcontinue\u001b[39;00m\n",
      "File \u001b[1;32m~\\AppData\\Roaming\\Python\\Python310\\site-packages\\paramiko\\auth_handler.py:395\u001b[0m, in \u001b[0;36mAuthHandler._parse_service_accept\u001b[1;34m(self, m)\u001b[0m\n\u001b[0;32m    388\u001b[0m     m\u001b[39m.\u001b[39madd_string(bits)\n\u001b[0;32m    389\u001b[0m     blob \u001b[39m=\u001b[39m \u001b[39mself\u001b[39m\u001b[39m.\u001b[39m_get_session_blob(\n\u001b[0;32m    390\u001b[0m         \u001b[39mself\u001b[39m\u001b[39m.\u001b[39mprivate_key,\n\u001b[0;32m    391\u001b[0m         \u001b[39m\"\u001b[39m\u001b[39mssh-connection\u001b[39m\u001b[39m\"\u001b[39m,\n\u001b[0;32m    392\u001b[0m         \u001b[39mself\u001b[39m\u001b[39m.\u001b[39musername,\n\u001b[0;32m    393\u001b[0m         algorithm,\n\u001b[0;32m    394\u001b[0m     )\n\u001b[1;32m--> 395\u001b[0m     sig \u001b[39m=\u001b[39m \u001b[39mself\u001b[39;49m\u001b[39m.\u001b[39;49mprivate_key\u001b[39m.\u001b[39;49msign_ssh_data(blob, algorithm)\n\u001b[0;32m    396\u001b[0m     m\u001b[39m.\u001b[39madd_string(sig)\n\u001b[0;32m    397\u001b[0m \u001b[39melif\u001b[39;00m \u001b[39mself\u001b[39m\u001b[39m.\u001b[39mauth_method \u001b[39m==\u001b[39m \u001b[39m\"\u001b[39m\u001b[39mkeyboard-interactive\u001b[39m\u001b[39m\"\u001b[39m:\n",
      "File \u001b[1;32m~\\AppData\\Roaming\\Python\\Python310\\site-packages\\paramiko\\dsskey.py:109\u001b[0m, in \u001b[0;36mDSSKey.sign_ssh_data\u001b[1;34m(self, data, algorithm)\u001b[0m\n\u001b[0;32m    108\u001b[0m \u001b[39mdef\u001b[39;00m \u001b[39msign_ssh_data\u001b[39m(\u001b[39mself\u001b[39m, data, algorithm\u001b[39m=\u001b[39m\u001b[39mNone\u001b[39;00m):\n\u001b[1;32m--> 109\u001b[0m     key \u001b[39m=\u001b[39m dsa\u001b[39m.\u001b[39;49mDSAPrivateNumbers(\n\u001b[0;32m    110\u001b[0m         x\u001b[39m=\u001b[39;49m\u001b[39mself\u001b[39;49m\u001b[39m.\u001b[39;49mx,\n\u001b[0;32m    111\u001b[0m         public_numbers\u001b[39m=\u001b[39;49mdsa\u001b[39m.\u001b[39;49mDSAPublicNumbers(\n\u001b[0;32m    112\u001b[0m             y\u001b[39m=\u001b[39;49m\u001b[39mself\u001b[39;49m\u001b[39m.\u001b[39;49my,\n\u001b[0;32m    113\u001b[0m             parameter_numbers\u001b[39m=\u001b[39;49mdsa\u001b[39m.\u001b[39;49mDSAParameterNumbers(\n\u001b[0;32m    114\u001b[0m                 p\u001b[39m=\u001b[39;49m\u001b[39mself\u001b[39;49m\u001b[39m.\u001b[39;49mp, q\u001b[39m=\u001b[39;49m\u001b[39mself\u001b[39;49m\u001b[39m.\u001b[39;49mq, g\u001b[39m=\u001b[39;49m\u001b[39mself\u001b[39;49m\u001b[39m.\u001b[39;49mg\n\u001b[0;32m    115\u001b[0m             ),\n\u001b[0;32m    116\u001b[0m         ),\n\u001b[0;32m    117\u001b[0m     )\u001b[39m.\u001b[39;49mprivate_key(backend\u001b[39m=\u001b[39;49mdefault_backend())\n\u001b[0;32m    118\u001b[0m     sig \u001b[39m=\u001b[39m key\u001b[39m.\u001b[39msign(data, hashes\u001b[39m.\u001b[39mSHA1())\n\u001b[0;32m    119\u001b[0m     r, s \u001b[39m=\u001b[39m decode_dss_signature(sig)\n",
      "File \u001b[1;32m~\\AppData\\Roaming\\Python\\Python310\\site-packages\\cryptography\\hazmat\\primitives\\asymmetric\\dsa.py:242\u001b[0m, in \u001b[0;36mDSAPrivateNumbers.private_key\u001b[1;34m(self, backend)\u001b[0m\n\u001b[0;32m    237\u001b[0m \u001b[39mdef\u001b[39;00m \u001b[39mprivate_key\u001b[39m(\u001b[39mself\u001b[39m, backend: typing\u001b[39m.\u001b[39mAny \u001b[39m=\u001b[39m \u001b[39mNone\u001b[39;00m) \u001b[39m-\u001b[39m\u001b[39m>\u001b[39m DSAPrivateKey:\n\u001b[0;32m    238\u001b[0m     \u001b[39mfrom\u001b[39;00m \u001b[39mcryptography\u001b[39;00m\u001b[39m.\u001b[39;00m\u001b[39mhazmat\u001b[39;00m\u001b[39m.\u001b[39;00m\u001b[39mbackends\u001b[39;00m\u001b[39m.\u001b[39;00m\u001b[39mopenssl\u001b[39;00m\u001b[39m.\u001b[39;00m\u001b[39mbackend\u001b[39;00m \u001b[39mimport\u001b[39;00m (\n\u001b[0;32m    239\u001b[0m         backend \u001b[39mas\u001b[39;00m ossl,\n\u001b[0;32m    240\u001b[0m     )\n\u001b[1;32m--> 242\u001b[0m     \u001b[39mreturn\u001b[39;00m ossl\u001b[39m.\u001b[39;49mload_dsa_private_numbers(\u001b[39mself\u001b[39;49m)\n",
      "File \u001b[1;32m~\\AppData\\Roaming\\Python\\Python310\\site-packages\\cryptography\\hazmat\\backends\\openssl\\backend.py:843\u001b[0m, in \u001b[0;36mBackend.load_dsa_private_numbers\u001b[1;34m(self, numbers)\u001b[0m\n\u001b[0;32m    840\u001b[0m \u001b[39mdef\u001b[39;00m \u001b[39mload_dsa_private_numbers\u001b[39m(\n\u001b[0;32m    841\u001b[0m     \u001b[39mself\u001b[39m, numbers: dsa\u001b[39m.\u001b[39mDSAPrivateNumbers\n\u001b[0;32m    842\u001b[0m ) \u001b[39m-\u001b[39m\u001b[39m>\u001b[39m dsa\u001b[39m.\u001b[39mDSAPrivateKey:\n\u001b[1;32m--> 843\u001b[0m     dsa\u001b[39m.\u001b[39;49m_check_dsa_private_numbers(numbers)\n\u001b[0;32m    844\u001b[0m     parameter_numbers \u001b[39m=\u001b[39m numbers\u001b[39m.\u001b[39mpublic_numbers\u001b[39m.\u001b[39mparameter_numbers\n\u001b[0;32m    846\u001b[0m     dsa_cdata \u001b[39m=\u001b[39m \u001b[39mself\u001b[39m\u001b[39m.\u001b[39m_lib\u001b[39m.\u001b[39mDSA_new()\n",
      "File \u001b[1;32m~\\AppData\\Roaming\\Python\\Python310\\site-packages\\cryptography\\hazmat\\primitives\\asymmetric\\dsa.py:283\u001b[0m, in \u001b[0;36m_check_dsa_private_numbers\u001b[1;34m(numbers)\u001b[0m\n\u001b[0;32m    281\u001b[0m \u001b[39mdef\u001b[39;00m \u001b[39m_check_dsa_private_numbers\u001b[39m(numbers: DSAPrivateNumbers) \u001b[39m-\u001b[39m\u001b[39m>\u001b[39m \u001b[39mNone\u001b[39;00m:\n\u001b[0;32m    282\u001b[0m     parameters \u001b[39m=\u001b[39m numbers\u001b[39m.\u001b[39mpublic_numbers\u001b[39m.\u001b[39mparameter_numbers\n\u001b[1;32m--> 283\u001b[0m     _check_dsa_parameters(parameters)\n\u001b[0;32m    284\u001b[0m     \u001b[39mif\u001b[39;00m numbers\u001b[39m.\u001b[39mx \u001b[39m<\u001b[39m\u001b[39m=\u001b[39m \u001b[39m0\u001b[39m \u001b[39mor\u001b[39;00m numbers\u001b[39m.\u001b[39mx \u001b[39m>\u001b[39m\u001b[39m=\u001b[39m parameters\u001b[39m.\u001b[39mq:\n\u001b[0;32m    285\u001b[0m         \u001b[39mraise\u001b[39;00m \u001b[39mValueError\u001b[39;00m(\u001b[39m\"\u001b[39m\u001b[39mx must be > 0 and < q.\u001b[39m\u001b[39m\"\u001b[39m)\n",
      "File \u001b[1;32m~\\AppData\\Roaming\\Python\\Python310\\site-packages\\cryptography\\hazmat\\primitives\\asymmetric\\dsa.py:275\u001b[0m, in \u001b[0;36m_check_dsa_parameters\u001b[1;34m(parameters)\u001b[0m\n\u001b[0;32m    271\u001b[0m     \u001b[39mraise\u001b[39;00m \u001b[39mValueError\u001b[39;00m(\n\u001b[0;32m    272\u001b[0m         \u001b[39m\"\u001b[39m\u001b[39mp must be exactly 1024, 2048, 3072, or 4096 bits long\u001b[39m\u001b[39m\"\u001b[39m\n\u001b[0;32m    273\u001b[0m     )\n\u001b[0;32m    274\u001b[0m \u001b[39mif\u001b[39;00m parameters\u001b[39m.\u001b[39mq\u001b[39m.\u001b[39mbit_length() \u001b[39mnot\u001b[39;00m \u001b[39min\u001b[39;00m [\u001b[39m160\u001b[39m, \u001b[39m224\u001b[39m, \u001b[39m256\u001b[39m]:\n\u001b[1;32m--> 275\u001b[0m     \u001b[39mraise\u001b[39;00m \u001b[39mValueError\u001b[39;00m(\u001b[39m\"\u001b[39m\u001b[39mq must be exactly 160, 224, or 256 bits long\u001b[39m\u001b[39m\"\u001b[39m)\n\u001b[0;32m    277\u001b[0m \u001b[39mif\u001b[39;00m \u001b[39mnot\u001b[39;00m (\u001b[39m1\u001b[39m \u001b[39m<\u001b[39m parameters\u001b[39m.\u001b[39mg \u001b[39m<\u001b[39m parameters\u001b[39m.\u001b[39mp):\n\u001b[0;32m    278\u001b[0m     \u001b[39mraise\u001b[39;00m \u001b[39mValueError\u001b[39;00m(\u001b[39m\"\u001b[39m\u001b[39mg, p don\u001b[39m\u001b[39m'\u001b[39m\u001b[39mt satisfy 1 < g < p.\u001b[39m\u001b[39m\"\u001b[39m)\n",
      "\u001b[1;31mValueError\u001b[0m: q must be exactly 160, 224, or 256 bits long"
     ]
    }
   ],
   "source": [
    "df = read_csv_sftp('34.65.3.51', 'gustavo', '/home/gustavo/btc_futures_data/hour_funding_rate.csv')\n",
    "#df = pd.read_csv('hourly_funding_rate.csv')\n",
    "\n",
    "df['date'] = pd.to_datetime(df['date'])\n",
    "df['date'] = df['date'].dt.tz_localize('UTC').dt.tz_convert('Europe/Budapest')\n",
    "\n",
    "df.set_index('date', inplace=True)\n",
    "\n",
    "#df.head()\n",
    "\n",
    "mask_usdt = df['type'] == 'USDT'\n",
    "mask_token = df['type'] == 'TOKEN'\n",
    "\n",
    "se_usdt_weighted_mean_funding_rate = df[mask_usdt]['weighted_mean_funding_rate']\n",
    "se_token_weighted_mean_funding_rate = df[mask_token]['weighted_mean_funding_rate']\n",
    "\n",
    "se_weighted_mean_funding_rate = round((se_token_weighted_mean_funding_rate + se_usdt_weighted_mean_funding_rate) / 2, 4)\n",
    "\n",
    "\n",
    "# Chart config\n",
    "\n",
    "# date filter, gets date from 20 days ago\n",
    "days = 20\n",
    "date_filter = (datetime.datetime.now() - datetime.timedelta(days = days)).strftime('%Y-%m-%d')\n",
    "\n",
    "# Instantiate fig with 2 y axis\n",
    "fig = make_subplots(specs=[[{\"secondary_y\": True}]])\n",
    "\n",
    "# Add price plot\n",
    "fig.add_trace(go.Scatter(x=df[mask_usdt][date_filter:].index, \n",
    "                         y=df[mask_usdt][date_filter:]['price'],\n",
    "                         name=\"Price\",\n",
    "                         mode='lines+markers',\n",
    "                         ),\n",
    "                         secondary_y=True,\n",
    "                         \n",
    "             )\n",
    "\n",
    "# Add funding rate plot\n",
    "fig.add_trace(go.Bar(x=df[mask_usdt][date_filter:].index, \n",
    "                         y=se_weighted_mean_funding_rate[date_filter:],\n",
    "                         name=\"Weighted Average Funding Rate\"            \n",
    "                        ),\n",
    "                        secondary_y=False\n",
    "                        \n",
    "             )\n",
    "\n",
    "# Change axis ranges\n",
    "fig.update_yaxes(range=[df['price'].min() - 500 , df['price'].max() + 500], secondary_y=True)\n",
    "fig.update_yaxes(range=[-0.02, 0.02], secondary_y=False)\n",
    "\n",
    "# Add horizontal line\n",
    "fig.add_hline(y=0.01, line_dash=\"dot\", opacity=0.3, annotation_text='Baseline')\n",
    "\n",
    "# Change color of primary y axis\n",
    "fig.update_traces(marker_color='yellowgreen', secondary_y=False)\n",
    "fig.update_traces(marker_color='black', secondary_y=True)\n",
    "\n",
    "# Add annotation to current funding rate\n",
    "fig.add_annotation(x=df[mask_usdt][date_filter:].index[-1], \n",
    "                   y=se_weighted_mean_funding_rate[date_filter:][-1],\n",
    "                   text='<b>{}%</b>'.format(se_weighted_mean_funding_rate[-1]),\n",
    "                   showarrow=False,\n",
    "                   xanchor='left',\n",
    "                   yanchor='bottom',\n",
    "                   )\n",
    "\n",
    "\n",
    "# Add Title and height\n",
    "fig.update_layout(legend=dict(y=0.5, font_size=12), \n",
    "                  height=1200, \n",
    "                  width=1800,\n",
    "                  title='<B>Hourly Funding Rate Data (last {} days)</B>'.format(days),\n",
    "                  title_x=0.5,\n",
    "                  )\n",
    "\n",
    "\n",
    "\n",
    "fig.show()"
   ]
  },
  {
   "cell_type": "code",
   "execution_count": 6,
   "id": "622992e3",
   "metadata": {},
   "outputs": [
    {
     "data": {
      "application/vnd.plotly.v1+json": {
       "config": {
        "plotlyServerURL": "https://plot.ly"
       },
       "data": [
        {
         "marker": {
          "color": "black"
         },
         "mode": "lines+markers",
         "name": "Price",
         "type": "scatter",
         "x": [
          "2022-10-06T13:00:00+02:00",
          "2022-10-06T13:05:00+02:00",
          "2022-10-06T13:10:00+02:00",
          "2022-10-06T13:15:00+02:00",
          "2022-10-06T13:20:00+02:00",
          "2022-10-06T13:25:00+02:00",
          "2022-10-06T13:30:00+02:00",
          "2022-10-06T13:35:00+02:00",
          "2022-10-06T13:40:00+02:00",
          "2022-10-06T13:45:00+02:00",
          "2022-10-06T13:50:00+02:00",
          "2022-10-06T13:55:00+02:00",
          "2022-10-06T14:00:00+02:00",
          "2022-10-06T14:05:00+02:00",
          "2022-10-06T14:10:00+02:00",
          "2022-10-06T14:15:00+02:00",
          "2022-10-06T14:20:00+02:00",
          "2022-10-06T14:25:00+02:00",
          "2022-10-06T14:30:00+02:00",
          "2022-10-06T14:35:00+02:00",
          "2022-10-06T14:40:00+02:00",
          "2022-10-06T14:45:00+02:00",
          "2022-10-06T14:50:00+02:00",
          "2022-10-06T14:55:00+02:00",
          "2022-10-06T15:00:00+02:00",
          "2022-10-06T15:05:00+02:00",
          "2022-10-06T15:10:00+02:00",
          "2022-10-06T15:15:00+02:00",
          "2022-10-06T15:20:00+02:00",
          "2022-10-06T15:25:00+02:00",
          "2022-10-06T15:30:00+02:00",
          "2022-10-06T15:35:00+02:00",
          "2022-10-06T15:40:00+02:00",
          "2022-10-06T15:45:00+02:00",
          "2022-10-06T15:50:00+02:00",
          "2022-10-06T15:55:00+02:00",
          "2022-10-06T16:00:00+02:00",
          "2022-10-06T16:05:00+02:00",
          "2022-10-06T16:10:00+02:00",
          "2022-10-06T16:15:00+02:00",
          "2022-10-06T16:20:00+02:00",
          "2022-10-06T16:25:00+02:00",
          "2022-10-06T16:30:00+02:00",
          "2022-10-06T16:35:00+02:00",
          "2022-10-06T16:40:00+02:00",
          "2022-10-06T16:45:00+02:00",
          "2022-10-06T16:50:00+02:00",
          "2022-10-06T16:55:00+02:00",
          "2022-10-06T17:00:00+02:00",
          "2022-10-06T17:05:00+02:00",
          "2022-10-06T17:10:00+02:00",
          "2022-10-06T17:15:00+02:00",
          "2022-10-06T17:20:00+02:00",
          "2022-10-06T17:25:00+02:00",
          "2022-10-06T17:30:00+02:00",
          "2022-10-06T17:35:00+02:00",
          "2022-10-06T17:40:00+02:00",
          "2022-10-06T17:45:00+02:00",
          "2022-10-06T17:50:00+02:00",
          "2022-10-06T17:55:00+02:00",
          "2022-10-06T18:00:00+02:00",
          "2022-10-06T18:05:00+02:00",
          "2022-10-06T18:10:00+02:00",
          "2022-10-06T18:15:00+02:00",
          "2022-10-06T18:20:00+02:00",
          "2022-10-06T18:25:00+02:00",
          "2022-10-06T18:30:00+02:00",
          "2022-10-06T18:35:00+02:00",
          "2022-10-06T18:40:00+02:00",
          "2022-10-06T18:45:00+02:00",
          "2022-10-06T18:50:00+02:00",
          "2022-10-06T18:55:00+02:00",
          "2022-10-06T19:00:00+02:00",
          "2022-10-06T19:05:00+02:00",
          "2022-10-06T19:10:00+02:00",
          "2022-10-06T19:15:00+02:00",
          "2022-10-06T19:20:00+02:00",
          "2022-10-06T19:25:00+02:00",
          "2022-10-06T19:30:00+02:00",
          "2022-10-06T19:35:00+02:00",
          "2022-10-06T19:40:00+02:00",
          "2022-10-06T19:45:00+02:00",
          "2022-10-06T19:50:00+02:00",
          "2022-10-06T19:55:00+02:00",
          "2022-10-06T20:00:00+02:00",
          "2022-10-06T20:05:00+02:00",
          "2022-10-06T20:10:00+02:00",
          "2022-10-06T20:15:00+02:00",
          "2022-10-06T20:20:00+02:00",
          "2022-10-06T20:25:00+02:00",
          "2022-10-06T20:30:00+02:00",
          "2022-10-06T20:35:00+02:00",
          "2022-10-06T20:40:00+02:00",
          "2022-10-06T20:45:00+02:00",
          "2022-10-06T20:50:00+02:00",
          "2022-10-06T20:55:00+02:00",
          "2022-10-06T21:00:00+02:00",
          "2022-10-06T21:05:00+02:00",
          "2022-10-06T21:10:00+02:00",
          "2022-10-06T21:15:00+02:00",
          "2022-10-06T21:20:00+02:00",
          "2022-10-06T21:25:00+02:00",
          "2022-10-06T21:30:00+02:00",
          "2022-10-06T21:35:00+02:00",
          "2022-10-06T21:40:00+02:00",
          "2022-10-06T21:45:00+02:00",
          "2022-10-06T21:50:00+02:00",
          "2022-10-06T21:55:00+02:00",
          "2022-10-06T22:00:00+02:00",
          "2022-10-06T22:05:00+02:00",
          "2022-10-06T22:10:00+02:00",
          "2022-10-06T22:15:00+02:00",
          "2022-10-06T22:20:00+02:00",
          "2022-10-06T22:25:00+02:00",
          "2022-10-06T22:30:00+02:00",
          "2022-10-06T22:35:00+02:00",
          "2022-10-06T22:40:00+02:00",
          "2022-10-06T22:45:00+02:00",
          "2022-10-06T22:50:00+02:00",
          "2022-10-06T22:55:00+02:00",
          "2022-10-06T23:00:00+02:00",
          "2022-10-06T23:05:00+02:00",
          "2022-10-06T23:10:00+02:00",
          "2022-10-06T23:15:00+02:00",
          "2022-10-06T23:20:00+02:00",
          "2022-10-06T23:25:00+02:00",
          "2022-10-06T23:30:00+02:00",
          "2022-10-06T23:35:00+02:00",
          "2022-10-06T23:40:00+02:00",
          "2022-10-06T23:45:00+02:00",
          "2022-10-06T23:50:00+02:00",
          "2022-10-06T23:55:00+02:00",
          "2022-10-07T00:00:00+02:00",
          "2022-10-07T00:05:00+02:00",
          "2022-10-07T00:10:00+02:00",
          "2022-10-07T00:15:00+02:00",
          "2022-10-07T00:20:00+02:00",
          "2022-10-07T00:25:00+02:00",
          "2022-10-07T00:30:00+02:00",
          "2022-10-07T00:35:00+02:00",
          "2022-10-07T00:40:00+02:00",
          "2022-10-07T00:45:00+02:00",
          "2022-10-07T00:50:00+02:00",
          "2022-10-07T00:55:00+02:00",
          "2022-10-07T01:00:00+02:00",
          "2022-10-07T01:05:00+02:00",
          "2022-10-07T01:10:00+02:00",
          "2022-10-07T01:15:00+02:00",
          "2022-10-07T01:20:00+02:00",
          "2022-10-07T01:25:00+02:00",
          "2022-10-07T01:30:00+02:00",
          "2022-10-07T01:35:00+02:00",
          "2022-10-07T01:40:00+02:00",
          "2022-10-07T01:45:00+02:00",
          "2022-10-07T01:50:00+02:00",
          "2022-10-07T01:55:00+02:00",
          "2022-10-07T02:00:00+02:00",
          "2022-10-07T02:05:00+02:00",
          "2022-10-07T02:10:00+02:00",
          "2022-10-07T02:15:00+02:00",
          "2022-10-07T02:20:00+02:00",
          "2022-10-07T02:25:00+02:00",
          "2022-10-07T02:30:00+02:00",
          "2022-10-07T02:35:00+02:00",
          "2022-10-07T02:40:00+02:00",
          "2022-10-07T02:45:00+02:00",
          "2022-10-07T02:50:00+02:00",
          "2022-10-07T02:55:00+02:00",
          "2022-10-07T03:00:00+02:00",
          "2022-10-07T03:05:00+02:00",
          "2022-10-07T03:10:00+02:00",
          "2022-10-07T03:15:00+02:00",
          "2022-10-07T03:20:00+02:00",
          "2022-10-07T03:25:00+02:00",
          "2022-10-07T03:30:00+02:00",
          "2022-10-07T03:35:00+02:00",
          "2022-10-07T03:40:00+02:00",
          "2022-10-07T03:45:00+02:00",
          "2022-10-07T03:50:00+02:00",
          "2022-10-07T03:55:00+02:00",
          "2022-10-07T04:00:00+02:00",
          "2022-10-07T04:05:00+02:00",
          "2022-10-07T04:10:00+02:00",
          "2022-10-07T04:15:00+02:00",
          "2022-10-07T04:20:00+02:00",
          "2022-10-07T04:25:00+02:00",
          "2022-10-07T04:30:00+02:00",
          "2022-10-07T04:35:00+02:00",
          "2022-10-07T04:40:00+02:00",
          "2022-10-07T04:45:00+02:00",
          "2022-10-07T04:50:00+02:00",
          "2022-10-07T04:55:00+02:00",
          "2022-10-07T05:00:00+02:00",
          "2022-10-07T05:05:00+02:00",
          "2022-10-07T05:10:00+02:00",
          "2022-10-07T05:15:00+02:00",
          "2022-10-07T05:20:00+02:00",
          "2022-10-07T05:25:00+02:00",
          "2022-10-07T05:30:00+02:00",
          "2022-10-07T05:35:00+02:00",
          "2022-10-07T05:40:00+02:00",
          "2022-10-07T05:45:00+02:00",
          "2022-10-07T05:50:00+02:00",
          "2022-10-07T05:55:00+02:00",
          "2022-10-07T06:00:00+02:00",
          "2022-10-07T06:05:00+02:00",
          "2022-10-07T06:10:00+02:00",
          "2022-10-07T06:15:00+02:00",
          "2022-10-07T06:20:00+02:00",
          "2022-10-07T06:25:00+02:00",
          "2022-10-07T06:30:00+02:00",
          "2022-10-07T06:35:00+02:00",
          "2022-10-07T06:40:00+02:00",
          "2022-10-07T06:45:00+02:00",
          "2022-10-07T06:50:00+02:00",
          "2022-10-07T06:55:00+02:00",
          "2022-10-07T07:00:00+02:00",
          "2022-10-07T07:05:00+02:00",
          "2022-10-07T07:10:00+02:00",
          "2022-10-07T07:15:00+02:00",
          "2022-10-07T07:20:00+02:00",
          "2022-10-07T07:25:00+02:00",
          "2022-10-07T07:30:00+02:00",
          "2022-10-07T07:35:00+02:00",
          "2022-10-07T07:40:00+02:00",
          "2022-10-07T07:45:00+02:00",
          "2022-10-07T07:50:00+02:00",
          "2022-10-07T07:55:00+02:00",
          "2022-10-07T08:00:00+02:00",
          "2022-10-07T08:05:00+02:00",
          "2022-10-07T08:10:00+02:00",
          "2022-10-07T08:15:00+02:00",
          "2022-10-07T08:20:00+02:00",
          "2022-10-07T08:25:00+02:00",
          "2022-10-07T08:30:00+02:00",
          "2022-10-07T08:35:00+02:00",
          "2022-10-07T08:40:00+02:00",
          "2022-10-07T08:45:00+02:00",
          "2022-10-07T08:50:00+02:00",
          "2022-10-07T08:55:00+02:00",
          "2022-10-07T09:00:00+02:00",
          "2022-10-07T09:05:00+02:00",
          "2022-10-07T09:10:00+02:00",
          "2022-10-07T09:15:00+02:00",
          "2022-10-07T09:20:00+02:00",
          "2022-10-07T09:25:00+02:00",
          "2022-10-07T09:30:00+02:00",
          "2022-10-07T09:35:00+02:00",
          "2022-10-07T09:40:00+02:00",
          "2022-10-07T09:45:00+02:00",
          "2022-10-07T09:50:00+02:00",
          "2022-10-07T09:55:00+02:00",
          "2022-10-07T10:00:00+02:00",
          "2022-10-07T10:05:00+02:00",
          "2022-10-07T10:10:00+02:00",
          "2022-10-07T10:15:00+02:00",
          "2022-10-07T10:20:00+02:00",
          "2022-10-07T10:25:00+02:00",
          "2022-10-07T10:30:00+02:00",
          "2022-10-07T10:35:00+02:00",
          "2022-10-07T10:40:00+02:00",
          "2022-10-07T10:45:00+02:00",
          "2022-10-07T10:50:00+02:00",
          "2022-10-07T10:55:00+02:00",
          "2022-10-07T11:00:00+02:00",
          "2022-10-07T11:05:00+02:00",
          "2022-10-07T11:10:00+02:00",
          "2022-10-07T11:15:00+02:00",
          "2022-10-07T11:20:00+02:00",
          "2022-10-07T11:25:00+02:00",
          "2022-10-07T11:30:00+02:00",
          "2022-10-07T11:35:00+02:00",
          "2022-10-07T11:40:00+02:00",
          "2022-10-07T11:45:00+02:00",
          "2022-10-07T11:50:00+02:00",
          "2022-10-07T11:55:00+02:00",
          "2022-10-07T12:00:00+02:00",
          "2022-10-07T12:05:00+02:00",
          "2022-10-07T12:10:00+02:00",
          "2022-10-07T12:15:00+02:00",
          "2022-10-07T12:20:00+02:00",
          "2022-10-07T12:25:00+02:00",
          "2022-10-07T12:30:00+02:00",
          "2022-10-07T12:35:00+02:00",
          "2022-10-07T12:40:00+02:00",
          "2022-10-07T12:45:00+02:00",
          "2022-10-07T12:50:00+02:00",
          "2022-10-07T12:55:00+02:00",
          "2022-10-07T13:00:00+02:00"
         ],
         "xaxis": "x",
         "y": [
          20123.8,
          20154.8,
          20144.5,
          20132.9,
          20143.6,
          20136.9,
          20127.9,
          20167.6,
          20218.1,
          20201,
          20199.3,
          20215.2,
          20236.7,
          20273.8,
          20203.4,
          20226.2,
          20168.1,
          20213,
          20201.4,
          20295.1,
          20302,
          20268.2,
          20208.4,
          20201.9,
          20181.8,
          20120.5,
          20144.9,
          20127.9,
          20111.1,
          20090.1,
          20074.8,
          20150.1,
          20220.6,
          20251.8,
          20166,
          20194.9,
          20106.2,
          20033.3,
          19957.7,
          19941.8,
          19944.6,
          19934.1,
          19879,
          19898.2,
          19934.5,
          20013.5,
          20093.2,
          20063.9,
          20098.3,
          20037,
          20060,
          19990.1,
          20079.7,
          20100.8,
          20090,
          20069.5,
          20064.2,
          20049.9,
          20087.1,
          20090.9,
          20010,
          19992.5,
          19949.3,
          19983.3,
          20015.8,
          20034,
          20058.9,
          20043.9,
          20050.9,
          20081.3,
          20086.7,
          20080.7,
          20051,
          20039.6,
          20020.6,
          20089.9,
          20077.3,
          20085.7,
          20130,
          20087.2,
          20074.6,
          20098.2,
          20129.3,
          20109.5,
          20106.6,
          20069,
          20062.2,
          20079.6,
          20069.2,
          20065.5,
          20069.2,
          20044.7,
          20059.7,
          20044,
          20008.3,
          20018.8,
          20011,
          20005.5,
          20015.2,
          20038.1,
          20026.9,
          20033.4,
          20048,
          20033.8,
          20036.9,
          20030.5,
          20022.7,
          20029.9,
          20003.2,
          20014,
          20018.5,
          20025.6,
          20027.6,
          20048,
          20059.6,
          20045.2,
          20041.3,
          20035.8,
          20027.6,
          20041.7,
          20044.7,
          20023.1,
          20000.6,
          19978.1,
          19971,
          19946.2,
          19949.1,
          19913.4,
          19920,
          19937.1,
          19968.2,
          19942.9,
          19909.7,
          19937.8,
          19924.4,
          19913.3,
          19929.8,
          19924.9,
          19918.5,
          19900,
          19919.6,
          19928.2,
          19914.9,
          19908.2,
          19894.4,
          19896.9,
          19914.6,
          19938.8,
          19953.5,
          19928.9,
          19955.4,
          19962.7,
          19940.8,
          19942.6,
          19940.8,
          19949.8,
          19957.2,
          19948.5,
          19974.7,
          20006.4,
          20027.1,
          20031.8,
          20033.2,
          20007.3,
          20015,
          20012.6,
          19993,
          19996.9,
          19988.8,
          19965.4,
          19986.8,
          19987.1,
          19986.4,
          20009.1,
          20009.5,
          19978.9,
          19996.4,
          20005.8,
          19985.9,
          19991.9,
          19987.8,
          19976.7,
          19972.8,
          19979,
          20010.8,
          20016.5,
          20024.5,
          20025.2,
          20040.4,
          20034.7,
          20023.2,
          20007.7,
          20013.1,
          20011.2,
          20021.2,
          20008,
          20002,
          19986.5,
          19993.7,
          19985.8,
          19997.6,
          20013,
          19997.7,
          19990.9,
          19981.9,
          19978.4,
          19983.5,
          19995.2,
          19987.9,
          19996.2,
          19993.9,
          19967.7,
          19975.8,
          19966.5,
          19970.7,
          19969.9,
          19935.7,
          19908.1,
          19934.4,
          19920.1,
          19931.4,
          19948.5,
          19942.5,
          19942.4,
          19965.6,
          19972.2,
          19974.6,
          19967.9,
          19963.5,
          19946.6,
          19962.5,
          19953.6,
          19935,
          19900.8,
          19819.9,
          19847.3,
          19860.4,
          19851.4,
          19863.2,
          19857.5,
          19847.4,
          19880,
          19908.9,
          19901,
          19919.7,
          19910,
          19893.7,
          19907.8,
          19922,
          19924.2,
          19935.6,
          19931,
          19923.1,
          19929.8,
          19938.5,
          19954.9,
          19975.2,
          19982,
          19959.7,
          19988.2,
          19988.1,
          19985.4,
          19975,
          19966.1,
          19966.8,
          19980.4,
          19976.4,
          19993,
          20002.7,
          20000.3,
          19980,
          19996.4,
          19980.6,
          19973.6,
          19956.2,
          19971.4,
          19972.9,
          19946.1,
          19940.5,
          19932.3,
          19933.5,
          19947.4,
          19939.9,
          19961.8,
          19950.8,
          19948.1,
          19963.4,
          19965,
          19990.1
         ],
         "yaxis": "y2"
        },
        {
         "marker": {
          "color": "yellowgreen"
         },
         "name": "Weighted Average Funding Rate",
         "type": "bar",
         "x": [
          "2022-10-06T13:00:00+02:00",
          "2022-10-06T13:05:00+02:00",
          "2022-10-06T13:10:00+02:00",
          "2022-10-06T13:15:00+02:00",
          "2022-10-06T13:20:00+02:00",
          "2022-10-06T13:25:00+02:00",
          "2022-10-06T13:30:00+02:00",
          "2022-10-06T13:35:00+02:00",
          "2022-10-06T13:40:00+02:00",
          "2022-10-06T13:45:00+02:00",
          "2022-10-06T13:50:00+02:00",
          "2022-10-06T13:55:00+02:00",
          "2022-10-06T14:00:00+02:00",
          "2022-10-06T14:05:00+02:00",
          "2022-10-06T14:10:00+02:00",
          "2022-10-06T14:15:00+02:00",
          "2022-10-06T14:20:00+02:00",
          "2022-10-06T14:25:00+02:00",
          "2022-10-06T14:30:00+02:00",
          "2022-10-06T14:35:00+02:00",
          "2022-10-06T14:40:00+02:00",
          "2022-10-06T14:45:00+02:00",
          "2022-10-06T14:50:00+02:00",
          "2022-10-06T14:55:00+02:00",
          "2022-10-06T15:00:00+02:00",
          "2022-10-06T15:05:00+02:00",
          "2022-10-06T15:10:00+02:00",
          "2022-10-06T15:15:00+02:00",
          "2022-10-06T15:20:00+02:00",
          "2022-10-06T15:25:00+02:00",
          "2022-10-06T15:30:00+02:00",
          "2022-10-06T15:35:00+02:00",
          "2022-10-06T15:40:00+02:00",
          "2022-10-06T15:45:00+02:00",
          "2022-10-06T15:50:00+02:00",
          "2022-10-06T15:55:00+02:00",
          "2022-10-06T16:00:00+02:00",
          "2022-10-06T16:05:00+02:00",
          "2022-10-06T16:10:00+02:00",
          "2022-10-06T16:15:00+02:00",
          "2022-10-06T16:20:00+02:00",
          "2022-10-06T16:25:00+02:00",
          "2022-10-06T16:30:00+02:00",
          "2022-10-06T16:35:00+02:00",
          "2022-10-06T16:40:00+02:00",
          "2022-10-06T16:45:00+02:00",
          "2022-10-06T16:50:00+02:00",
          "2022-10-06T16:55:00+02:00",
          "2022-10-06T17:00:00+02:00",
          "2022-10-06T17:05:00+02:00",
          "2022-10-06T17:10:00+02:00",
          "2022-10-06T17:15:00+02:00",
          "2022-10-06T17:20:00+02:00",
          "2022-10-06T17:25:00+02:00",
          "2022-10-06T17:30:00+02:00",
          "2022-10-06T17:35:00+02:00",
          "2022-10-06T17:40:00+02:00",
          "2022-10-06T17:45:00+02:00",
          "2022-10-06T17:50:00+02:00",
          "2022-10-06T17:55:00+02:00",
          "2022-10-06T18:00:00+02:00",
          "2022-10-06T18:05:00+02:00",
          "2022-10-06T18:10:00+02:00",
          "2022-10-06T18:15:00+02:00",
          "2022-10-06T18:20:00+02:00",
          "2022-10-06T18:25:00+02:00",
          "2022-10-06T18:30:00+02:00",
          "2022-10-06T18:35:00+02:00",
          "2022-10-06T18:40:00+02:00",
          "2022-10-06T18:45:00+02:00",
          "2022-10-06T18:50:00+02:00",
          "2022-10-06T18:55:00+02:00",
          "2022-10-06T19:00:00+02:00",
          "2022-10-06T19:05:00+02:00",
          "2022-10-06T19:10:00+02:00",
          "2022-10-06T19:15:00+02:00",
          "2022-10-06T19:20:00+02:00",
          "2022-10-06T19:25:00+02:00",
          "2022-10-06T19:30:00+02:00",
          "2022-10-06T19:35:00+02:00",
          "2022-10-06T19:40:00+02:00",
          "2022-10-06T19:45:00+02:00",
          "2022-10-06T19:50:00+02:00",
          "2022-10-06T19:55:00+02:00",
          "2022-10-06T20:00:00+02:00",
          "2022-10-06T20:05:00+02:00",
          "2022-10-06T20:10:00+02:00",
          "2022-10-06T20:15:00+02:00",
          "2022-10-06T20:20:00+02:00",
          "2022-10-06T20:25:00+02:00",
          "2022-10-06T20:30:00+02:00",
          "2022-10-06T20:35:00+02:00",
          "2022-10-06T20:40:00+02:00",
          "2022-10-06T20:45:00+02:00",
          "2022-10-06T20:50:00+02:00",
          "2022-10-06T20:55:00+02:00",
          "2022-10-06T21:00:00+02:00",
          "2022-10-06T21:05:00+02:00",
          "2022-10-06T21:10:00+02:00",
          "2022-10-06T21:15:00+02:00",
          "2022-10-06T21:20:00+02:00",
          "2022-10-06T21:25:00+02:00",
          "2022-10-06T21:30:00+02:00",
          "2022-10-06T21:35:00+02:00",
          "2022-10-06T21:40:00+02:00",
          "2022-10-06T21:45:00+02:00",
          "2022-10-06T21:50:00+02:00",
          "2022-10-06T21:55:00+02:00",
          "2022-10-06T22:00:00+02:00",
          "2022-10-06T22:05:00+02:00",
          "2022-10-06T22:10:00+02:00",
          "2022-10-06T22:15:00+02:00",
          "2022-10-06T22:20:00+02:00",
          "2022-10-06T22:25:00+02:00",
          "2022-10-06T22:30:00+02:00",
          "2022-10-06T22:35:00+02:00",
          "2022-10-06T22:40:00+02:00",
          "2022-10-06T22:45:00+02:00",
          "2022-10-06T22:50:00+02:00",
          "2022-10-06T22:55:00+02:00",
          "2022-10-06T23:00:00+02:00",
          "2022-10-06T23:05:00+02:00",
          "2022-10-06T23:10:00+02:00",
          "2022-10-06T23:15:00+02:00",
          "2022-10-06T23:20:00+02:00",
          "2022-10-06T23:25:00+02:00",
          "2022-10-06T23:30:00+02:00",
          "2022-10-06T23:35:00+02:00",
          "2022-10-06T23:40:00+02:00",
          "2022-10-06T23:45:00+02:00",
          "2022-10-06T23:50:00+02:00",
          "2022-10-06T23:55:00+02:00",
          "2022-10-07T00:00:00+02:00",
          "2022-10-07T00:05:00+02:00",
          "2022-10-07T00:10:00+02:00",
          "2022-10-07T00:15:00+02:00",
          "2022-10-07T00:20:00+02:00",
          "2022-10-07T00:25:00+02:00",
          "2022-10-07T00:30:00+02:00",
          "2022-10-07T00:35:00+02:00",
          "2022-10-07T00:40:00+02:00",
          "2022-10-07T00:45:00+02:00",
          "2022-10-07T00:50:00+02:00",
          "2022-10-07T00:55:00+02:00",
          "2022-10-07T01:00:00+02:00",
          "2022-10-07T01:05:00+02:00",
          "2022-10-07T01:10:00+02:00",
          "2022-10-07T01:15:00+02:00",
          "2022-10-07T01:20:00+02:00",
          "2022-10-07T01:25:00+02:00",
          "2022-10-07T01:30:00+02:00",
          "2022-10-07T01:35:00+02:00",
          "2022-10-07T01:40:00+02:00",
          "2022-10-07T01:45:00+02:00",
          "2022-10-07T01:50:00+02:00",
          "2022-10-07T01:55:00+02:00",
          "2022-10-07T02:00:00+02:00",
          "2022-10-07T02:05:00+02:00",
          "2022-10-07T02:10:00+02:00",
          "2022-10-07T02:15:00+02:00",
          "2022-10-07T02:20:00+02:00",
          "2022-10-07T02:25:00+02:00",
          "2022-10-07T02:30:00+02:00",
          "2022-10-07T02:35:00+02:00",
          "2022-10-07T02:40:00+02:00",
          "2022-10-07T02:45:00+02:00",
          "2022-10-07T02:50:00+02:00",
          "2022-10-07T02:55:00+02:00",
          "2022-10-07T03:00:00+02:00",
          "2022-10-07T03:05:00+02:00",
          "2022-10-07T03:10:00+02:00",
          "2022-10-07T03:15:00+02:00",
          "2022-10-07T03:20:00+02:00",
          "2022-10-07T03:25:00+02:00",
          "2022-10-07T03:30:00+02:00",
          "2022-10-07T03:35:00+02:00",
          "2022-10-07T03:40:00+02:00",
          "2022-10-07T03:45:00+02:00",
          "2022-10-07T03:50:00+02:00",
          "2022-10-07T03:55:00+02:00",
          "2022-10-07T04:00:00+02:00",
          "2022-10-07T04:05:00+02:00",
          "2022-10-07T04:10:00+02:00",
          "2022-10-07T04:15:00+02:00",
          "2022-10-07T04:20:00+02:00",
          "2022-10-07T04:25:00+02:00",
          "2022-10-07T04:30:00+02:00",
          "2022-10-07T04:35:00+02:00",
          "2022-10-07T04:40:00+02:00",
          "2022-10-07T04:45:00+02:00",
          "2022-10-07T04:50:00+02:00",
          "2022-10-07T04:55:00+02:00",
          "2022-10-07T05:00:00+02:00",
          "2022-10-07T05:05:00+02:00",
          "2022-10-07T05:10:00+02:00",
          "2022-10-07T05:15:00+02:00",
          "2022-10-07T05:20:00+02:00",
          "2022-10-07T05:25:00+02:00",
          "2022-10-07T05:30:00+02:00",
          "2022-10-07T05:35:00+02:00",
          "2022-10-07T05:40:00+02:00",
          "2022-10-07T05:45:00+02:00",
          "2022-10-07T05:50:00+02:00",
          "2022-10-07T05:55:00+02:00",
          "2022-10-07T06:00:00+02:00",
          "2022-10-07T06:05:00+02:00",
          "2022-10-07T06:10:00+02:00",
          "2022-10-07T06:15:00+02:00",
          "2022-10-07T06:20:00+02:00",
          "2022-10-07T06:25:00+02:00",
          "2022-10-07T06:30:00+02:00",
          "2022-10-07T06:35:00+02:00",
          "2022-10-07T06:40:00+02:00",
          "2022-10-07T06:45:00+02:00",
          "2022-10-07T06:50:00+02:00",
          "2022-10-07T06:55:00+02:00",
          "2022-10-07T07:00:00+02:00",
          "2022-10-07T07:05:00+02:00",
          "2022-10-07T07:10:00+02:00",
          "2022-10-07T07:15:00+02:00",
          "2022-10-07T07:20:00+02:00",
          "2022-10-07T07:25:00+02:00",
          "2022-10-07T07:30:00+02:00",
          "2022-10-07T07:35:00+02:00",
          "2022-10-07T07:40:00+02:00",
          "2022-10-07T07:45:00+02:00",
          "2022-10-07T07:50:00+02:00",
          "2022-10-07T07:55:00+02:00",
          "2022-10-07T08:00:00+02:00",
          "2022-10-07T08:05:00+02:00",
          "2022-10-07T08:10:00+02:00",
          "2022-10-07T08:15:00+02:00",
          "2022-10-07T08:20:00+02:00",
          "2022-10-07T08:25:00+02:00",
          "2022-10-07T08:30:00+02:00",
          "2022-10-07T08:35:00+02:00",
          "2022-10-07T08:40:00+02:00",
          "2022-10-07T08:45:00+02:00",
          "2022-10-07T08:50:00+02:00",
          "2022-10-07T08:55:00+02:00",
          "2022-10-07T09:00:00+02:00",
          "2022-10-07T09:05:00+02:00",
          "2022-10-07T09:10:00+02:00",
          "2022-10-07T09:15:00+02:00",
          "2022-10-07T09:20:00+02:00",
          "2022-10-07T09:25:00+02:00",
          "2022-10-07T09:30:00+02:00",
          "2022-10-07T09:35:00+02:00",
          "2022-10-07T09:40:00+02:00",
          "2022-10-07T09:45:00+02:00",
          "2022-10-07T09:50:00+02:00",
          "2022-10-07T09:55:00+02:00",
          "2022-10-07T10:00:00+02:00",
          "2022-10-07T10:05:00+02:00",
          "2022-10-07T10:10:00+02:00",
          "2022-10-07T10:15:00+02:00",
          "2022-10-07T10:20:00+02:00",
          "2022-10-07T10:25:00+02:00",
          "2022-10-07T10:30:00+02:00",
          "2022-10-07T10:35:00+02:00",
          "2022-10-07T10:40:00+02:00",
          "2022-10-07T10:45:00+02:00",
          "2022-10-07T10:50:00+02:00",
          "2022-10-07T10:55:00+02:00",
          "2022-10-07T11:00:00+02:00",
          "2022-10-07T11:05:00+02:00",
          "2022-10-07T11:10:00+02:00",
          "2022-10-07T11:15:00+02:00",
          "2022-10-07T11:20:00+02:00",
          "2022-10-07T11:25:00+02:00",
          "2022-10-07T11:30:00+02:00",
          "2022-10-07T11:35:00+02:00",
          "2022-10-07T11:40:00+02:00",
          "2022-10-07T11:45:00+02:00",
          "2022-10-07T11:50:00+02:00",
          "2022-10-07T11:55:00+02:00",
          "2022-10-07T12:00:00+02:00",
          "2022-10-07T12:05:00+02:00",
          "2022-10-07T12:10:00+02:00",
          "2022-10-07T12:15:00+02:00",
          "2022-10-07T12:20:00+02:00",
          "2022-10-07T12:25:00+02:00",
          "2022-10-07T12:30:00+02:00",
          "2022-10-07T12:35:00+02:00",
          "2022-10-07T12:40:00+02:00",
          "2022-10-07T12:45:00+02:00",
          "2022-10-07T12:50:00+02:00",
          "2022-10-07T12:55:00+02:00",
          "2022-10-07T13:00:00+02:00"
         ],
         "xaxis": "x",
         "y": [
          0.0049,
          0.005,
          0.0049,
          0.0049,
          0.0049,
          0.0049,
          0.0049,
          0.005,
          0.0052,
          0.0052,
          0.0052,
          0.0052,
          0.0052,
          0.0059,
          0.0054,
          0.0052,
          0.0052,
          0.0051,
          0.0053,
          0.0054,
          0.0056,
          0.0062,
          0.0063,
          0.0062,
          0.0062,
          0.0058,
          0.0063,
          0.0064,
          0.0064,
          0.0062,
          0.0061,
          0.0062,
          0.0062,
          0.0064,
          0.0064,
          0.0064,
          0.0063,
          0.0062,
          0.0058,
          0.0057,
          0.0055,
          0.0053,
          0.0052,
          0.005,
          0.0051,
          0.0052,
          0.0054,
          0.0056,
          0.0058,
          0.0062,
          0.0063,
          0.0063,
          0.0063,
          0.0063,
          0.0064,
          0.0064,
          0.0064,
          0.0064,
          0.0063,
          0.0063,
          0.0062,
          0.002,
          0.001,
          0.0003,
          0.0011,
          0.0011,
          0.0012,
          0.0014,
          0.0016,
          0.0016,
          0.0018,
          0.0017,
          0.0017,
          0.0013,
          0.0013,
          0.0014,
          0.0016,
          0.0018,
          0.0019,
          0.0019,
          0.0019,
          0.0019,
          0.002,
          0.0021,
          0.0022,
          0.0019,
          0.002,
          0.0023,
          0.0024,
          0.0025,
          0.0025,
          0.0025,
          0.0024,
          0.0023,
          0.0021,
          0.002,
          0.0021,
          0.0023,
          0.0022,
          0.0024,
          0.0025,
          0.0027,
          0.0028,
          0.0029,
          0.0029,
          0.0029,
          0.0029,
          0.0028,
          0.0027,
          0.003,
          0.0031,
          0.0032,
          0.0032,
          0.0033,
          0.0034,
          0.0035,
          0.0036,
          0.0037,
          0.0036,
          0.0035,
          0.0035,
          0.0032,
          0.0033,
          0.0032,
          0.0032,
          0.003,
          0.0029,
          0.003,
          0.0029,
          0.003,
          0.003,
          0.003,
          0.003,
          0.0028,
          0.0033,
          0.0032,
          0.0031,
          0.0031,
          0.003,
          0.0029,
          0.0028,
          0.0028,
          0.0028,
          0.0027,
          0.0026,
          0.0023,
          0.0025,
          0.0026,
          0.0026,
          0.0026,
          0.0027,
          0.0027,
          0.0029,
          0.0029,
          0.0029,
          0.0029,
          0.0029,
          0.004,
          0.0045,
          0.0052,
          0.0052,
          0.0054,
          0.0053,
          0.0052,
          0.0052,
          0.0052,
          0.0051,
          0.0051,
          0.005,
          0.0047,
          0.0048,
          0.005,
          0.0049,
          0.0049,
          0.0049,
          0.0048,
          0.0048,
          0.0048,
          0.0048,
          0.0049,
          0.0048,
          0.0045,
          0.0046,
          0.0045,
          0.0046,
          0.0048,
          0.005,
          0.0051,
          0.0051,
          0.0052,
          0.0053,
          0.0053,
          0.0052,
          0.005,
          0.0052,
          0.0051,
          0.005,
          0.005,
          0.0049,
          0.0049,
          0.0049,
          0.005,
          0.0052,
          0.0052,
          0.0052,
          0.005,
          0.005,
          0.005,
          0.0051,
          0.0052,
          0.0052,
          0.0052,
          0.0052,
          0.0051,
          0.0051,
          0.005,
          0.0049,
          0.0047,
          0.0048,
          0.0049,
          0.0049,
          0.0049,
          0.0049,
          0.005,
          0.005,
          0.0051,
          0.0052,
          0.0052,
          0.0052,
          0.0051,
          0.0052,
          0.0052,
          0.0052,
          0.0053,
          0.0051,
          0.0051,
          0.0051,
          0.0052,
          0.0052,
          0.0052,
          0.0051,
          0.0053,
          0.0054,
          0.0056,
          0.0058,
          0.0059,
          0.0059,
          0.006,
          0.0062,
          0.0063,
          0.0063,
          0.0063,
          0.0063,
          0.0051,
          0.0044,
          0.0048,
          0.0055,
          0.0066,
          0.007,
          0.0072,
          0.0076,
          0.0075,
          0.0077,
          0.0078,
          0.0079,
          0.0081,
          0.0083,
          0.0084,
          0.0086,
          0.0086,
          0.0086,
          0.0083,
          0.008,
          0.0077,
          0.0075,
          0.0074,
          0.0073,
          0.0069,
          0.0068,
          0.0067,
          0.0065,
          0.0065,
          0.0066,
          0.0067,
          0.0068,
          0.0068,
          0.0069,
          0.007,
          0.0071
         ],
         "yaxis": "y"
        }
       ],
       "layout": {
        "annotations": [
         {
          "showarrow": false,
          "text": "Baseline",
          "x": 1,
          "xanchor": "right",
          "xref": "x domain",
          "y": 0.01,
          "yanchor": "bottom",
          "yref": "y"
         },
         {
          "showarrow": false,
          "text": "<b>0.0071%</b>",
          "x": "2022-10-07T13:00:00+02:00",
          "xanchor": "left",
          "y": 0.0071,
          "yanchor": "bottom"
         }
        ],
        "height": 1200,
        "legend": {
         "font": {
          "size": 12
         },
         "y": 0.5
        },
        "shapes": [
         {
          "line": {
           "dash": "dot"
          },
          "opacity": 0.3,
          "type": "line",
          "x0": 0,
          "x1": 1,
          "xref": "x domain",
          "y0": 0.01,
          "y1": 0.01,
          "yref": "y"
         }
        ],
        "template": {
         "data": {
          "bar": [
           {
            "error_x": {
             "color": "#2a3f5f"
            },
            "error_y": {
             "color": "#2a3f5f"
            },
            "marker": {
             "line": {
              "color": "#E5ECF6",
              "width": 0.5
             },
             "pattern": {
              "fillmode": "overlay",
              "size": 10,
              "solidity": 0.2
             }
            },
            "type": "bar"
           }
          ],
          "barpolar": [
           {
            "marker": {
             "line": {
              "color": "#E5ECF6",
              "width": 0.5
             },
             "pattern": {
              "fillmode": "overlay",
              "size": 10,
              "solidity": 0.2
             }
            },
            "type": "barpolar"
           }
          ],
          "carpet": [
           {
            "aaxis": {
             "endlinecolor": "#2a3f5f",
             "gridcolor": "white",
             "linecolor": "white",
             "minorgridcolor": "white",
             "startlinecolor": "#2a3f5f"
            },
            "baxis": {
             "endlinecolor": "#2a3f5f",
             "gridcolor": "white",
             "linecolor": "white",
             "minorgridcolor": "white",
             "startlinecolor": "#2a3f5f"
            },
            "type": "carpet"
           }
          ],
          "choropleth": [
           {
            "colorbar": {
             "outlinewidth": 0,
             "ticks": ""
            },
            "type": "choropleth"
           }
          ],
          "contour": [
           {
            "colorbar": {
             "outlinewidth": 0,
             "ticks": ""
            },
            "colorscale": [
             [
              0,
              "#0d0887"
             ],
             [
              0.1111111111111111,
              "#46039f"
             ],
             [
              0.2222222222222222,
              "#7201a8"
             ],
             [
              0.3333333333333333,
              "#9c179e"
             ],
             [
              0.4444444444444444,
              "#bd3786"
             ],
             [
              0.5555555555555556,
              "#d8576b"
             ],
             [
              0.6666666666666666,
              "#ed7953"
             ],
             [
              0.7777777777777778,
              "#fb9f3a"
             ],
             [
              0.8888888888888888,
              "#fdca26"
             ],
             [
              1,
              "#f0f921"
             ]
            ],
            "type": "contour"
           }
          ],
          "contourcarpet": [
           {
            "colorbar": {
             "outlinewidth": 0,
             "ticks": ""
            },
            "type": "contourcarpet"
           }
          ],
          "heatmap": [
           {
            "colorbar": {
             "outlinewidth": 0,
             "ticks": ""
            },
            "colorscale": [
             [
              0,
              "#0d0887"
             ],
             [
              0.1111111111111111,
              "#46039f"
             ],
             [
              0.2222222222222222,
              "#7201a8"
             ],
             [
              0.3333333333333333,
              "#9c179e"
             ],
             [
              0.4444444444444444,
              "#bd3786"
             ],
             [
              0.5555555555555556,
              "#d8576b"
             ],
             [
              0.6666666666666666,
              "#ed7953"
             ],
             [
              0.7777777777777778,
              "#fb9f3a"
             ],
             [
              0.8888888888888888,
              "#fdca26"
             ],
             [
              1,
              "#f0f921"
             ]
            ],
            "type": "heatmap"
           }
          ],
          "heatmapgl": [
           {
            "colorbar": {
             "outlinewidth": 0,
             "ticks": ""
            },
            "colorscale": [
             [
              0,
              "#0d0887"
             ],
             [
              0.1111111111111111,
              "#46039f"
             ],
             [
              0.2222222222222222,
              "#7201a8"
             ],
             [
              0.3333333333333333,
              "#9c179e"
             ],
             [
              0.4444444444444444,
              "#bd3786"
             ],
             [
              0.5555555555555556,
              "#d8576b"
             ],
             [
              0.6666666666666666,
              "#ed7953"
             ],
             [
              0.7777777777777778,
              "#fb9f3a"
             ],
             [
              0.8888888888888888,
              "#fdca26"
             ],
             [
              1,
              "#f0f921"
             ]
            ],
            "type": "heatmapgl"
           }
          ],
          "histogram": [
           {
            "marker": {
             "pattern": {
              "fillmode": "overlay",
              "size": 10,
              "solidity": 0.2
             }
            },
            "type": "histogram"
           }
          ],
          "histogram2d": [
           {
            "colorbar": {
             "outlinewidth": 0,
             "ticks": ""
            },
            "colorscale": [
             [
              0,
              "#0d0887"
             ],
             [
              0.1111111111111111,
              "#46039f"
             ],
             [
              0.2222222222222222,
              "#7201a8"
             ],
             [
              0.3333333333333333,
              "#9c179e"
             ],
             [
              0.4444444444444444,
              "#bd3786"
             ],
             [
              0.5555555555555556,
              "#d8576b"
             ],
             [
              0.6666666666666666,
              "#ed7953"
             ],
             [
              0.7777777777777778,
              "#fb9f3a"
             ],
             [
              0.8888888888888888,
              "#fdca26"
             ],
             [
              1,
              "#f0f921"
             ]
            ],
            "type": "histogram2d"
           }
          ],
          "histogram2dcontour": [
           {
            "colorbar": {
             "outlinewidth": 0,
             "ticks": ""
            },
            "colorscale": [
             [
              0,
              "#0d0887"
             ],
             [
              0.1111111111111111,
              "#46039f"
             ],
             [
              0.2222222222222222,
              "#7201a8"
             ],
             [
              0.3333333333333333,
              "#9c179e"
             ],
             [
              0.4444444444444444,
              "#bd3786"
             ],
             [
              0.5555555555555556,
              "#d8576b"
             ],
             [
              0.6666666666666666,
              "#ed7953"
             ],
             [
              0.7777777777777778,
              "#fb9f3a"
             ],
             [
              0.8888888888888888,
              "#fdca26"
             ],
             [
              1,
              "#f0f921"
             ]
            ],
            "type": "histogram2dcontour"
           }
          ],
          "mesh3d": [
           {
            "colorbar": {
             "outlinewidth": 0,
             "ticks": ""
            },
            "type": "mesh3d"
           }
          ],
          "parcoords": [
           {
            "line": {
             "colorbar": {
              "outlinewidth": 0,
              "ticks": ""
             }
            },
            "type": "parcoords"
           }
          ],
          "pie": [
           {
            "automargin": true,
            "type": "pie"
           }
          ],
          "scatter": [
           {
            "fillpattern": {
             "fillmode": "overlay",
             "size": 10,
             "solidity": 0.2
            },
            "type": "scatter"
           }
          ],
          "scatter3d": [
           {
            "line": {
             "colorbar": {
              "outlinewidth": 0,
              "ticks": ""
             }
            },
            "marker": {
             "colorbar": {
              "outlinewidth": 0,
              "ticks": ""
             }
            },
            "type": "scatter3d"
           }
          ],
          "scattercarpet": [
           {
            "marker": {
             "colorbar": {
              "outlinewidth": 0,
              "ticks": ""
             }
            },
            "type": "scattercarpet"
           }
          ],
          "scattergeo": [
           {
            "marker": {
             "colorbar": {
              "outlinewidth": 0,
              "ticks": ""
             }
            },
            "type": "scattergeo"
           }
          ],
          "scattergl": [
           {
            "marker": {
             "colorbar": {
              "outlinewidth": 0,
              "ticks": ""
             }
            },
            "type": "scattergl"
           }
          ],
          "scattermapbox": [
           {
            "marker": {
             "colorbar": {
              "outlinewidth": 0,
              "ticks": ""
             }
            },
            "type": "scattermapbox"
           }
          ],
          "scatterpolar": [
           {
            "marker": {
             "colorbar": {
              "outlinewidth": 0,
              "ticks": ""
             }
            },
            "type": "scatterpolar"
           }
          ],
          "scatterpolargl": [
           {
            "marker": {
             "colorbar": {
              "outlinewidth": 0,
              "ticks": ""
             }
            },
            "type": "scatterpolargl"
           }
          ],
          "scatterternary": [
           {
            "marker": {
             "colorbar": {
              "outlinewidth": 0,
              "ticks": ""
             }
            },
            "type": "scatterternary"
           }
          ],
          "surface": [
           {
            "colorbar": {
             "outlinewidth": 0,
             "ticks": ""
            },
            "colorscale": [
             [
              0,
              "#0d0887"
             ],
             [
              0.1111111111111111,
              "#46039f"
             ],
             [
              0.2222222222222222,
              "#7201a8"
             ],
             [
              0.3333333333333333,
              "#9c179e"
             ],
             [
              0.4444444444444444,
              "#bd3786"
             ],
             [
              0.5555555555555556,
              "#d8576b"
             ],
             [
              0.6666666666666666,
              "#ed7953"
             ],
             [
              0.7777777777777778,
              "#fb9f3a"
             ],
             [
              0.8888888888888888,
              "#fdca26"
             ],
             [
              1,
              "#f0f921"
             ]
            ],
            "type": "surface"
           }
          ],
          "table": [
           {
            "cells": {
             "fill": {
              "color": "#EBF0F8"
             },
             "line": {
              "color": "white"
             }
            },
            "header": {
             "fill": {
              "color": "#C8D4E3"
             },
             "line": {
              "color": "white"
             }
            },
            "type": "table"
           }
          ]
         },
         "layout": {
          "annotationdefaults": {
           "arrowcolor": "#2a3f5f",
           "arrowhead": 0,
           "arrowwidth": 1
          },
          "autotypenumbers": "strict",
          "coloraxis": {
           "colorbar": {
            "outlinewidth": 0,
            "ticks": ""
           }
          },
          "colorscale": {
           "diverging": [
            [
             0,
             "#8e0152"
            ],
            [
             0.1,
             "#c51b7d"
            ],
            [
             0.2,
             "#de77ae"
            ],
            [
             0.3,
             "#f1b6da"
            ],
            [
             0.4,
             "#fde0ef"
            ],
            [
             0.5,
             "#f7f7f7"
            ],
            [
             0.6,
             "#e6f5d0"
            ],
            [
             0.7,
             "#b8e186"
            ],
            [
             0.8,
             "#7fbc41"
            ],
            [
             0.9,
             "#4d9221"
            ],
            [
             1,
             "#276419"
            ]
           ],
           "sequential": [
            [
             0,
             "#0d0887"
            ],
            [
             0.1111111111111111,
             "#46039f"
            ],
            [
             0.2222222222222222,
             "#7201a8"
            ],
            [
             0.3333333333333333,
             "#9c179e"
            ],
            [
             0.4444444444444444,
             "#bd3786"
            ],
            [
             0.5555555555555556,
             "#d8576b"
            ],
            [
             0.6666666666666666,
             "#ed7953"
            ],
            [
             0.7777777777777778,
             "#fb9f3a"
            ],
            [
             0.8888888888888888,
             "#fdca26"
            ],
            [
             1,
             "#f0f921"
            ]
           ],
           "sequentialminus": [
            [
             0,
             "#0d0887"
            ],
            [
             0.1111111111111111,
             "#46039f"
            ],
            [
             0.2222222222222222,
             "#7201a8"
            ],
            [
             0.3333333333333333,
             "#9c179e"
            ],
            [
             0.4444444444444444,
             "#bd3786"
            ],
            [
             0.5555555555555556,
             "#d8576b"
            ],
            [
             0.6666666666666666,
             "#ed7953"
            ],
            [
             0.7777777777777778,
             "#fb9f3a"
            ],
            [
             0.8888888888888888,
             "#fdca26"
            ],
            [
             1,
             "#f0f921"
            ]
           ]
          },
          "colorway": [
           "#636efa",
           "#EF553B",
           "#00cc96",
           "#ab63fa",
           "#FFA15A",
           "#19d3f3",
           "#FF6692",
           "#B6E880",
           "#FF97FF",
           "#FECB52"
          ],
          "font": {
           "color": "#2a3f5f"
          },
          "geo": {
           "bgcolor": "white",
           "lakecolor": "white",
           "landcolor": "#E5ECF6",
           "showlakes": true,
           "showland": true,
           "subunitcolor": "white"
          },
          "hoverlabel": {
           "align": "left"
          },
          "hovermode": "closest",
          "mapbox": {
           "style": "light"
          },
          "paper_bgcolor": "white",
          "plot_bgcolor": "#E5ECF6",
          "polar": {
           "angularaxis": {
            "gridcolor": "white",
            "linecolor": "white",
            "ticks": ""
           },
           "bgcolor": "#E5ECF6",
           "radialaxis": {
            "gridcolor": "white",
            "linecolor": "white",
            "ticks": ""
           }
          },
          "scene": {
           "xaxis": {
            "backgroundcolor": "#E5ECF6",
            "gridcolor": "white",
            "gridwidth": 2,
            "linecolor": "white",
            "showbackground": true,
            "ticks": "",
            "zerolinecolor": "white"
           },
           "yaxis": {
            "backgroundcolor": "#E5ECF6",
            "gridcolor": "white",
            "gridwidth": 2,
            "linecolor": "white",
            "showbackground": true,
            "ticks": "",
            "zerolinecolor": "white"
           },
           "zaxis": {
            "backgroundcolor": "#E5ECF6",
            "gridcolor": "white",
            "gridwidth": 2,
            "linecolor": "white",
            "showbackground": true,
            "ticks": "",
            "zerolinecolor": "white"
           }
          },
          "shapedefaults": {
           "line": {
            "color": "#2a3f5f"
           }
          },
          "ternary": {
           "aaxis": {
            "gridcolor": "white",
            "linecolor": "white",
            "ticks": ""
           },
           "baxis": {
            "gridcolor": "white",
            "linecolor": "white",
            "ticks": ""
           },
           "bgcolor": "#E5ECF6",
           "caxis": {
            "gridcolor": "white",
            "linecolor": "white",
            "ticks": ""
           }
          },
          "title": {
           "x": 0.05
          },
          "xaxis": {
           "automargin": true,
           "gridcolor": "white",
           "linecolor": "white",
           "ticks": "",
           "title": {
            "standoff": 15
           },
           "zerolinecolor": "white",
           "zerolinewidth": 2
          },
          "yaxis": {
           "automargin": true,
           "gridcolor": "white",
           "linecolor": "white",
           "ticks": "",
           "title": {
            "standoff": 15
           },
           "zerolinecolor": "white",
           "zerolinewidth": 2
          }
         }
        },
        "title": {
         "text": "<B>5 Minute Funding Rate Data (last 24 hours)</B>",
         "x": 0.5
        },
        "width": 1800,
        "xaxis": {
         "anchor": "y",
         "domain": [
          0,
          0.94
         ]
        },
        "yaxis": {
         "anchor": "x",
         "domain": [
          0,
          1
         ],
         "range": [
          -0.015,
          0.015
         ]
        },
        "yaxis2": {
         "anchor": "x",
         "overlaying": "y",
         "side": "right"
        }
       }
      }
     },
     "metadata": {},
     "output_type": "display_data"
    },
    {
     "data": {
      "text/html": [
       "<img src=\"https://alternative.me/crypto/fear-and-greed-index.png\" width=\"400\" height=\"400\"/>"
      ],
      "text/plain": [
       "<IPython.core.display.Image object>"
      ]
     },
     "execution_count": 6,
     "metadata": {},
     "output_type": "execute_result"
    }
   ],
   "source": [
    "df = read_csv_sftp('34.65.3.51', 'gustavo', '/home/gustavo/btc_futures_data/minute_funding_rate.csv')\n",
    "#df = pd.read_csv('minute_funding_rate.csv')\n",
    "\n",
    "df['date'] = pd.to_datetime(df['date'])\n",
    "df['date'] = df['date'].dt.tz_localize('UTC').dt.tz_convert('Europe/Budapest')\n",
    "\n",
    "df.set_index('date', inplace=True)\n",
    "\n",
    "#df.head()\n",
    "\n",
    "mask_usdt = df['type'] == 'USDT'\n",
    "mask_token = df['type'] == 'TOKEN'\n",
    "\n",
    "se_usdt_weighted_mean_funding_rate = df[mask_usdt]['weighted_mean_funding_rate']\n",
    "se_token_weighted_mean_funding_rate = df[mask_token]['weighted_mean_funding_rate']\n",
    "\n",
    "se_weighted_mean_funding_rate = round((se_token_weighted_mean_funding_rate + se_usdt_weighted_mean_funding_rate) / 2, 4)\n",
    "\n",
    "\n",
    "# Chart config\n",
    "\n",
    "# date filter\n",
    "h = 24\n",
    "date_filter = (datetime.datetime.now() - datetime.timedelta(hours = h)).strftime('%Y-%m-%d-%H')\n",
    "\n",
    "# Instantiate fig with 2 y axis\n",
    "fig = make_subplots(specs=[[{\"secondary_y\": True}]])\n",
    "\n",
    "# Add price plot\n",
    "fig.add_trace(go.Scatter(x=df[mask_usdt][date_filter:].index, \n",
    "                         y=df[mask_usdt][date_filter:]['price'],\n",
    "                         name=\"Price\",\n",
    "                         mode='lines+markers',\n",
    "                         ),\n",
    "                         secondary_y=True,\n",
    "                         \n",
    "             )\n",
    "\n",
    "# Add funding rate plot\n",
    "fig.add_trace(go.Bar(x=df[mask_usdt][date_filter:].index, \n",
    "                         y=se_weighted_mean_funding_rate[date_filter:],\n",
    "                         name=\"Weighted Average Funding Rate\"            \n",
    "                        ),\n",
    "                        secondary_y=False\n",
    "                        \n",
    "             )\n",
    "\n",
    "# Change axis ranges\n",
    "#fig.update_yaxes(range=[df[date_filter]['price'].min() - 500 , df['price'][date_filter].max() + 500], secondary_y=True)\n",
    "fig.update_yaxes(range=[-0.015, 0.015], secondary_y=False)\n",
    "#fig.update_yaxes(range=[df[date_filter]['weighted_mean_funding_rate'].min() - 0.01 , df[date_filter]['weighted_mean_funding_rate'].max() + 0.01], secondary_y=False)\n",
    "\n",
    "# Add horizontal line\n",
    "fig.add_hline(y=0.01, line_dash=\"dot\", opacity=0.3, annotation_text='Baseline')\n",
    "\n",
    "# Change color of primary y axis\n",
    "fig.update_traces(marker_color='yellowgreen', secondary_y=False)\n",
    "fig.update_traces(marker_color='black', secondary_y=True)\n",
    "\n",
    "# Add annotation to current funding rate\n",
    "fig.add_annotation(x=df[mask_usdt][date_filter:].index[-1], \n",
    "                   y=se_weighted_mean_funding_rate[date_filter:][-1],\n",
    "                   text='<b>{}%</b>'.format(se_weighted_mean_funding_rate[-1]),\n",
    "                   showarrow=False,\n",
    "                   xanchor='left',\n",
    "                   yanchor='bottom',\n",
    "                   )\n",
    "\n",
    "\n",
    "# Add Title and height\n",
    "fig.update_layout(legend=dict(y=0.5, font_size=12), \n",
    "                  height=1200, \n",
    "                  width=1800,\n",
    "                  title='<B>5 Minute Funding Rate Data (last {} hours)</B>'.format(h),\n",
    "                  title_x=0.5,\n",
    "                  )\n",
    "\n",
    "\n",
    "\n",
    "fig.show()\n",
    "\n",
    "# Get current fear and greed\n",
    "Image(url= \"https://alternative.me/crypto/fear-and-greed-index.png\", width=400, height=400)"
   ]
  },
  {
   "cell_type": "code",
   "execution_count": null,
   "metadata": {},
   "outputs": [],
   "source": []
  }
 ],
 "metadata": {
  "kernelspec": {
   "display_name": "Python 3.10.4 64-bit",
   "language": "python",
   "name": "python3"
  },
  "language_info": {
   "codemirror_mode": {
    "name": "ipython",
    "version": 3
   },
   "file_extension": ".py",
   "mimetype": "text/x-python",
   "name": "python",
   "nbconvert_exporter": "python",
   "pygments_lexer": "ipython3",
   "version": "3.10.4"
  },
  "vscode": {
   "interpreter": {
    "hash": "26de051ba29f2982a8de78e945f0abaf191376122a1563185a90213a26c5da77"
   }
  }
 },
 "nbformat": 4,
 "nbformat_minor": 5
}
