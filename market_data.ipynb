{
 "cells": [
  {
   "cell_type": "markdown",
   "id": "1cf3183b-172c-4163-9928-65d369b302f2",
   "metadata": {},
   "source": [
    "## Retrieve futures market data from Coinglass.com\n",
    "Currently getting the following:\n",
    " - Average Funding rate\n",
    " - Total Open Interest"
   ]
  },
  {
   "cell_type": "code",
   "execution_count": 1,
   "id": "4ce578fe-ee04-4aee-8315-0c42bc86b289",
   "metadata": {},
   "outputs": [],
   "source": [
    "from functions import *\n",
    "\n",
    "import plotly.graph_objects as go\n",
    "import datetime\n",
    "from plotly.subplots import make_subplots\n",
    "from numerize import numerize\n",
    "from IPython.display import Image\n",
    "from IPython.core.display import HTML "
   ]
  },
  {
   "cell_type": "code",
   "execution_count": 2,
   "id": "6a9223d9-5a82-46df-994f-97c597318a0b",
   "metadata": {},
   "outputs": [],
   "source": [
    "df_usdt = get_df_from_url('fr_usdt')\n",
    "df_token = get_df_from_url('fr_token')\n",
    "df_oi = get_df_from_url('oi')\n",
    "\n",
    "df_usdt = get_weighted_mean_funding_rate(df_usdt, df_oi)\n",
    "df_token = get_weighted_mean_funding_rate(df_token, df_oi)\n"
   ]
  },
  {
   "cell_type": "code",
   "execution_count": 3,
   "id": "e8d93624-ae75-40b5-9ecd-1a52a86369b9",
   "metadata": {},
   "outputs": [
    {
     "name": "stdout",
     "output_type": "stream",
     "text": [
      "Funding rate mean (USD or USDT): 0.0072\n",
      "Funding rate mean (Token): 0.0072\n",
      "Funding rate mean: 0.0072 \n",
      "\n",
      "Predicted funding rate mean: 0.0036 \n",
      "\n",
      "Current Total Open Interest: 14.03B\n",
      "\n"
     ]
    }
   ],
   "source": [
    "# FUNDING RATE\n",
    "mean_funding_rate_usdt = round(df_usdt['mean_funding_rate'].tail(1)[0], 4)\n",
    "mean_funding_rate_token = round(df_token['mean_funding_rate'].tail(1)[0], 4)\n",
    "\n",
    "mean_funding_rate = round((df_usdt['mean_funding_rate'].tail(1)[0] + df_token['mean_funding_rate'].tail(1)[0]) / 2, 4)\n",
    "\n",
    "# PREDICTED FUNDING RATE\n",
    "mean_predicted_funding_rate_usdt = round(df_usdt['mean_predicted_funding_rate'].tail(1)[0], 4)\n",
    "mean_predicted_funding_rate_token = round(df_token['mean_predicted_funding_rate'].tail(1)[0], 4)\n",
    "\n",
    "mean_predicted_funding_rate = round((df_usdt['mean_predicted_funding_rate'].tail(1)[0] + df_token['mean_predicted_funding_rate'].tail(1)[0]) / 2, 4)\n",
    "\n",
    "# OPEN INTEREST\n",
    "total_oi = df_oi['total_open_interest'].tail(1)[0]\n",
    "\n",
    "# PRINT\n",
    "print('Funding rate mean (USD or USDT): {}'.format(mean_funding_rate_usdt))\n",
    "print('Funding rate mean (Token): {}'.format(mean_funding_rate_token))\n",
    "print('Funding rate mean: {} \\n'.format(mean_funding_rate))\n",
    "\n",
    "#print('Predicted funding rate mean (USD or USDT): {}'.format(mean_predicted_funding_rate_usdt))\n",
    "#print('Predicted funding rate mean (Token): {}'.format(mean_predicted_funding_rate_token))\n",
    "print('Predicted funding rate mean: {} \\n'.format(mean_predicted_funding_rate))\n",
    "\n",
    "print('Current Total Open Interest: {}\\n'.format(numerize.numerize(total_oi)))"
   ]
  },
  {
   "cell_type": "markdown",
   "id": "e273c348-ef74-451f-a34d-b3ac1d63be3b",
   "metadata": {
    "tags": []
   },
   "source": [
    "# Charts"
   ]
  },
  {
   "cell_type": "code",
   "execution_count": 4,
   "id": "6f8a0300-a7f4-4031-9881-004b776bb38c",
   "metadata": {},
   "outputs": [
    {
     "data": {
      "application/vnd.plotly.v1+json": {
       "config": {
        "plotlyServerURL": "https://plot.ly"
       },
       "data": [
        {
         "mode": "lines+markers",
         "name": "Price",
         "type": "scatter",
         "x": [
          "2022-09-07T00:00:00",
          "2022-09-07T08:00:00",
          "2022-09-07T16:00:00",
          "2022-09-08T00:00:00",
          "2022-09-08T08:00:00",
          "2022-09-08T16:00:00",
          "2022-09-09T00:00:00",
          "2022-09-09T08:00:00",
          "2022-09-09T16:00:00",
          "2022-09-10T00:00:00",
          "2022-09-10T08:00:00",
          "2022-09-10T16:00:00",
          "2022-09-11T00:00:00",
          "2022-09-11T08:00:00",
          "2022-09-11T16:00:00",
          "2022-09-12T00:00:00",
          "2022-09-12T08:00:00",
          "2022-09-12T16:00:00",
          "2022-09-13T00:00:00",
          "2022-09-13T08:00:00",
          "2022-09-13T16:00:00",
          "2022-09-14T00:00:00",
          "2022-09-14T08:00:00",
          "2022-09-14T16:00:00",
          "2022-09-15T00:00:00",
          "2022-09-15T08:00:00",
          "2022-09-15T16:00:00",
          "2022-09-16T00:00:00",
          "2022-09-16T08:00:00",
          "2022-09-16T16:00:00",
          "2022-09-17T00:00:00",
          "2022-09-17T08:00:00",
          "2022-09-17T16:00:00",
          "2022-09-18T00:00:00",
          "2022-09-18T08:00:00",
          "2022-09-18T16:00:00",
          "2022-09-19T00:00:00",
          "2022-09-19T08:00:00",
          "2022-09-19T16:00:00",
          "2022-09-20T00:00:00",
          "2022-09-20T08:00:00",
          "2022-09-20T16:00:00",
          "2022-09-21T00:00:00",
          "2022-09-21T08:00:00",
          "2022-09-21T16:00:00",
          "2022-09-22T00:00:00",
          "2022-09-22T08:00:00",
          "2022-09-22T16:00:00",
          "2022-09-23T00:00:00",
          "2022-09-23T08:00:00",
          "2022-09-23T16:00:00",
          "2022-09-24T00:00:00",
          "2022-09-24T08:00:00",
          "2022-09-24T16:00:00",
          "2022-09-25T00:00:00",
          "2022-09-25T08:00:00",
          "2022-09-25T16:00:00",
          "2022-09-26T00:00:00",
          "2022-09-26T08:00:00",
          "2022-09-26T16:00:00",
          "2022-09-27T00:00:00",
          "2022-09-27T08:00:00",
          "2022-09-27T16:00:00",
          "2022-09-28T00:00:00",
          "2022-09-28T08:00:00",
          "2022-09-28T16:00:00",
          "2022-09-29T00:00:00",
          "2022-09-29T08:00:00",
          "2022-09-29T16:00:00",
          "2022-09-30T00:00:00",
          "2022-09-30T08:00:00",
          "2022-09-30T16:00:00",
          "2022-10-01T00:00:00",
          "2022-10-01T08:00:00",
          "2022-10-01T16:00:00",
          "2022-10-02T00:00:00",
          "2022-10-02T08:00:00",
          "2022-10-02T16:00:00",
          "2022-10-03T00:00:00",
          "2022-10-03T08:00:00",
          "2022-10-03T16:00:00",
          "2022-10-04T00:00:00",
          "2022-10-04T08:00:00",
          "2022-10-04T16:00:00",
          "2022-10-05T00:00:00",
          "2022-10-05T08:00:00",
          "2022-10-05T16:00:00",
          "2022-10-06T00:00:00",
          "2022-10-06T08:00:00",
          "2022-10-06T16:00:00",
          "2022-10-07T00:00:00",
          "2022-10-07T08:00:00",
          "2022-10-07T11:05:00"
         ],
         "xaxis": "x",
         "y": [
          18774.9,
          18798.6,
          18866.3,
          19276.4,
          19157.1,
          19241.3,
          19309,
          20627.5,
          21251.8,
          21362.7,
          21269.9,
          21219.6,
          21642.5,
          21599.7,
          21636.4,
          21842,
          22207.4,
          22131.5,
          22394.4,
          22272.9,
          20829.9,
          20166.1,
          20218.9,
          20169,
          20211.2,
          20193.8,
          19725.1,
          19689.6,
          19731,
          19652.5,
          19789,
          19834.8,
          19955.5,
          20107,
          20044.9,
          19806.5,
          19406.5,
          18455.1,
          19075,
          19524,
          19347.7,
          19231.8,
          18865.2,
          18941.4,
          19185.5,
          18452.5,
          18935,
          18971.1,
          19394.9,
          19213.3,
          18709.7,
          19281.2,
          18985.9,
          19109.9,
          18913.6,
          19092,
          18985.3,
          18796.8,
          18900.3,
          19110.1,
          19215.1,
          20174.5,
          19871.6,
          19073.2,
          18778.4,
          19480,
          19405.2,
          19354.3,
          19290.2,
          19580.3,
          19556,
          19748.2,
          19416.2,
          19306.1,
          19320.3,
          19300.4,
          19276,
          19137.9,
          19044.9,
          19188.1,
          19326,
          19624.8,
          19957.8,
          20094.5,
          20335.2,
          20213.5,
          19989,
          20154.1,
          20218.3,
          20007,
          19952.8,
          19922.2,
          19981.7
         ],
         "yaxis": "y"
        },
        {
         "name": "Average Funding Rate",
         "type": "bar",
         "x": [
          "2022-09-07T00:00:00",
          "2022-09-07T08:00:00",
          "2022-09-07T16:00:00",
          "2022-09-08T00:00:00",
          "2022-09-08T08:00:00",
          "2022-09-08T16:00:00",
          "2022-09-09T00:00:00",
          "2022-09-09T08:00:00",
          "2022-09-09T16:00:00",
          "2022-09-10T00:00:00",
          "2022-09-10T08:00:00",
          "2022-09-10T16:00:00",
          "2022-09-11T00:00:00",
          "2022-09-11T08:00:00",
          "2022-09-11T16:00:00",
          "2022-09-12T00:00:00",
          "2022-09-12T08:00:00",
          "2022-09-12T16:00:00",
          "2022-09-13T00:00:00",
          "2022-09-13T08:00:00",
          "2022-09-13T16:00:00",
          "2022-09-14T00:00:00",
          "2022-09-14T08:00:00",
          "2022-09-14T16:00:00",
          "2022-09-15T00:00:00",
          "2022-09-15T08:00:00",
          "2022-09-15T16:00:00",
          "2022-09-16T00:00:00",
          "2022-09-16T08:00:00",
          "2022-09-16T16:00:00",
          "2022-09-17T00:00:00",
          "2022-09-17T08:00:00",
          "2022-09-17T16:00:00",
          "2022-09-18T00:00:00",
          "2022-09-18T08:00:00",
          "2022-09-18T16:00:00",
          "2022-09-19T00:00:00",
          "2022-09-19T08:00:00",
          "2022-09-19T16:00:00",
          "2022-09-20T00:00:00",
          "2022-09-20T08:00:00",
          "2022-09-20T16:00:00",
          "2022-09-21T00:00:00",
          "2022-09-21T08:00:00",
          "2022-09-21T16:00:00",
          "2022-09-22T00:00:00",
          "2022-09-22T08:00:00",
          "2022-09-22T16:00:00",
          "2022-09-23T00:00:00",
          "2022-09-23T08:00:00",
          "2022-09-23T16:00:00",
          "2022-09-24T00:00:00",
          "2022-09-24T08:00:00",
          "2022-09-24T16:00:00",
          "2022-09-25T00:00:00",
          "2022-09-25T08:00:00",
          "2022-09-25T16:00:00",
          "2022-09-26T00:00:00",
          "2022-09-26T08:00:00",
          "2022-09-26T16:00:00",
          "2022-09-27T00:00:00",
          "2022-09-27T08:00:00",
          "2022-09-27T16:00:00",
          "2022-09-28T00:00:00",
          "2022-09-28T08:00:00",
          "2022-09-28T16:00:00",
          "2022-09-29T00:00:00",
          "2022-09-29T08:00:00",
          "2022-09-29T16:00:00",
          "2022-09-30T00:00:00",
          "2022-09-30T08:00:00",
          "2022-09-30T16:00:00",
          "2022-10-01T00:00:00",
          "2022-10-01T08:00:00",
          "2022-10-01T16:00:00",
          "2022-10-02T00:00:00",
          "2022-10-02T08:00:00",
          "2022-10-02T16:00:00",
          "2022-10-03T00:00:00",
          "2022-10-03T08:00:00",
          "2022-10-03T16:00:00",
          "2022-10-04T00:00:00",
          "2022-10-04T08:00:00",
          "2022-10-04T16:00:00",
          "2022-10-05T00:00:00",
          "2022-10-05T08:00:00",
          "2022-10-05T16:00:00",
          "2022-10-06T00:00:00",
          "2022-10-06T08:00:00",
          "2022-10-06T16:00:00",
          "2022-10-07T00:00:00",
          "2022-10-07T08:00:00",
          "2022-10-07T11:05:00"
         ],
         "xaxis": "x2",
         "y": [
          -0.0074,
          0.0013,
          -0.0032,
          0.0003,
          -0.0002,
          -0.0001,
          -0.0011,
          0.0047,
          0.0043,
          0.004,
          0.0066,
          0.0066,
          0.0027,
          0.0057,
          0.0029,
          0.003,
          0.0055,
          0.0039,
          0.0048,
          0.0075,
          0.0083,
          -0.0031,
          0.0032,
          -0.0033,
          -0.0043,
          0.0024,
          0.0022,
          0.0019,
          0.0047,
          0.0006,
          0.0026,
          -0.0026,
          -0.0025,
          0.0001,
          0.0057,
          0.0015,
          0.0036,
          -0.0089,
          -0.0048,
          0.0021,
          -0.0014,
          0.0017,
          0.0024,
          0.0033,
          0.0133,
          -0.0094,
          -0.0074,
          0.0011,
          0.0026,
          0.0032,
          -0.0022,
          0.0016,
          0.003,
          0.0023,
          0.002,
          0.0026,
          0.0019,
          -0.0007,
          0.0021,
          0.0022,
          0.0006,
          0.0072,
          0.0042,
          0.0025,
          0.0016,
          0.0053,
          0.004,
          0.0034,
          0.0017,
          0.0059,
          0.0038,
          0.0033,
          0.0003,
          0.0086,
          0.0055,
          0.0023,
          0.0026,
          0.0032,
          0.0013,
          0.005,
          0.0053,
          0.0044,
          0.0037,
          0.0023,
          0.002,
          0.0059,
          0.0055,
          0.0031,
          0.0035,
          0.0048,
          0.0031,
          0.0062,
          0.0075
         ],
         "yaxis": "y2"
        },
        {
         "mode": "lines+markers",
         "name": "Total Open Interest",
         "type": "scatter",
         "x": [
          "2022-09-07T00:00:00",
          "2022-09-08T00:00:00",
          "2022-09-09T00:00:00",
          "2022-09-10T00:00:00",
          "2022-09-11T00:00:00",
          "2022-09-12T00:00:00",
          "2022-09-13T00:00:00",
          "2022-09-14T00:00:00",
          "2022-09-15T00:00:00",
          "2022-09-16T00:00:00",
          "2022-09-17T00:00:00",
          "2022-09-18T00:00:00",
          "2022-09-19T00:00:00",
          "2022-09-20T00:00:00",
          "2022-09-21T00:00:00",
          "2022-09-22T00:00:00",
          "2022-09-23T00:00:00",
          "2022-09-24T00:00:00",
          "2022-09-25T00:00:00",
          "2022-09-26T00:00:00",
          "2022-09-27T00:00:00",
          "2022-09-28T00:00:00",
          "2022-09-29T00:00:00",
          "2022-09-30T00:00:00",
          "2022-10-01T00:00:00",
          "2022-10-02T00:00:00",
          "2022-10-03T00:00:00",
          "2022-10-04T00:00:00",
          "2022-10-05T00:00:00",
          "2022-10-06T00:00:00",
          "2022-10-07T00:00:00",
          "2022-10-07T11:05:00"
         ],
         "xaxis": "x3",
         "y": [
          12957056842,
          12862281492,
          12762390985,
          14205121875,
          14441921785,
          14687139517,
          14774724048,
          12783573759,
          12615543560,
          12352186589,
          12613752413,
          12927169875,
          12692166040,
          12443025166,
          12415137288,
          12089480325,
          12607487464,
          12609061420,
          12619050728,
          12609391608,
          12996106274,
          12794279788,
          13095222445,
          13060579052,
          12279816787,
          12343954603,
          12300274215,
          12965381343,
          14530689015,
          14095490831,
          14044537816,
          14030668192
         ],
         "yaxis": "y3"
        }
       ],
       "layout": {
        "annotations": [
         {
          "font": {
           "size": 16
          },
          "showarrow": false,
          "text": "Price",
          "x": 0.5,
          "xanchor": "center",
          "xref": "paper",
          "y": 1,
          "yanchor": "bottom",
          "yref": "paper"
         },
         {
          "font": {
           "size": 16
          },
          "showarrow": false,
          "text": "Average Funding Rate",
          "x": 0.5,
          "xanchor": "center",
          "xref": "paper",
          "y": 0.6633333333333333,
          "yanchor": "bottom",
          "yref": "paper"
         },
         {
          "font": {
           "size": 16
          },
          "showarrow": false,
          "text": "Open Interest",
          "x": 0.5,
          "xanchor": "center",
          "xref": "paper",
          "y": 0.32666666666666666,
          "yanchor": "bottom",
          "yref": "paper"
         },
         {
          "showarrow": false,
          "text": "Baseline",
          "x": 1,
          "xanchor": "right",
          "xref": "x2 domain",
          "y": 0.01,
          "yanchor": "bottom",
          "yref": "y2"
         },
         {
          "showarrow": false,
          "text": "<b>19982</b>",
          "x": "2022-10-07T11:05:00",
          "xanchor": "left",
          "xref": "x",
          "y": 19981.7,
          "yanchor": "bottom",
          "yref": "y"
         },
         {
          "showarrow": false,
          "text": "<b>0.0075%</b>",
          "x": "2022-10-07T11:05:00",
          "xanchor": "left",
          "xref": "x2",
          "y": 0.0075,
          "yanchor": "bottom",
          "yref": "y2"
         },
         {
          "showarrow": false,
          "text": "<b>14.03B</b>",
          "x": "2022-10-07T11:05:00",
          "xanchor": "left",
          "xref": "x3",
          "y": 14030668192,
          "yanchor": "bottom",
          "yref": "y3"
         }
        ],
        "height": 1200,
        "legend": {
         "font": {
          "size": 12
         },
         "y": 0.5
        },
        "shapes": [
         {
          "line": {
           "dash": "dot"
          },
          "opacity": 0.3,
          "type": "line",
          "x0": 0,
          "x1": 1,
          "xref": "x2 domain",
          "y0": 0,
          "y1": 0,
          "yref": "y2"
         },
         {
          "line": {
           "dash": "dot"
          },
          "opacity": 0.3,
          "type": "line",
          "x0": 0,
          "x1": 1,
          "xref": "x2 domain",
          "y0": 0.01,
          "y1": 0.01,
          "yref": "y2"
         }
        ],
        "template": {
         "data": {
          "bar": [
           {
            "error_x": {
             "color": "#2a3f5f"
            },
            "error_y": {
             "color": "#2a3f5f"
            },
            "marker": {
             "line": {
              "color": "#E5ECF6",
              "width": 0.5
             },
             "pattern": {
              "fillmode": "overlay",
              "size": 10,
              "solidity": 0.2
             }
            },
            "type": "bar"
           }
          ],
          "barpolar": [
           {
            "marker": {
             "line": {
              "color": "#E5ECF6",
              "width": 0.5
             },
             "pattern": {
              "fillmode": "overlay",
              "size": 10,
              "solidity": 0.2
             }
            },
            "type": "barpolar"
           }
          ],
          "carpet": [
           {
            "aaxis": {
             "endlinecolor": "#2a3f5f",
             "gridcolor": "white",
             "linecolor": "white",
             "minorgridcolor": "white",
             "startlinecolor": "#2a3f5f"
            },
            "baxis": {
             "endlinecolor": "#2a3f5f",
             "gridcolor": "white",
             "linecolor": "white",
             "minorgridcolor": "white",
             "startlinecolor": "#2a3f5f"
            },
            "type": "carpet"
           }
          ],
          "choropleth": [
           {
            "colorbar": {
             "outlinewidth": 0,
             "ticks": ""
            },
            "type": "choropleth"
           }
          ],
          "contour": [
           {
            "colorbar": {
             "outlinewidth": 0,
             "ticks": ""
            },
            "colorscale": [
             [
              0,
              "#0d0887"
             ],
             [
              0.1111111111111111,
              "#46039f"
             ],
             [
              0.2222222222222222,
              "#7201a8"
             ],
             [
              0.3333333333333333,
              "#9c179e"
             ],
             [
              0.4444444444444444,
              "#bd3786"
             ],
             [
              0.5555555555555556,
              "#d8576b"
             ],
             [
              0.6666666666666666,
              "#ed7953"
             ],
             [
              0.7777777777777778,
              "#fb9f3a"
             ],
             [
              0.8888888888888888,
              "#fdca26"
             ],
             [
              1,
              "#f0f921"
             ]
            ],
            "type": "contour"
           }
          ],
          "contourcarpet": [
           {
            "colorbar": {
             "outlinewidth": 0,
             "ticks": ""
            },
            "type": "contourcarpet"
           }
          ],
          "heatmap": [
           {
            "colorbar": {
             "outlinewidth": 0,
             "ticks": ""
            },
            "colorscale": [
             [
              0,
              "#0d0887"
             ],
             [
              0.1111111111111111,
              "#46039f"
             ],
             [
              0.2222222222222222,
              "#7201a8"
             ],
             [
              0.3333333333333333,
              "#9c179e"
             ],
             [
              0.4444444444444444,
              "#bd3786"
             ],
             [
              0.5555555555555556,
              "#d8576b"
             ],
             [
              0.6666666666666666,
              "#ed7953"
             ],
             [
              0.7777777777777778,
              "#fb9f3a"
             ],
             [
              0.8888888888888888,
              "#fdca26"
             ],
             [
              1,
              "#f0f921"
             ]
            ],
            "type": "heatmap"
           }
          ],
          "heatmapgl": [
           {
            "colorbar": {
             "outlinewidth": 0,
             "ticks": ""
            },
            "colorscale": [
             [
              0,
              "#0d0887"
             ],
             [
              0.1111111111111111,
              "#46039f"
             ],
             [
              0.2222222222222222,
              "#7201a8"
             ],
             [
              0.3333333333333333,
              "#9c179e"
             ],
             [
              0.4444444444444444,
              "#bd3786"
             ],
             [
              0.5555555555555556,
              "#d8576b"
             ],
             [
              0.6666666666666666,
              "#ed7953"
             ],
             [
              0.7777777777777778,
              "#fb9f3a"
             ],
             [
              0.8888888888888888,
              "#fdca26"
             ],
             [
              1,
              "#f0f921"
             ]
            ],
            "type": "heatmapgl"
           }
          ],
          "histogram": [
           {
            "marker": {
             "pattern": {
              "fillmode": "overlay",
              "size": 10,
              "solidity": 0.2
             }
            },
            "type": "histogram"
           }
          ],
          "histogram2d": [
           {
            "colorbar": {
             "outlinewidth": 0,
             "ticks": ""
            },
            "colorscale": [
             [
              0,
              "#0d0887"
             ],
             [
              0.1111111111111111,
              "#46039f"
             ],
             [
              0.2222222222222222,
              "#7201a8"
             ],
             [
              0.3333333333333333,
              "#9c179e"
             ],
             [
              0.4444444444444444,
              "#bd3786"
             ],
             [
              0.5555555555555556,
              "#d8576b"
             ],
             [
              0.6666666666666666,
              "#ed7953"
             ],
             [
              0.7777777777777778,
              "#fb9f3a"
             ],
             [
              0.8888888888888888,
              "#fdca26"
             ],
             [
              1,
              "#f0f921"
             ]
            ],
            "type": "histogram2d"
           }
          ],
          "histogram2dcontour": [
           {
            "colorbar": {
             "outlinewidth": 0,
             "ticks": ""
            },
            "colorscale": [
             [
              0,
              "#0d0887"
             ],
             [
              0.1111111111111111,
              "#46039f"
             ],
             [
              0.2222222222222222,
              "#7201a8"
             ],
             [
              0.3333333333333333,
              "#9c179e"
             ],
             [
              0.4444444444444444,
              "#bd3786"
             ],
             [
              0.5555555555555556,
              "#d8576b"
             ],
             [
              0.6666666666666666,
              "#ed7953"
             ],
             [
              0.7777777777777778,
              "#fb9f3a"
             ],
             [
              0.8888888888888888,
              "#fdca26"
             ],
             [
              1,
              "#f0f921"
             ]
            ],
            "type": "histogram2dcontour"
           }
          ],
          "mesh3d": [
           {
            "colorbar": {
             "outlinewidth": 0,
             "ticks": ""
            },
            "type": "mesh3d"
           }
          ],
          "parcoords": [
           {
            "line": {
             "colorbar": {
              "outlinewidth": 0,
              "ticks": ""
             }
            },
            "type": "parcoords"
           }
          ],
          "pie": [
           {
            "automargin": true,
            "type": "pie"
           }
          ],
          "scatter": [
           {
            "fillpattern": {
             "fillmode": "overlay",
             "size": 10,
             "solidity": 0.2
            },
            "type": "scatter"
           }
          ],
          "scatter3d": [
           {
            "line": {
             "colorbar": {
              "outlinewidth": 0,
              "ticks": ""
             }
            },
            "marker": {
             "colorbar": {
              "outlinewidth": 0,
              "ticks": ""
             }
            },
            "type": "scatter3d"
           }
          ],
          "scattercarpet": [
           {
            "marker": {
             "colorbar": {
              "outlinewidth": 0,
              "ticks": ""
             }
            },
            "type": "scattercarpet"
           }
          ],
          "scattergeo": [
           {
            "marker": {
             "colorbar": {
              "outlinewidth": 0,
              "ticks": ""
             }
            },
            "type": "scattergeo"
           }
          ],
          "scattergl": [
           {
            "marker": {
             "colorbar": {
              "outlinewidth": 0,
              "ticks": ""
             }
            },
            "type": "scattergl"
           }
          ],
          "scattermapbox": [
           {
            "marker": {
             "colorbar": {
              "outlinewidth": 0,
              "ticks": ""
             }
            },
            "type": "scattermapbox"
           }
          ],
          "scatterpolar": [
           {
            "marker": {
             "colorbar": {
              "outlinewidth": 0,
              "ticks": ""
             }
            },
            "type": "scatterpolar"
           }
          ],
          "scatterpolargl": [
           {
            "marker": {
             "colorbar": {
              "outlinewidth": 0,
              "ticks": ""
             }
            },
            "type": "scatterpolargl"
           }
          ],
          "scatterternary": [
           {
            "marker": {
             "colorbar": {
              "outlinewidth": 0,
              "ticks": ""
             }
            },
            "type": "scatterternary"
           }
          ],
          "surface": [
           {
            "colorbar": {
             "outlinewidth": 0,
             "ticks": ""
            },
            "colorscale": [
             [
              0,
              "#0d0887"
             ],
             [
              0.1111111111111111,
              "#46039f"
             ],
             [
              0.2222222222222222,
              "#7201a8"
             ],
             [
              0.3333333333333333,
              "#9c179e"
             ],
             [
              0.4444444444444444,
              "#bd3786"
             ],
             [
              0.5555555555555556,
              "#d8576b"
             ],
             [
              0.6666666666666666,
              "#ed7953"
             ],
             [
              0.7777777777777778,
              "#fb9f3a"
             ],
             [
              0.8888888888888888,
              "#fdca26"
             ],
             [
              1,
              "#f0f921"
             ]
            ],
            "type": "surface"
           }
          ],
          "table": [
           {
            "cells": {
             "fill": {
              "color": "#EBF0F8"
             },
             "line": {
              "color": "white"
             }
            },
            "header": {
             "fill": {
              "color": "#C8D4E3"
             },
             "line": {
              "color": "white"
             }
            },
            "type": "table"
           }
          ]
         },
         "layout": {
          "annotationdefaults": {
           "arrowcolor": "#2a3f5f",
           "arrowhead": 0,
           "arrowwidth": 1
          },
          "autotypenumbers": "strict",
          "coloraxis": {
           "colorbar": {
            "outlinewidth": 0,
            "ticks": ""
           }
          },
          "colorscale": {
           "diverging": [
            [
             0,
             "#8e0152"
            ],
            [
             0.1,
             "#c51b7d"
            ],
            [
             0.2,
             "#de77ae"
            ],
            [
             0.3,
             "#f1b6da"
            ],
            [
             0.4,
             "#fde0ef"
            ],
            [
             0.5,
             "#f7f7f7"
            ],
            [
             0.6,
             "#e6f5d0"
            ],
            [
             0.7,
             "#b8e186"
            ],
            [
             0.8,
             "#7fbc41"
            ],
            [
             0.9,
             "#4d9221"
            ],
            [
             1,
             "#276419"
            ]
           ],
           "sequential": [
            [
             0,
             "#0d0887"
            ],
            [
             0.1111111111111111,
             "#46039f"
            ],
            [
             0.2222222222222222,
             "#7201a8"
            ],
            [
             0.3333333333333333,
             "#9c179e"
            ],
            [
             0.4444444444444444,
             "#bd3786"
            ],
            [
             0.5555555555555556,
             "#d8576b"
            ],
            [
             0.6666666666666666,
             "#ed7953"
            ],
            [
             0.7777777777777778,
             "#fb9f3a"
            ],
            [
             0.8888888888888888,
             "#fdca26"
            ],
            [
             1,
             "#f0f921"
            ]
           ],
           "sequentialminus": [
            [
             0,
             "#0d0887"
            ],
            [
             0.1111111111111111,
             "#46039f"
            ],
            [
             0.2222222222222222,
             "#7201a8"
            ],
            [
             0.3333333333333333,
             "#9c179e"
            ],
            [
             0.4444444444444444,
             "#bd3786"
            ],
            [
             0.5555555555555556,
             "#d8576b"
            ],
            [
             0.6666666666666666,
             "#ed7953"
            ],
            [
             0.7777777777777778,
             "#fb9f3a"
            ],
            [
             0.8888888888888888,
             "#fdca26"
            ],
            [
             1,
             "#f0f921"
            ]
           ]
          },
          "colorway": [
           "#636efa",
           "#EF553B",
           "#00cc96",
           "#ab63fa",
           "#FFA15A",
           "#19d3f3",
           "#FF6692",
           "#B6E880",
           "#FF97FF",
           "#FECB52"
          ],
          "font": {
           "color": "#2a3f5f"
          },
          "geo": {
           "bgcolor": "white",
           "lakecolor": "white",
           "landcolor": "#E5ECF6",
           "showlakes": true,
           "showland": true,
           "subunitcolor": "white"
          },
          "hoverlabel": {
           "align": "left"
          },
          "hovermode": "closest",
          "mapbox": {
           "style": "light"
          },
          "paper_bgcolor": "white",
          "plot_bgcolor": "#E5ECF6",
          "polar": {
           "angularaxis": {
            "gridcolor": "white",
            "linecolor": "white",
            "ticks": ""
           },
           "bgcolor": "#E5ECF6",
           "radialaxis": {
            "gridcolor": "white",
            "linecolor": "white",
            "ticks": ""
           }
          },
          "scene": {
           "xaxis": {
            "backgroundcolor": "#E5ECF6",
            "gridcolor": "white",
            "gridwidth": 2,
            "linecolor": "white",
            "showbackground": true,
            "ticks": "",
            "zerolinecolor": "white"
           },
           "yaxis": {
            "backgroundcolor": "#E5ECF6",
            "gridcolor": "white",
            "gridwidth": 2,
            "linecolor": "white",
            "showbackground": true,
            "ticks": "",
            "zerolinecolor": "white"
           },
           "zaxis": {
            "backgroundcolor": "#E5ECF6",
            "gridcolor": "white",
            "gridwidth": 2,
            "linecolor": "white",
            "showbackground": true,
            "ticks": "",
            "zerolinecolor": "white"
           }
          },
          "shapedefaults": {
           "line": {
            "color": "#2a3f5f"
           }
          },
          "ternary": {
           "aaxis": {
            "gridcolor": "white",
            "linecolor": "white",
            "ticks": ""
           },
           "baxis": {
            "gridcolor": "white",
            "linecolor": "white",
            "ticks": ""
           },
           "bgcolor": "#E5ECF6",
           "caxis": {
            "gridcolor": "white",
            "linecolor": "white",
            "ticks": ""
           }
          },
          "title": {
           "x": 0.05
          },
          "xaxis": {
           "automargin": true,
           "gridcolor": "white",
           "linecolor": "white",
           "ticks": "",
           "title": {
            "standoff": 15
           },
           "zerolinecolor": "white",
           "zerolinewidth": 2
          },
          "yaxis": {
           "automargin": true,
           "gridcolor": "white",
           "linecolor": "white",
           "ticks": "",
           "title": {
            "standoff": 15
           },
           "zerolinecolor": "white",
           "zerolinewidth": 2
          }
         }
        },
        "title": {
         "text": "<B>Futures Market Data (last 30 days)</B>",
         "x": 0.5
        },
        "width": 1500,
        "xaxis": {
         "anchor": "y",
         "domain": [
          0,
          1
         ],
         "matches": "x3",
         "showticklabels": false
        },
        "xaxis2": {
         "anchor": "y2",
         "domain": [
          0,
          1
         ],
         "matches": "x3",
         "showticklabels": false
        },
        "xaxis3": {
         "anchor": "y3",
         "domain": [
          0,
          1
         ]
        },
        "yaxis": {
         "anchor": "x",
         "domain": [
          0.6733333333333333,
          1
         ]
        },
        "yaxis2": {
         "anchor": "x2",
         "domain": [
          0.33666666666666667,
          0.6633333333333333
         ]
        },
        "yaxis3": {
         "anchor": "x3",
         "domain": [
          0,
          0.32666666666666666
         ]
        }
       }
      }
     },
     "metadata": {},
     "output_type": "display_data"
    }
   ],
   "source": [
    "# Create series with average funding rate: (usdt + token) / 2\n",
    "se_mean_funding_rate = round((df_token['mean_funding_rate'] + df_usdt['mean_funding_rate']) / 2, 4)\n",
    "se_weighted_mean_funding_rate = round((df_token['weighted_mean_funding_rate'] + df_usdt['weighted_mean_funding_rate']) / 2, 4)\n",
    "\n",
    "\n",
    "# date filter, gets date from 20 days ago\n",
    "days = 30\n",
    "date_filter = (datetime.datetime.now() - datetime.timedelta(days = days)).strftime('%Y-%m-%d')\n",
    "\n",
    "# Create fig with 3 subplots, 1 for price, 1 for funding rate, 1 for open interest\n",
    "fig = make_subplots(\n",
    "    rows=3, \n",
    "    cols=1,\n",
    "    subplot_titles=('Price', 'Average Funding Rate', 'Open Interest'),\n",
    "    shared_xaxes=True,\n",
    "    vertical_spacing=0.01\n",
    ")\n",
    "\n",
    "# Add price plot\n",
    "fig.add_trace(go.Scatter(x=df_token[date_filter:].index, \n",
    "                         y=df_token[date_filter:]['price'],\n",
    "                         name=\"Price\",\n",
    "                         mode='lines+markers'\n",
    "                         ),\n",
    "              row=1,\n",
    "              col=1\n",
    "             )\n",
    "\n",
    "# Add funding rate plot\n",
    "#fig.add_trace(go.Scatter(x=df_token[date_filter:].index, \n",
    "#                         y=se_mean_funding_rate[date_filter:],\n",
    "#                         name=\"Average Funding Rate\",                         \n",
    "#                         mode='lines+markers'),\n",
    "#              row=2,\n",
    "#              col=1\n",
    "#             )\n",
    "fig.add_trace(go.Bar(x=df_token[date_filter:].index, \n",
    "                         y=se_weighted_mean_funding_rate[date_filter:],\n",
    "                         name=\"Average Funding Rate\",                         \n",
    "                        ),\n",
    "              row=2,\n",
    "              col=1\n",
    "             )\n",
    "\n",
    "fig.add_hline(y=0, row=2, col=1, line_dash=\"dot\", opacity=0.3)\n",
    "fig.add_hline(y=0.01, row=2, col=1, line_dash=\"dot\", opacity=0.3, annotation_text='Baseline')\n",
    "\n",
    "# Add open interest plot\n",
    "fig.add_trace(go.Scatter(x=df_oi[date_filter:].index, \n",
    "                         y=df_oi[date_filter:]['total_open_interest'],\n",
    "                         name=\"Total Open Interest\",                       \n",
    "                         mode='lines+markers'),\n",
    "              row=3,\n",
    "              col=1\n",
    "             )\n",
    "\n",
    "###################\n",
    "# Add annotations #\n",
    "###################\n",
    "\n",
    "# Add annotation to current price\n",
    "fig.add_annotation(x=df_token[date_filter:].index[-1], \n",
    "                   y=df_token[date_filter:]['price'][-1],\n",
    "                   text='<b>{}</b>'.format(round(df_token[date_filter:]['price'][-1])),\n",
    "                   showarrow=False,\n",
    "                   xanchor='left',\n",
    "                   yanchor='bottom',\n",
    "                   row=1, col=1)\n",
    "\n",
    "\n",
    "# Add annotation to current funding rate\n",
    "#fig.add_annotation(x=df_token[date_filter:].index[-1], \n",
    "#                   y=se_mean_funding_rate[date_filter:][-1],\n",
    "#                   text='<b>{}%</b>'.format(se_mean_funding_rate[-1]),\n",
    "#                   showarrow=False,\n",
    "#                   xanchor='left',\n",
    "#                   yanchor='bottom',\n",
    "#                   row=2, col=1)\n",
    "\n",
    "fig.add_annotation(x=df_token[date_filter:].index[-1], \n",
    "                   y=se_weighted_mean_funding_rate[date_filter:][-1],\n",
    "                   text='<b>{}%</b>'.format(se_weighted_mean_funding_rate[-1]),\n",
    "                   showarrow=False,\n",
    "                   xanchor='left',\n",
    "                   yanchor='bottom',\n",
    "                   row=2, col=1)\n",
    "\n",
    "\n",
    "# Add annotation to current open interest\n",
    "fig.add_annotation(x=df_oi[date_filter:].index[-1], \n",
    "                   y=df_oi[date_filter:]['total_open_interest'][-1],\n",
    "                   text='<b>{}</b>'.format(numerize.numerize(df_oi[date_filter:]['total_open_interest'][-1])),\n",
    "                   showarrow=False,\n",
    "                   xanchor='left',\n",
    "                   yanchor='bottom',\n",
    "                   row=3, col=1)\n",
    "\n",
    "\n",
    "# Add Title and height\n",
    "fig.update_layout(legend=dict(y=0.5, font_size=12), \n",
    "                  height=1200, \n",
    "                  width=1500,\n",
    "                  title='<B>Futures Market Data (last {} days)</B>'.format(days),\n",
    "                  title_x=0.5)\n",
    "\n",
    "\n",
    "fig.show()\n",
    "\n",
    "\n"
   ]
  },
  {
   "cell_type": "markdown",
   "id": "7e73019c",
   "metadata": {},
   "source": [
    "# Hourly funding rate "
   ]
  },
  {
   "cell_type": "code",
   "execution_count": 5,
   "id": "035d3405",
   "metadata": {},
   "outputs": [
    {
     "data": {
      "application/vnd.plotly.v1+json": {
       "config": {
        "plotlyServerURL": "https://plot.ly"
       },
       "data": [
        {
         "marker": {
          "color": "black"
         },
         "mode": "lines+markers",
         "name": "Price",
         "type": "scatter",
         "x": [
          "2022-09-24T10:00:00+02:00",
          "2022-09-24T11:00:00+02:00",
          "2022-09-24T12:00:00+02:00",
          "2022-09-24T13:00:00+02:00",
          "2022-09-24T14:00:00+02:00",
          "2022-09-24T15:00:00+02:00",
          "2022-09-24T16:00:00+02:00",
          "2022-09-24T17:00:00+02:00",
          "2022-09-24T18:00:00+02:00",
          "2022-09-24T19:00:00+02:00",
          "2022-09-24T20:00:00+02:00",
          "2022-09-24T21:00:00+02:00",
          "2022-09-24T22:00:00+02:00",
          "2022-09-24T23:00:00+02:00",
          "2022-09-25T00:00:00+02:00",
          "2022-09-25T01:00:00+02:00",
          "2022-09-25T02:00:00+02:00",
          "2022-09-25T03:00:00+02:00",
          "2022-09-25T04:00:00+02:00",
          "2022-09-25T05:00:00+02:00",
          "2022-09-25T06:00:00+02:00",
          "2022-09-25T07:00:00+02:00",
          "2022-09-25T08:00:00+02:00",
          "2022-09-25T09:00:00+02:00",
          "2022-09-25T10:00:00+02:00",
          "2022-09-25T11:00:00+02:00",
          "2022-09-25T12:00:00+02:00",
          "2022-09-25T13:00:00+02:00",
          "2022-09-25T14:00:00+02:00",
          "2022-09-25T15:00:00+02:00",
          "2022-09-25T16:00:00+02:00",
          "2022-09-25T17:00:00+02:00",
          "2022-09-25T18:00:00+02:00",
          "2022-09-25T19:00:00+02:00",
          "2022-09-25T20:00:00+02:00",
          "2022-09-25T21:00:00+02:00",
          "2022-09-25T22:00:00+02:00",
          "2022-09-25T23:00:00+02:00",
          "2022-09-26T00:00:00+02:00",
          "2022-09-26T01:00:00+02:00",
          "2022-09-26T02:00:00+02:00",
          "2022-09-26T03:00:00+02:00",
          "2022-09-26T04:00:00+02:00",
          "2022-09-26T05:00:00+02:00",
          "2022-09-26T06:00:00+02:00",
          "2022-09-26T07:00:00+02:00",
          "2022-09-26T08:00:00+02:00",
          "2022-09-26T09:00:00+02:00",
          "2022-09-26T10:00:00+02:00",
          "2022-09-26T11:00:00+02:00",
          "2022-09-26T12:00:00+02:00",
          "2022-09-26T13:00:00+02:00",
          "2022-09-26T14:00:00+02:00",
          "2022-09-26T15:00:00+02:00",
          "2022-09-26T16:00:00+02:00",
          "2022-09-26T17:00:00+02:00",
          "2022-09-26T18:00:00+02:00",
          "2022-09-26T19:00:00+02:00",
          "2022-09-26T20:00:00+02:00",
          "2022-09-26T21:00:00+02:00",
          "2022-09-26T22:00:00+02:00",
          "2022-09-26T23:00:00+02:00",
          "2022-09-27T00:00:00+02:00",
          "2022-09-27T01:00:00+02:00",
          "2022-09-27T02:00:00+02:00",
          "2022-09-27T03:00:00+02:00",
          "2022-09-27T04:00:00+02:00",
          "2022-09-27T05:00:00+02:00",
          "2022-09-27T06:00:00+02:00",
          "2022-09-27T07:00:00+02:00",
          "2022-09-27T08:00:00+02:00",
          "2022-09-27T09:00:00+02:00",
          "2022-09-27T10:00:00+02:00",
          "2022-09-27T11:00:00+02:00",
          "2022-09-27T12:00:00+02:00",
          "2022-09-27T13:00:00+02:00",
          "2022-09-27T14:00:00+02:00",
          "2022-09-27T15:00:00+02:00",
          "2022-09-27T16:00:00+02:00",
          "2022-09-27T17:00:00+02:00",
          "2022-09-27T18:00:00+02:00",
          "2022-09-27T19:00:00+02:00",
          "2022-09-27T20:00:00+02:00",
          "2022-09-27T21:00:00+02:00",
          "2022-09-27T22:00:00+02:00",
          "2022-09-27T23:00:00+02:00",
          "2022-09-28T00:00:00+02:00",
          "2022-09-28T01:00:00+02:00",
          "2022-09-28T02:00:00+02:00",
          "2022-09-28T03:00:00+02:00",
          "2022-09-28T04:00:00+02:00",
          "2022-09-28T05:00:00+02:00",
          "2022-09-28T06:00:00+02:00",
          "2022-09-28T07:00:00+02:00",
          "2022-09-28T08:00:00+02:00",
          "2022-09-28T09:00:00+02:00",
          "2022-09-28T10:00:00+02:00",
          "2022-09-28T11:00:00+02:00",
          "2022-09-28T12:00:00+02:00",
          "2022-09-28T13:00:00+02:00",
          "2022-09-28T14:00:00+02:00",
          "2022-09-28T15:00:00+02:00",
          "2022-09-28T16:00:00+02:00",
          "2022-09-28T17:00:00+02:00",
          "2022-09-28T18:00:00+02:00",
          "2022-09-28T19:00:00+02:00",
          "2022-09-28T20:00:00+02:00",
          "2022-09-28T21:00:00+02:00",
          "2022-09-28T22:00:00+02:00",
          "2022-09-28T23:00:00+02:00",
          "2022-09-29T00:00:00+02:00",
          "2022-09-29T01:00:00+02:00",
          "2022-09-29T02:00:00+02:00",
          "2022-09-29T03:00:00+02:00",
          "2022-09-29T04:00:00+02:00",
          "2022-09-29T05:00:00+02:00",
          "2022-09-29T06:00:00+02:00",
          "2022-09-29T07:00:00+02:00",
          "2022-09-29T08:00:00+02:00",
          "2022-09-29T09:00:00+02:00",
          "2022-09-29T10:00:00+02:00",
          "2022-09-29T11:00:00+02:00",
          "2022-09-29T12:00:00+02:00",
          "2022-09-29T13:00:00+02:00",
          "2022-09-29T14:00:00+02:00",
          "2022-09-29T15:00:00+02:00",
          "2022-09-29T16:00:00+02:00",
          "2022-09-29T17:00:00+02:00",
          "2022-09-29T18:00:00+02:00",
          "2022-09-29T19:00:00+02:00",
          "2022-09-29T20:00:00+02:00",
          "2022-09-29T21:00:00+02:00",
          "2022-09-29T22:00:00+02:00",
          "2022-09-29T23:00:00+02:00",
          "2022-09-30T00:00:00+02:00",
          "2022-09-30T01:00:00+02:00",
          "2022-09-30T02:00:00+02:00",
          "2022-09-30T03:00:00+02:00",
          "2022-09-30T04:00:00+02:00",
          "2022-09-30T05:00:00+02:00",
          "2022-09-30T06:00:00+02:00",
          "2022-09-30T07:00:00+02:00",
          "2022-09-30T08:00:00+02:00",
          "2022-09-30T09:00:00+02:00",
          "2022-09-30T10:00:00+02:00",
          "2022-09-30T11:00:00+02:00",
          "2022-09-30T12:00:00+02:00",
          "2022-10-02T11:50:00+02:00",
          "2022-10-02T12:00:00+02:00",
          "2022-10-02T13:00:00+02:00",
          "2022-10-02T14:00:00+02:00",
          "2022-10-02T15:00:00+02:00",
          "2022-10-02T16:00:00+02:00",
          "2022-10-02T17:00:00+02:00",
          "2022-10-02T18:00:00+02:00",
          "2022-10-02T19:00:00+02:00",
          "2022-10-02T20:00:00+02:00",
          "2022-10-02T21:00:00+02:00",
          "2022-10-03T02:00:00+02:00",
          "2022-10-03T03:00:00+02:00",
          "2022-10-03T04:00:00+02:00",
          "2022-10-03T05:00:00+02:00",
          "2022-10-03T06:00:00+02:00",
          "2022-10-03T07:00:00+02:00",
          "2022-10-03T08:00:00+02:00",
          "2022-10-03T09:00:00+02:00",
          "2022-10-03T10:00:00+02:00",
          "2022-10-03T11:00:00+02:00",
          "2022-10-03T12:00:00+02:00",
          "2022-10-03T13:00:00+02:00",
          "2022-10-03T14:00:00+02:00",
          "2022-10-03T15:00:00+02:00",
          "2022-10-03T16:00:00+02:00",
          "2022-10-03T17:00:00+02:00",
          "2022-10-03T18:00:00+02:00",
          "2022-10-03T19:00:00+02:00",
          "2022-10-03T20:00:00+02:00",
          "2022-10-03T21:00:00+02:00",
          "2022-10-03T22:00:00+02:00",
          "2022-10-03T23:00:00+02:00",
          "2022-10-04T00:00:00+02:00",
          "2022-10-04T01:00:00+02:00",
          "2022-10-04T02:00:00+02:00",
          "2022-10-04T03:00:00+02:00",
          "2022-10-04T04:00:00+02:00",
          "2022-10-04T05:00:00+02:00",
          "2022-10-04T06:00:00+02:00",
          "2022-10-04T07:00:00+02:00",
          "2022-10-04T08:00:00+02:00",
          "2022-10-04T09:00:00+02:00",
          "2022-10-04T10:00:00+02:00",
          "2022-10-04T11:00:00+02:00",
          "2022-10-04T12:00:00+02:00",
          "2022-10-04T13:00:00+02:00",
          "2022-10-04T14:00:00+02:00",
          "2022-10-04T15:00:00+02:00",
          "2022-10-04T16:00:00+02:00",
          "2022-10-04T17:00:00+02:00",
          "2022-10-04T18:00:00+02:00",
          "2022-10-04T19:00:00+02:00",
          "2022-10-04T20:00:00+02:00",
          "2022-10-04T21:00:00+02:00",
          "2022-10-04T22:00:00+02:00",
          "2022-10-04T23:00:00+02:00",
          "2022-10-05T00:00:00+02:00",
          "2022-10-05T01:00:00+02:00",
          "2022-10-05T02:00:00+02:00",
          "2022-10-05T03:00:00+02:00",
          "2022-10-05T04:00:00+02:00",
          "2022-10-05T05:00:00+02:00",
          "2022-10-05T06:00:00+02:00",
          "2022-10-05T07:00:00+02:00",
          "2022-10-05T08:00:00+02:00",
          "2022-10-05T09:00:00+02:00",
          "2022-10-05T10:00:00+02:00",
          "2022-10-05T11:00:00+02:00",
          "2022-10-05T12:00:00+02:00",
          "2022-10-05T13:00:00+02:00",
          "2022-10-05T14:00:00+02:00",
          "2022-10-05T15:00:00+02:00",
          "2022-10-05T16:00:00+02:00",
          "2022-10-05T17:00:00+02:00",
          "2022-10-05T18:00:00+02:00",
          "2022-10-05T19:00:00+02:00",
          "2022-10-05T20:00:00+02:00",
          "2022-10-05T21:00:00+02:00",
          "2022-10-05T22:00:00+02:00",
          "2022-10-05T23:00:00+02:00",
          "2022-10-06T00:00:00+02:00",
          "2022-10-06T01:00:00+02:00",
          "2022-10-06T02:00:00+02:00",
          "2022-10-06T03:00:00+02:00",
          "2022-10-06T04:00:00+02:00",
          "2022-10-06T05:00:00+02:00",
          "2022-10-06T06:00:00+02:00",
          "2022-10-06T07:00:00+02:00",
          "2022-10-06T08:00:00+02:00",
          "2022-10-06T09:00:00+02:00",
          "2022-10-06T10:00:00+02:00",
          "2022-10-06T11:00:00+02:00",
          "2022-10-06T12:00:00+02:00",
          "2022-10-06T13:00:00+02:00",
          "2022-10-06T14:00:00+02:00",
          "2022-10-06T15:00:00+02:00",
          "2022-10-06T16:00:00+02:00",
          "2022-10-06T17:00:00+02:00",
          "2022-10-06T18:00:00+02:00",
          "2022-10-06T19:00:00+02:00",
          "2022-10-06T20:00:00+02:00",
          "2022-10-06T21:00:00+02:00",
          "2022-10-06T22:00:00+02:00",
          "2022-10-06T23:00:00+02:00",
          "2022-10-07T00:00:00+02:00",
          "2022-10-07T01:00:00+02:00",
          "2022-10-07T02:00:00+02:00",
          "2022-10-07T03:00:00+02:00",
          "2022-10-07T04:00:00+02:00",
          "2022-10-07T05:00:00+02:00",
          "2022-10-07T06:00:00+02:00",
          "2022-10-07T07:00:00+02:00",
          "2022-10-07T08:00:00+02:00",
          "2022-10-07T09:00:00+02:00",
          "2022-10-07T10:00:00+02:00",
          "2022-10-07T11:00:00+02:00",
          "2022-10-07T12:00:00+02:00",
          "2022-10-07T13:00:00+02:00"
         ],
         "xaxis": "x",
         "y": [
          18984.9,
          19069.8,
          19017.8,
          19026,
          19045.3,
          19145,
          19115.1,
          19077.9,
          19111.6,
          19089.9,
          19063.3,
          19110.2,
          19102.6,
          19130.3,
          18923.4,
          18866.6,
          18909.7,
          18950.3,
          18969.2,
          18946.3,
          19041.4,
          19000.3,
          18986.6,
          19017,
          19096.9,
          19078,
          19034.6,
          19075,
          19112.7,
          19073.6,
          18919.9,
          18906.9,
          18976.6,
          18965,
          18995,
          18926.2,
          18907.6,
          18900.6,
          18741.1,
          18777.2,
          18793.1,
          18768.9,
          18871.4,
          18842,
          18860.7,
          18801,
          18761.7,
          18695.6,
          18902.2,
          19276.6,
          19087.9,
          19090.5,
          18856.6,
          19081.7,
          19190.4,
          19130.6,
          19100.2,
          19073.2,
          19094.8,
          19165.5,
          19196,
          19104.9,
          19082,
          19134.2,
          19217.2,
          19342.8,
          19769.3,
          20049.8,
          20105,
          20046.8,
          20196.9,
          20191.6,
          20174.5,
          20138.8,
          20177.5,
          20215,
          20225.1,
          20256.3,
          20200,
          20196,
          19885.4,
          19093.1,
          18925.4,
          19120.4,
          19051.7,
          19064.7,
          18968.8,
          19067.2,
          19069.8,
          19090.7,
          18995.5,
          18616.3,
          18727.4,
          18746.2,
          18813.1,
          18698.9,
          18774,
          18731.1,
          18637,
          19003.5,
          18942.5,
          19052.7,
          19124,
          19372.6,
          19477.3,
          19502.5,
          19352.8,
          19541.4,
          19539.1,
          19560.5,
          19608.6,
          19479.7,
          19404.9,
          19414.3,
          19491.5,
          19416.7,
          19498.7,
          19578.5,
          19431.7,
          19388,
          19351.2,
          19339,
          19465.9,
          19441.1,
          19465.2,
          19197.7,
          18975.1,
          19187.9,
          19276.3,
          19454.2,
          19253.1,
          19300.1,
          19404,
          19499.6,
          19429.1,
          19468.7,
          19579.2,
          19537.5,
          19490.5,
          19357.6,
          19388.7,
          19421.7,
          19444.1,
          19450.8,
          19562.8,
          19618,
          19516.5,
          19253,
          19250.4,
          19083.4,
          19184.6,
          19142.5,
          19153.4,
          19097.1,
          19139.2,
          19194.7,
          19192.5,
          19210,
          19047.2,
          19084.1,
          19228.8,
          19135.9,
          19159.9,
          19084.3,
          19248.7,
          19176.9,
          19190.8,
          19188.3,
          19168.6,
          19225.4,
          19240.3,
          19255.9,
          19210.1,
          19412.5,
          19338.4,
          19414.1,
          19543.7,
          19605,
          19540.1,
          19586.5,
          19548.2,
          19514,
          19623.4,
          19554.3,
          19490.8,
          19547.3,
          19555.9,
          19588.2,
          19601.7,
          19833.1,
          19959.9,
          19887.1,
          19936.1,
          19955.9,
          19930.2,
          19973.8,
          20090.8,
          20103.9,
          20093.3,
          19995.2,
          20019,
          20117.5,
          20211,
          20325.2,
          20287.5,
          20296.4,
          20336,
          20181.6,
          20215,
          20187.3,
          20188,
          20118.1,
          20191.6,
          20252.8,
          20218.9,
          20133,
          20089.6,
          20119.2,
          20025,
          20019.7,
          19912.1,
          19863.9,
          19994.4,
          20229.3,
          20158.1,
          20263,
          20114.3,
          19975.8,
          20047.4,
          20184.4,
          20152.5,
          20261.6,
          20357.7,
          20321.5,
          20346.6,
          20348,
          20296,
          20165.6,
          20215.5,
          20134.9,
          20090,
          20123.8,
          20236.7,
          20181.8,
          20106.2,
          20098.3,
          20010,
          20051,
          20106.6,
          20011,
          20003.2,
          20044.7,
          19909.7,
          19894.4,
          19957.2,
          19988.8,
          19987.8,
          20013.1,
          19981.9,
          19935.7,
          19963.5,
          19847.4,
          19923.1,
          19966.8,
          19972.9,
          19990.1
         ],
         "yaxis": "y2"
        },
        {
         "marker": {
          "color": "yellowgreen"
         },
         "name": "Weighted Average Funding Rate",
         "type": "bar",
         "x": [
          "2022-09-24T10:00:00+02:00",
          "2022-09-24T11:00:00+02:00",
          "2022-09-24T12:00:00+02:00",
          "2022-09-24T13:00:00+02:00",
          "2022-09-24T14:00:00+02:00",
          "2022-09-24T15:00:00+02:00",
          "2022-09-24T16:00:00+02:00",
          "2022-09-24T17:00:00+02:00",
          "2022-09-24T18:00:00+02:00",
          "2022-09-24T19:00:00+02:00",
          "2022-09-24T20:00:00+02:00",
          "2022-09-24T21:00:00+02:00",
          "2022-09-24T22:00:00+02:00",
          "2022-09-24T23:00:00+02:00",
          "2022-09-25T00:00:00+02:00",
          "2022-09-25T01:00:00+02:00",
          "2022-09-25T02:00:00+02:00",
          "2022-09-25T03:00:00+02:00",
          "2022-09-25T04:00:00+02:00",
          "2022-09-25T05:00:00+02:00",
          "2022-09-25T06:00:00+02:00",
          "2022-09-25T07:00:00+02:00",
          "2022-09-25T08:00:00+02:00",
          "2022-09-25T09:00:00+02:00",
          "2022-09-25T10:00:00+02:00",
          "2022-09-25T11:00:00+02:00",
          "2022-09-25T12:00:00+02:00",
          "2022-09-25T13:00:00+02:00",
          "2022-09-25T14:00:00+02:00",
          "2022-09-25T15:00:00+02:00",
          "2022-09-25T16:00:00+02:00",
          "2022-09-25T17:00:00+02:00",
          "2022-09-25T18:00:00+02:00",
          "2022-09-25T19:00:00+02:00",
          "2022-09-25T20:00:00+02:00",
          "2022-09-25T21:00:00+02:00",
          "2022-09-25T22:00:00+02:00",
          "2022-09-25T23:00:00+02:00",
          "2022-09-26T00:00:00+02:00",
          "2022-09-26T01:00:00+02:00",
          "2022-09-26T02:00:00+02:00",
          "2022-09-26T03:00:00+02:00",
          "2022-09-26T04:00:00+02:00",
          "2022-09-26T05:00:00+02:00",
          "2022-09-26T06:00:00+02:00",
          "2022-09-26T07:00:00+02:00",
          "2022-09-26T08:00:00+02:00",
          "2022-09-26T09:00:00+02:00",
          "2022-09-26T10:00:00+02:00",
          "2022-09-26T11:00:00+02:00",
          "2022-09-26T12:00:00+02:00",
          "2022-09-26T13:00:00+02:00",
          "2022-09-26T14:00:00+02:00",
          "2022-09-26T15:00:00+02:00",
          "2022-09-26T16:00:00+02:00",
          "2022-09-26T17:00:00+02:00",
          "2022-09-26T18:00:00+02:00",
          "2022-09-26T19:00:00+02:00",
          "2022-09-26T20:00:00+02:00",
          "2022-09-26T21:00:00+02:00",
          "2022-09-26T22:00:00+02:00",
          "2022-09-26T23:00:00+02:00",
          "2022-09-27T00:00:00+02:00",
          "2022-09-27T01:00:00+02:00",
          "2022-09-27T02:00:00+02:00",
          "2022-09-27T03:00:00+02:00",
          "2022-09-27T04:00:00+02:00",
          "2022-09-27T05:00:00+02:00",
          "2022-09-27T06:00:00+02:00",
          "2022-09-27T07:00:00+02:00",
          "2022-09-27T08:00:00+02:00",
          "2022-09-27T09:00:00+02:00",
          "2022-09-27T10:00:00+02:00",
          "2022-09-27T11:00:00+02:00",
          "2022-09-27T12:00:00+02:00",
          "2022-09-27T13:00:00+02:00",
          "2022-09-27T14:00:00+02:00",
          "2022-09-27T15:00:00+02:00",
          "2022-09-27T16:00:00+02:00",
          "2022-09-27T17:00:00+02:00",
          "2022-09-27T18:00:00+02:00",
          "2022-09-27T19:00:00+02:00",
          "2022-09-27T20:00:00+02:00",
          "2022-09-27T21:00:00+02:00",
          "2022-09-27T22:00:00+02:00",
          "2022-09-27T23:00:00+02:00",
          "2022-09-28T00:00:00+02:00",
          "2022-09-28T01:00:00+02:00",
          "2022-09-28T02:00:00+02:00",
          "2022-09-28T03:00:00+02:00",
          "2022-09-28T04:00:00+02:00",
          "2022-09-28T05:00:00+02:00",
          "2022-09-28T06:00:00+02:00",
          "2022-09-28T07:00:00+02:00",
          "2022-09-28T08:00:00+02:00",
          "2022-09-28T09:00:00+02:00",
          "2022-09-28T10:00:00+02:00",
          "2022-09-28T11:00:00+02:00",
          "2022-09-28T12:00:00+02:00",
          "2022-09-28T13:00:00+02:00",
          "2022-09-28T14:00:00+02:00",
          "2022-09-28T15:00:00+02:00",
          "2022-09-28T16:00:00+02:00",
          "2022-09-28T17:00:00+02:00",
          "2022-09-28T18:00:00+02:00",
          "2022-09-28T19:00:00+02:00",
          "2022-09-28T20:00:00+02:00",
          "2022-09-28T21:00:00+02:00",
          "2022-09-28T22:00:00+02:00",
          "2022-09-28T23:00:00+02:00",
          "2022-09-29T00:00:00+02:00",
          "2022-09-29T01:00:00+02:00",
          "2022-09-29T02:00:00+02:00",
          "2022-09-29T03:00:00+02:00",
          "2022-09-29T04:00:00+02:00",
          "2022-09-29T05:00:00+02:00",
          "2022-09-29T06:00:00+02:00",
          "2022-09-29T07:00:00+02:00",
          "2022-09-29T08:00:00+02:00",
          "2022-09-29T09:00:00+02:00",
          "2022-09-29T10:00:00+02:00",
          "2022-09-29T11:00:00+02:00",
          "2022-09-29T12:00:00+02:00",
          "2022-09-29T13:00:00+02:00",
          "2022-09-29T14:00:00+02:00",
          "2022-09-29T15:00:00+02:00",
          "2022-09-29T16:00:00+02:00",
          "2022-09-29T17:00:00+02:00",
          "2022-09-29T18:00:00+02:00",
          "2022-09-29T19:00:00+02:00",
          "2022-09-29T20:00:00+02:00",
          "2022-09-29T21:00:00+02:00",
          "2022-09-29T22:00:00+02:00",
          "2022-09-29T23:00:00+02:00",
          "2022-09-30T00:00:00+02:00",
          "2022-09-30T01:00:00+02:00",
          "2022-09-30T02:00:00+02:00",
          "2022-09-30T03:00:00+02:00",
          "2022-09-30T04:00:00+02:00",
          "2022-09-30T05:00:00+02:00",
          "2022-09-30T06:00:00+02:00",
          "2022-09-30T07:00:00+02:00",
          "2022-09-30T08:00:00+02:00",
          "2022-09-30T09:00:00+02:00",
          "2022-09-30T10:00:00+02:00",
          "2022-09-30T11:00:00+02:00",
          "2022-09-30T12:00:00+02:00",
          "2022-10-02T11:50:00+02:00",
          "2022-10-02T12:00:00+02:00",
          "2022-10-02T13:00:00+02:00",
          "2022-10-02T14:00:00+02:00",
          "2022-10-02T15:00:00+02:00",
          "2022-10-02T16:00:00+02:00",
          "2022-10-02T17:00:00+02:00",
          "2022-10-02T18:00:00+02:00",
          "2022-10-02T19:00:00+02:00",
          "2022-10-02T20:00:00+02:00",
          "2022-10-02T21:00:00+02:00",
          "2022-10-03T02:00:00+02:00",
          "2022-10-03T03:00:00+02:00",
          "2022-10-03T04:00:00+02:00",
          "2022-10-03T05:00:00+02:00",
          "2022-10-03T06:00:00+02:00",
          "2022-10-03T07:00:00+02:00",
          "2022-10-03T08:00:00+02:00",
          "2022-10-03T09:00:00+02:00",
          "2022-10-03T10:00:00+02:00",
          "2022-10-03T11:00:00+02:00",
          "2022-10-03T12:00:00+02:00",
          "2022-10-03T13:00:00+02:00",
          "2022-10-03T14:00:00+02:00",
          "2022-10-03T15:00:00+02:00",
          "2022-10-03T16:00:00+02:00",
          "2022-10-03T17:00:00+02:00",
          "2022-10-03T18:00:00+02:00",
          "2022-10-03T19:00:00+02:00",
          "2022-10-03T20:00:00+02:00",
          "2022-10-03T21:00:00+02:00",
          "2022-10-03T22:00:00+02:00",
          "2022-10-03T23:00:00+02:00",
          "2022-10-04T00:00:00+02:00",
          "2022-10-04T01:00:00+02:00",
          "2022-10-04T02:00:00+02:00",
          "2022-10-04T03:00:00+02:00",
          "2022-10-04T04:00:00+02:00",
          "2022-10-04T05:00:00+02:00",
          "2022-10-04T06:00:00+02:00",
          "2022-10-04T07:00:00+02:00",
          "2022-10-04T08:00:00+02:00",
          "2022-10-04T09:00:00+02:00",
          "2022-10-04T10:00:00+02:00",
          "2022-10-04T11:00:00+02:00",
          "2022-10-04T12:00:00+02:00",
          "2022-10-04T13:00:00+02:00",
          "2022-10-04T14:00:00+02:00",
          "2022-10-04T15:00:00+02:00",
          "2022-10-04T16:00:00+02:00",
          "2022-10-04T17:00:00+02:00",
          "2022-10-04T18:00:00+02:00",
          "2022-10-04T19:00:00+02:00",
          "2022-10-04T20:00:00+02:00",
          "2022-10-04T21:00:00+02:00",
          "2022-10-04T22:00:00+02:00",
          "2022-10-04T23:00:00+02:00",
          "2022-10-05T00:00:00+02:00",
          "2022-10-05T01:00:00+02:00",
          "2022-10-05T02:00:00+02:00",
          "2022-10-05T03:00:00+02:00",
          "2022-10-05T04:00:00+02:00",
          "2022-10-05T05:00:00+02:00",
          "2022-10-05T06:00:00+02:00",
          "2022-10-05T07:00:00+02:00",
          "2022-10-05T08:00:00+02:00",
          "2022-10-05T09:00:00+02:00",
          "2022-10-05T10:00:00+02:00",
          "2022-10-05T11:00:00+02:00",
          "2022-10-05T12:00:00+02:00",
          "2022-10-05T13:00:00+02:00",
          "2022-10-05T14:00:00+02:00",
          "2022-10-05T15:00:00+02:00",
          "2022-10-05T16:00:00+02:00",
          "2022-10-05T17:00:00+02:00",
          "2022-10-05T18:00:00+02:00",
          "2022-10-05T19:00:00+02:00",
          "2022-10-05T20:00:00+02:00",
          "2022-10-05T21:00:00+02:00",
          "2022-10-05T22:00:00+02:00",
          "2022-10-05T23:00:00+02:00",
          "2022-10-06T00:00:00+02:00",
          "2022-10-06T01:00:00+02:00",
          "2022-10-06T02:00:00+02:00",
          "2022-10-06T03:00:00+02:00",
          "2022-10-06T04:00:00+02:00",
          "2022-10-06T05:00:00+02:00",
          "2022-10-06T06:00:00+02:00",
          "2022-10-06T07:00:00+02:00",
          "2022-10-06T08:00:00+02:00",
          "2022-10-06T09:00:00+02:00",
          "2022-10-06T10:00:00+02:00",
          "2022-10-06T11:00:00+02:00",
          "2022-10-06T12:00:00+02:00",
          "2022-10-06T13:00:00+02:00",
          "2022-10-06T14:00:00+02:00",
          "2022-10-06T15:00:00+02:00",
          "2022-10-06T16:00:00+02:00",
          "2022-10-06T17:00:00+02:00",
          "2022-10-06T18:00:00+02:00",
          "2022-10-06T19:00:00+02:00",
          "2022-10-06T20:00:00+02:00",
          "2022-10-06T21:00:00+02:00",
          "2022-10-06T22:00:00+02:00",
          "2022-10-06T23:00:00+02:00",
          "2022-10-07T00:00:00+02:00",
          "2022-10-07T01:00:00+02:00",
          "2022-10-07T02:00:00+02:00",
          "2022-10-07T03:00:00+02:00",
          "2022-10-07T04:00:00+02:00",
          "2022-10-07T05:00:00+02:00",
          "2022-10-07T06:00:00+02:00",
          "2022-10-07T07:00:00+02:00",
          "2022-10-07T08:00:00+02:00",
          "2022-10-07T09:00:00+02:00",
          "2022-10-07T10:00:00+02:00",
          "2022-10-07T11:00:00+02:00",
          "2022-10-07T12:00:00+02:00",
          "2022-10-07T13:00:00+02:00"
         ],
         "xaxis": "x",
         "y": [
          0.0017,
          0.0005,
          -0.0008,
          -0.0008,
          -0.0005,
          0.0009,
          0.0015,
          0.0018,
          0.0015,
          0.0031,
          0.001,
          0.0018,
          0.0028,
          0.0014,
          0.001,
          0.001,
          0.0019,
          0.0026,
          0.0024,
          0.0019,
          0.0025,
          0.0012,
          0.0007,
          0.0014,
          0.0024,
          0.0014,
          -0.0005,
          -0.0002,
          0.0011,
          0.0019,
          0.0012,
          0.001,
          0.002,
          0.0035,
          0.0032,
          0.0035,
          0.0027,
          0.0023,
          0.0009,
          -0.0009,
          -0.0018,
          0.0022,
          0.0034,
          0.0036,
          0.0029,
          0.0027,
          0.0023,
          0.0018,
          0.0008,
          0.0059,
          0.0053,
          0.0061,
          0.0044,
          0.0039,
          0.0046,
          0.0038,
          0.003,
          -0.0005,
          0.0001,
          -0.0001,
          -0.0019,
          -0.0023,
          -0.0012,
          -0.0004,
          -0.0004,
          0.0049,
          0.0076,
          0.0085,
          0.0088,
          0.0083,
          0.0079,
          0.007,
          0.007,
          0.0033,
          0.0039,
          0.0043,
          0.0043,
          0.0037,
          0.0032,
          0.0037,
          0.0034,
          0.0022,
          -0.0032,
          -0.002,
          -0.0021,
          0,
          0.0021,
          0.0019,
          0.0025,
          0.0057,
          0.0047,
          0.0023,
          0.0019,
          -0.0015,
          0.0003,
          -0.0011,
          0.0013,
          0.0037,
          0.0048,
          0.0057,
          0.0056,
          0.0044,
          0.005,
          0.0041,
          0.0041,
          0.0041,
          0.0038,
          0.0061,
          0.007,
          0.0054,
          0.0058,
          0.0052,
          0.0037,
          0.0046,
          0.0045,
          0.0052,
          0.0048,
          0.0039,
          0.0025,
          0.0022,
          0.0034,
          0.0063,
          0.0071,
          0.0061,
          0.0056,
          0.0044,
          0.0035,
          0.0015,
          0.0024,
          0.0054,
          0.0062,
          0.0053,
          0.0047,
          0.0047,
          0.0044,
          0.0051,
          0.0048,
          0.0044,
          0.0042,
          0.0055,
          0.0039,
          0.004,
          0.0039,
          0.0039,
          0.0032,
          -0.004,
          -0.0037,
          -0.0017,
          -0.0016,
          -0.0024,
          -0.0008,
          0.0019,
          0.0021,
          0.0018,
          0.0029,
          0.0025,
          0.0043,
          0.0024,
          0.0012,
          0.0017,
          0.0046,
          0.003,
          0.0035,
          0.0023,
          0.003,
          0.003,
          0.0048,
          0.006,
          0.0048,
          0.0047,
          0.0051,
          0.007,
          0.0068,
          0.0058,
          0.0049,
          0.0048,
          0.0051,
          0.0056,
          0.0062,
          0.0068,
          0.0059,
          0.0045,
          0.0056,
          0.0027,
          0.006,
          0.0045,
          0.0062,
          0.0059,
          0.0048,
          0.0032,
          0.003,
          0.0069,
          0.0071,
          0.0075,
          0.0068,
          0.0065,
          0.0054,
          0.0053,
          0.0038,
          -0.0026,
          0.0012,
          0.0034,
          0.0033,
          0.0045,
          0.0029,
          0.0032,
          0.0037,
          0.0037,
          0.0041,
          0.0041,
          0.0054,
          0.0064,
          0.007,
          0.0072,
          0.0068,
          0.0034,
          0.0051,
          0.0062,
          0.0065,
          0.0074,
          0.0077,
          0.0075,
          0.007,
          0.0066,
          0.0056,
          0.0038,
          0.0038,
          0.0026,
          0.0028,
          0.0038,
          0.0045,
          0.0038,
          0.0041,
          0.005,
          0.004,
          0.0036,
          0.0038,
          0.0034,
          0.0032,
          0.0035,
          0.0044,
          0.0049,
          0.0052,
          0.0062,
          0.0063,
          0.0058,
          0.0062,
          0.0017,
          0.0022,
          0.0021,
          0.0027,
          0.0035,
          0.003,
          0.0026,
          0.0029,
          0.005,
          0.0048,
          0.0052,
          0.0052,
          0.0049,
          0.0052,
          0.0051,
          0.0063,
          0.0079,
          0.0073,
          0.0071
         ],
         "yaxis": "y"
        }
       ],
       "layout": {
        "annotations": [
         {
          "showarrow": false,
          "text": "Baseline",
          "x": 1,
          "xanchor": "right",
          "xref": "x domain",
          "y": 0.01,
          "yanchor": "bottom",
          "yref": "y"
         },
         {
          "showarrow": false,
          "text": "<b>0.0071%</b>",
          "x": "2022-10-07T13:00:00+02:00",
          "xanchor": "left",
          "y": 0.0071,
          "yanchor": "bottom"
         }
        ],
        "height": 1200,
        "legend": {
         "font": {
          "size": 12
         },
         "y": 0.5
        },
        "shapes": [
         {
          "line": {
           "dash": "dot"
          },
          "opacity": 0.3,
          "type": "line",
          "x0": 0,
          "x1": 1,
          "xref": "x domain",
          "y0": 0.01,
          "y1": 0.01,
          "yref": "y"
         }
        ],
        "template": {
         "data": {
          "bar": [
           {
            "error_x": {
             "color": "#2a3f5f"
            },
            "error_y": {
             "color": "#2a3f5f"
            },
            "marker": {
             "line": {
              "color": "#E5ECF6",
              "width": 0.5
             },
             "pattern": {
              "fillmode": "overlay",
              "size": 10,
              "solidity": 0.2
             }
            },
            "type": "bar"
           }
          ],
          "barpolar": [
           {
            "marker": {
             "line": {
              "color": "#E5ECF6",
              "width": 0.5
             },
             "pattern": {
              "fillmode": "overlay",
              "size": 10,
              "solidity": 0.2
             }
            },
            "type": "barpolar"
           }
          ],
          "carpet": [
           {
            "aaxis": {
             "endlinecolor": "#2a3f5f",
             "gridcolor": "white",
             "linecolor": "white",
             "minorgridcolor": "white",
             "startlinecolor": "#2a3f5f"
            },
            "baxis": {
             "endlinecolor": "#2a3f5f",
             "gridcolor": "white",
             "linecolor": "white",
             "minorgridcolor": "white",
             "startlinecolor": "#2a3f5f"
            },
            "type": "carpet"
           }
          ],
          "choropleth": [
           {
            "colorbar": {
             "outlinewidth": 0,
             "ticks": ""
            },
            "type": "choropleth"
           }
          ],
          "contour": [
           {
            "colorbar": {
             "outlinewidth": 0,
             "ticks": ""
            },
            "colorscale": [
             [
              0,
              "#0d0887"
             ],
             [
              0.1111111111111111,
              "#46039f"
             ],
             [
              0.2222222222222222,
              "#7201a8"
             ],
             [
              0.3333333333333333,
              "#9c179e"
             ],
             [
              0.4444444444444444,
              "#bd3786"
             ],
             [
              0.5555555555555556,
              "#d8576b"
             ],
             [
              0.6666666666666666,
              "#ed7953"
             ],
             [
              0.7777777777777778,
              "#fb9f3a"
             ],
             [
              0.8888888888888888,
              "#fdca26"
             ],
             [
              1,
              "#f0f921"
             ]
            ],
            "type": "contour"
           }
          ],
          "contourcarpet": [
           {
            "colorbar": {
             "outlinewidth": 0,
             "ticks": ""
            },
            "type": "contourcarpet"
           }
          ],
          "heatmap": [
           {
            "colorbar": {
             "outlinewidth": 0,
             "ticks": ""
            },
            "colorscale": [
             [
              0,
              "#0d0887"
             ],
             [
              0.1111111111111111,
              "#46039f"
             ],
             [
              0.2222222222222222,
              "#7201a8"
             ],
             [
              0.3333333333333333,
              "#9c179e"
             ],
             [
              0.4444444444444444,
              "#bd3786"
             ],
             [
              0.5555555555555556,
              "#d8576b"
             ],
             [
              0.6666666666666666,
              "#ed7953"
             ],
             [
              0.7777777777777778,
              "#fb9f3a"
             ],
             [
              0.8888888888888888,
              "#fdca26"
             ],
             [
              1,
              "#f0f921"
             ]
            ],
            "type": "heatmap"
           }
          ],
          "heatmapgl": [
           {
            "colorbar": {
             "outlinewidth": 0,
             "ticks": ""
            },
            "colorscale": [
             [
              0,
              "#0d0887"
             ],
             [
              0.1111111111111111,
              "#46039f"
             ],
             [
              0.2222222222222222,
              "#7201a8"
             ],
             [
              0.3333333333333333,
              "#9c179e"
             ],
             [
              0.4444444444444444,
              "#bd3786"
             ],
             [
              0.5555555555555556,
              "#d8576b"
             ],
             [
              0.6666666666666666,
              "#ed7953"
             ],
             [
              0.7777777777777778,
              "#fb9f3a"
             ],
             [
              0.8888888888888888,
              "#fdca26"
             ],
             [
              1,
              "#f0f921"
             ]
            ],
            "type": "heatmapgl"
           }
          ],
          "histogram": [
           {
            "marker": {
             "pattern": {
              "fillmode": "overlay",
              "size": 10,
              "solidity": 0.2
             }
            },
            "type": "histogram"
           }
          ],
          "histogram2d": [
           {
            "colorbar": {
             "outlinewidth": 0,
             "ticks": ""
            },
            "colorscale": [
             [
              0,
              "#0d0887"
             ],
             [
              0.1111111111111111,
              "#46039f"
             ],
             [
              0.2222222222222222,
              "#7201a8"
             ],
             [
              0.3333333333333333,
              "#9c179e"
             ],
             [
              0.4444444444444444,
              "#bd3786"
             ],
             [
              0.5555555555555556,
              "#d8576b"
             ],
             [
              0.6666666666666666,
              "#ed7953"
             ],
             [
              0.7777777777777778,
              "#fb9f3a"
             ],
             [
              0.8888888888888888,
              "#fdca26"
             ],
             [
              1,
              "#f0f921"
             ]
            ],
            "type": "histogram2d"
           }
          ],
          "histogram2dcontour": [
           {
            "colorbar": {
             "outlinewidth": 0,
             "ticks": ""
            },
            "colorscale": [
             [
              0,
              "#0d0887"
             ],
             [
              0.1111111111111111,
              "#46039f"
             ],
             [
              0.2222222222222222,
              "#7201a8"
             ],
             [
              0.3333333333333333,
              "#9c179e"
             ],
             [
              0.4444444444444444,
              "#bd3786"
             ],
             [
              0.5555555555555556,
              "#d8576b"
             ],
             [
              0.6666666666666666,
              "#ed7953"
             ],
             [
              0.7777777777777778,
              "#fb9f3a"
             ],
             [
              0.8888888888888888,
              "#fdca26"
             ],
             [
              1,
              "#f0f921"
             ]
            ],
            "type": "histogram2dcontour"
           }
          ],
          "mesh3d": [
           {
            "colorbar": {
             "outlinewidth": 0,
             "ticks": ""
            },
            "type": "mesh3d"
           }
          ],
          "parcoords": [
           {
            "line": {
             "colorbar": {
              "outlinewidth": 0,
              "ticks": ""
             }
            },
            "type": "parcoords"
           }
          ],
          "pie": [
           {
            "automargin": true,
            "type": "pie"
           }
          ],
          "scatter": [
           {
            "fillpattern": {
             "fillmode": "overlay",
             "size": 10,
             "solidity": 0.2
            },
            "type": "scatter"
           }
          ],
          "scatter3d": [
           {
            "line": {
             "colorbar": {
              "outlinewidth": 0,
              "ticks": ""
             }
            },
            "marker": {
             "colorbar": {
              "outlinewidth": 0,
              "ticks": ""
             }
            },
            "type": "scatter3d"
           }
          ],
          "scattercarpet": [
           {
            "marker": {
             "colorbar": {
              "outlinewidth": 0,
              "ticks": ""
             }
            },
            "type": "scattercarpet"
           }
          ],
          "scattergeo": [
           {
            "marker": {
             "colorbar": {
              "outlinewidth": 0,
              "ticks": ""
             }
            },
            "type": "scattergeo"
           }
          ],
          "scattergl": [
           {
            "marker": {
             "colorbar": {
              "outlinewidth": 0,
              "ticks": ""
             }
            },
            "type": "scattergl"
           }
          ],
          "scattermapbox": [
           {
            "marker": {
             "colorbar": {
              "outlinewidth": 0,
              "ticks": ""
             }
            },
            "type": "scattermapbox"
           }
          ],
          "scatterpolar": [
           {
            "marker": {
             "colorbar": {
              "outlinewidth": 0,
              "ticks": ""
             }
            },
            "type": "scatterpolar"
           }
          ],
          "scatterpolargl": [
           {
            "marker": {
             "colorbar": {
              "outlinewidth": 0,
              "ticks": ""
             }
            },
            "type": "scatterpolargl"
           }
          ],
          "scatterternary": [
           {
            "marker": {
             "colorbar": {
              "outlinewidth": 0,
              "ticks": ""
             }
            },
            "type": "scatterternary"
           }
          ],
          "surface": [
           {
            "colorbar": {
             "outlinewidth": 0,
             "ticks": ""
            },
            "colorscale": [
             [
              0,
              "#0d0887"
             ],
             [
              0.1111111111111111,
              "#46039f"
             ],
             [
              0.2222222222222222,
              "#7201a8"
             ],
             [
              0.3333333333333333,
              "#9c179e"
             ],
             [
              0.4444444444444444,
              "#bd3786"
             ],
             [
              0.5555555555555556,
              "#d8576b"
             ],
             [
              0.6666666666666666,
              "#ed7953"
             ],
             [
              0.7777777777777778,
              "#fb9f3a"
             ],
             [
              0.8888888888888888,
              "#fdca26"
             ],
             [
              1,
              "#f0f921"
             ]
            ],
            "type": "surface"
           }
          ],
          "table": [
           {
            "cells": {
             "fill": {
              "color": "#EBF0F8"
             },
             "line": {
              "color": "white"
             }
            },
            "header": {
             "fill": {
              "color": "#C8D4E3"
             },
             "line": {
              "color": "white"
             }
            },
            "type": "table"
           }
          ]
         },
         "layout": {
          "annotationdefaults": {
           "arrowcolor": "#2a3f5f",
           "arrowhead": 0,
           "arrowwidth": 1
          },
          "autotypenumbers": "strict",
          "coloraxis": {
           "colorbar": {
            "outlinewidth": 0,
            "ticks": ""
           }
          },
          "colorscale": {
           "diverging": [
            [
             0,
             "#8e0152"
            ],
            [
             0.1,
             "#c51b7d"
            ],
            [
             0.2,
             "#de77ae"
            ],
            [
             0.3,
             "#f1b6da"
            ],
            [
             0.4,
             "#fde0ef"
            ],
            [
             0.5,
             "#f7f7f7"
            ],
            [
             0.6,
             "#e6f5d0"
            ],
            [
             0.7,
             "#b8e186"
            ],
            [
             0.8,
             "#7fbc41"
            ],
            [
             0.9,
             "#4d9221"
            ],
            [
             1,
             "#276419"
            ]
           ],
           "sequential": [
            [
             0,
             "#0d0887"
            ],
            [
             0.1111111111111111,
             "#46039f"
            ],
            [
             0.2222222222222222,
             "#7201a8"
            ],
            [
             0.3333333333333333,
             "#9c179e"
            ],
            [
             0.4444444444444444,
             "#bd3786"
            ],
            [
             0.5555555555555556,
             "#d8576b"
            ],
            [
             0.6666666666666666,
             "#ed7953"
            ],
            [
             0.7777777777777778,
             "#fb9f3a"
            ],
            [
             0.8888888888888888,
             "#fdca26"
            ],
            [
             1,
             "#f0f921"
            ]
           ],
           "sequentialminus": [
            [
             0,
             "#0d0887"
            ],
            [
             0.1111111111111111,
             "#46039f"
            ],
            [
             0.2222222222222222,
             "#7201a8"
            ],
            [
             0.3333333333333333,
             "#9c179e"
            ],
            [
             0.4444444444444444,
             "#bd3786"
            ],
            [
             0.5555555555555556,
             "#d8576b"
            ],
            [
             0.6666666666666666,
             "#ed7953"
            ],
            [
             0.7777777777777778,
             "#fb9f3a"
            ],
            [
             0.8888888888888888,
             "#fdca26"
            ],
            [
             1,
             "#f0f921"
            ]
           ]
          },
          "colorway": [
           "#636efa",
           "#EF553B",
           "#00cc96",
           "#ab63fa",
           "#FFA15A",
           "#19d3f3",
           "#FF6692",
           "#B6E880",
           "#FF97FF",
           "#FECB52"
          ],
          "font": {
           "color": "#2a3f5f"
          },
          "geo": {
           "bgcolor": "white",
           "lakecolor": "white",
           "landcolor": "#E5ECF6",
           "showlakes": true,
           "showland": true,
           "subunitcolor": "white"
          },
          "hoverlabel": {
           "align": "left"
          },
          "hovermode": "closest",
          "mapbox": {
           "style": "light"
          },
          "paper_bgcolor": "white",
          "plot_bgcolor": "#E5ECF6",
          "polar": {
           "angularaxis": {
            "gridcolor": "white",
            "linecolor": "white",
            "ticks": ""
           },
           "bgcolor": "#E5ECF6",
           "radialaxis": {
            "gridcolor": "white",
            "linecolor": "white",
            "ticks": ""
           }
          },
          "scene": {
           "xaxis": {
            "backgroundcolor": "#E5ECF6",
            "gridcolor": "white",
            "gridwidth": 2,
            "linecolor": "white",
            "showbackground": true,
            "ticks": "",
            "zerolinecolor": "white"
           },
           "yaxis": {
            "backgroundcolor": "#E5ECF6",
            "gridcolor": "white",
            "gridwidth": 2,
            "linecolor": "white",
            "showbackground": true,
            "ticks": "",
            "zerolinecolor": "white"
           },
           "zaxis": {
            "backgroundcolor": "#E5ECF6",
            "gridcolor": "white",
            "gridwidth": 2,
            "linecolor": "white",
            "showbackground": true,
            "ticks": "",
            "zerolinecolor": "white"
           }
          },
          "shapedefaults": {
           "line": {
            "color": "#2a3f5f"
           }
          },
          "ternary": {
           "aaxis": {
            "gridcolor": "white",
            "linecolor": "white",
            "ticks": ""
           },
           "baxis": {
            "gridcolor": "white",
            "linecolor": "white",
            "ticks": ""
           },
           "bgcolor": "#E5ECF6",
           "caxis": {
            "gridcolor": "white",
            "linecolor": "white",
            "ticks": ""
           }
          },
          "title": {
           "x": 0.05
          },
          "xaxis": {
           "automargin": true,
           "gridcolor": "white",
           "linecolor": "white",
           "ticks": "",
           "title": {
            "standoff": 15
           },
           "zerolinecolor": "white",
           "zerolinewidth": 2
          },
          "yaxis": {
           "automargin": true,
           "gridcolor": "white",
           "linecolor": "white",
           "ticks": "",
           "title": {
            "standoff": 15
           },
           "zerolinecolor": "white",
           "zerolinewidth": 2
          }
         }
        },
        "title": {
         "text": "<B>Hourly Funding Rate Data (last 20 days)</B>",
         "x": 0.5
        },
        "width": 1800,
        "xaxis": {
         "anchor": "y",
         "domain": [
          0,
          0.94
         ]
        },
        "yaxis": {
         "anchor": "x",
         "domain": [
          0,
          1
         ],
         "range": [
          -0.02,
          0.02
         ]
        },
        "yaxis2": {
         "anchor": "x",
         "overlaying": "y",
         "range": [
          18108.3,
          25425
         ],
         "side": "right"
        }
       }
      }
     },
     "metadata": {},
     "output_type": "display_data"
    }
   ],
   "source": [
    "df = read_csv_sftp('IP_ADDRESS', 'gustavo', '/home/gustavo/btc_futures_data/hour_funding_rate.csv')\n",
    "#df = pd.read_csv('hour_funding_rate.csv')\n",
    "\n",
    "df['date'] = pd.to_datetime(df['date'])\n",
    "df['date'] = df['date'].dt.tz_localize('UTC').dt.tz_convert('Europe/Budapest')\n",
    "\n",
    "df.set_index('date', inplace=True)\n",
    "\n",
    "#df.head()\n",
    "\n",
    "mask_usdt = df['type'] == 'USDT'\n",
    "mask_token = df['type'] == 'TOKEN'\n",
    "\n",
    "se_usdt_weighted_mean_funding_rate = df[mask_usdt]['weighted_mean_funding_rate']\n",
    "se_token_weighted_mean_funding_rate = df[mask_token]['weighted_mean_funding_rate']\n",
    "\n",
    "se_weighted_mean_funding_rate = round((se_token_weighted_mean_funding_rate + se_usdt_weighted_mean_funding_rate) / 2, 4)\n",
    "\n",
    "\n",
    "# Chart config\n",
    "\n",
    "# date filter, gets date from 20 days ago\n",
    "days = 20\n",
    "date_filter = (datetime.datetime.now() - datetime.timedelta(days = days)).strftime('%Y-%m-%d')\n",
    "\n",
    "# Instantiate fig with 2 y axis\n",
    "fig = make_subplots(specs=[[{\"secondary_y\": True}]])\n",
    "\n",
    "# Add price plot\n",
    "fig.add_trace(go.Scatter(x=df[mask_usdt][date_filter:].index, \n",
    "                         y=df[mask_usdt][date_filter:]['price'],\n",
    "                         name=\"Price\",\n",
    "                         mode='lines+markers',\n",
    "                         ),\n",
    "                         secondary_y=True,\n",
    "                         \n",
    "             )\n",
    "\n",
    "# Add funding rate plot\n",
    "fig.add_trace(go.Bar(x=df[mask_usdt][date_filter:].index, \n",
    "                         y=se_weighted_mean_funding_rate[date_filter:],\n",
    "                         name=\"Weighted Average Funding Rate\"            \n",
    "                        ),\n",
    "                        secondary_y=False\n",
    "                        \n",
    "             )\n",
    "\n",
    "# Change axis ranges\n",
    "fig.update_yaxes(range=[df['price'].min() - 500 , df['price'].max() + 500], secondary_y=True)\n",
    "fig.update_yaxes(range=[-0.02, 0.02], secondary_y=False)\n",
    "\n",
    "# Add horizontal line\n",
    "fig.add_hline(y=0.01, line_dash=\"dot\", opacity=0.3, annotation_text='Baseline')\n",
    "\n",
    "# Change color of primary y axis\n",
    "fig.update_traces(marker_color='yellowgreen', secondary_y=False)\n",
    "fig.update_traces(marker_color='black', secondary_y=True)\n",
    "\n",
    "# Add annotation to current funding rate\n",
    "fig.add_annotation(x=df[mask_usdt][date_filter:].index[-1], \n",
    "                   y=se_weighted_mean_funding_rate[date_filter:][-1],\n",
    "                   text='<b>{}%</b>'.format(se_weighted_mean_funding_rate[-1]),\n",
    "                   showarrow=False,\n",
    "                   xanchor='left',\n",
    "                   yanchor='bottom',\n",
    "                   )\n",
    "\n",
    "\n",
    "# Add Title and height\n",
    "fig.update_layout(legend=dict(y=0.5, font_size=12), \n",
    "                  height=1200, \n",
    "                  width=1800,\n",
    "                  title='<B>Hourly Funding Rate Data (last {} days)</B>'.format(days),\n",
    "                  title_x=0.5,\n",
    "                  )\n",
    "\n",
    "\n",
    "\n",
    "fig.show()"
   ]
  },
  {
   "cell_type": "code",
   "execution_count": 6,
   "id": "622992e3",
   "metadata": {},
   "outputs": [
    {
     "data": {
      "application/vnd.plotly.v1+json": {
       "config": {
        "plotlyServerURL": "https://plot.ly"
       },
       "data": [
        {
         "marker": {
          "color": "black"
         },
         "mode": "lines+markers",
         "name": "Price",
         "type": "scatter",
         "x": [
          "2022-10-06T13:00:00+02:00",
          "2022-10-06T13:05:00+02:00",
          "2022-10-06T13:10:00+02:00",
          "2022-10-06T13:15:00+02:00",
          "2022-10-06T13:20:00+02:00",
          "2022-10-06T13:25:00+02:00",
          "2022-10-06T13:30:00+02:00",
          "2022-10-06T13:35:00+02:00",
          "2022-10-06T13:40:00+02:00",
          "2022-10-06T13:45:00+02:00",
          "2022-10-06T13:50:00+02:00",
          "2022-10-06T13:55:00+02:00",
          "2022-10-06T14:00:00+02:00",
          "2022-10-06T14:05:00+02:00",
          "2022-10-06T14:10:00+02:00",
          "2022-10-06T14:15:00+02:00",
          "2022-10-06T14:20:00+02:00",
          "2022-10-06T14:25:00+02:00",
          "2022-10-06T14:30:00+02:00",
          "2022-10-06T14:35:00+02:00",
          "2022-10-06T14:40:00+02:00",
          "2022-10-06T14:45:00+02:00",
          "2022-10-06T14:50:00+02:00",
          "2022-10-06T14:55:00+02:00",
          "2022-10-06T15:00:00+02:00",
          "2022-10-06T15:05:00+02:00",
          "2022-10-06T15:10:00+02:00",
          "2022-10-06T15:15:00+02:00",
          "2022-10-06T15:20:00+02:00",
          "2022-10-06T15:25:00+02:00",
          "2022-10-06T15:30:00+02:00",
          "2022-10-06T15:35:00+02:00",
          "2022-10-06T15:40:00+02:00",
          "2022-10-06T15:45:00+02:00",
          "2022-10-06T15:50:00+02:00",
          "2022-10-06T15:55:00+02:00",
          "2022-10-06T16:00:00+02:00",
          "2022-10-06T16:05:00+02:00",
          "2022-10-06T16:10:00+02:00",
          "2022-10-06T16:15:00+02:00",
          "2022-10-06T16:20:00+02:00",
          "2022-10-06T16:25:00+02:00",
          "2022-10-06T16:30:00+02:00",
          "2022-10-06T16:35:00+02:00",
          "2022-10-06T16:40:00+02:00",
          "2022-10-06T16:45:00+02:00",
          "2022-10-06T16:50:00+02:00",
          "2022-10-06T16:55:00+02:00",
          "2022-10-06T17:00:00+02:00",
          "2022-10-06T17:05:00+02:00",
          "2022-10-06T17:10:00+02:00",
          "2022-10-06T17:15:00+02:00",
          "2022-10-06T17:20:00+02:00",
          "2022-10-06T17:25:00+02:00",
          "2022-10-06T17:30:00+02:00",
          "2022-10-06T17:35:00+02:00",
          "2022-10-06T17:40:00+02:00",
          "2022-10-06T17:45:00+02:00",
          "2022-10-06T17:50:00+02:00",
          "2022-10-06T17:55:00+02:00",
          "2022-10-06T18:00:00+02:00",
          "2022-10-06T18:05:00+02:00",
          "2022-10-06T18:10:00+02:00",
          "2022-10-06T18:15:00+02:00",
          "2022-10-06T18:20:00+02:00",
          "2022-10-06T18:25:00+02:00",
          "2022-10-06T18:30:00+02:00",
          "2022-10-06T18:35:00+02:00",
          "2022-10-06T18:40:00+02:00",
          "2022-10-06T18:45:00+02:00",
          "2022-10-06T18:50:00+02:00",
          "2022-10-06T18:55:00+02:00",
          "2022-10-06T19:00:00+02:00",
          "2022-10-06T19:05:00+02:00",
          "2022-10-06T19:10:00+02:00",
          "2022-10-06T19:15:00+02:00",
          "2022-10-06T19:20:00+02:00",
          "2022-10-06T19:25:00+02:00",
          "2022-10-06T19:30:00+02:00",
          "2022-10-06T19:35:00+02:00",
          "2022-10-06T19:40:00+02:00",
          "2022-10-06T19:45:00+02:00",
          "2022-10-06T19:50:00+02:00",
          "2022-10-06T19:55:00+02:00",
          "2022-10-06T20:00:00+02:00",
          "2022-10-06T20:05:00+02:00",
          "2022-10-06T20:10:00+02:00",
          "2022-10-06T20:15:00+02:00",
          "2022-10-06T20:20:00+02:00",
          "2022-10-06T20:25:00+02:00",
          "2022-10-06T20:30:00+02:00",
          "2022-10-06T20:35:00+02:00",
          "2022-10-06T20:40:00+02:00",
          "2022-10-06T20:45:00+02:00",
          "2022-10-06T20:50:00+02:00",
          "2022-10-06T20:55:00+02:00",
          "2022-10-06T21:00:00+02:00",
          "2022-10-06T21:05:00+02:00",
          "2022-10-06T21:10:00+02:00",
          "2022-10-06T21:15:00+02:00",
          "2022-10-06T21:20:00+02:00",
          "2022-10-06T21:25:00+02:00",
          "2022-10-06T21:30:00+02:00",
          "2022-10-06T21:35:00+02:00",
          "2022-10-06T21:40:00+02:00",
          "2022-10-06T21:45:00+02:00",
          "2022-10-06T21:50:00+02:00",
          "2022-10-06T21:55:00+02:00",
          "2022-10-06T22:00:00+02:00",
          "2022-10-06T22:05:00+02:00",
          "2022-10-06T22:10:00+02:00",
          "2022-10-06T22:15:00+02:00",
          "2022-10-06T22:20:00+02:00",
          "2022-10-06T22:25:00+02:00",
          "2022-10-06T22:30:00+02:00",
          "2022-10-06T22:35:00+02:00",
          "2022-10-06T22:40:00+02:00",
          "2022-10-06T22:45:00+02:00",
          "2022-10-06T22:50:00+02:00",
          "2022-10-06T22:55:00+02:00",
          "2022-10-06T23:00:00+02:00",
          "2022-10-06T23:05:00+02:00",
          "2022-10-06T23:10:00+02:00",
          "2022-10-06T23:15:00+02:00",
          "2022-10-06T23:20:00+02:00",
          "2022-10-06T23:25:00+02:00",
          "2022-10-06T23:30:00+02:00",
          "2022-10-06T23:35:00+02:00",
          "2022-10-06T23:40:00+02:00",
          "2022-10-06T23:45:00+02:00",
          "2022-10-06T23:50:00+02:00",
          "2022-10-06T23:55:00+02:00",
          "2022-10-07T00:00:00+02:00",
          "2022-10-07T00:05:00+02:00",
          "2022-10-07T00:10:00+02:00",
          "2022-10-07T00:15:00+02:00",
          "2022-10-07T00:20:00+02:00",
          "2022-10-07T00:25:00+02:00",
          "2022-10-07T00:30:00+02:00",
          "2022-10-07T00:35:00+02:00",
          "2022-10-07T00:40:00+02:00",
          "2022-10-07T00:45:00+02:00",
          "2022-10-07T00:50:00+02:00",
          "2022-10-07T00:55:00+02:00",
          "2022-10-07T01:00:00+02:00",
          "2022-10-07T01:05:00+02:00",
          "2022-10-07T01:10:00+02:00",
          "2022-10-07T01:15:00+02:00",
          "2022-10-07T01:20:00+02:00",
          "2022-10-07T01:25:00+02:00",
          "2022-10-07T01:30:00+02:00",
          "2022-10-07T01:35:00+02:00",
          "2022-10-07T01:40:00+02:00",
          "2022-10-07T01:45:00+02:00",
          "2022-10-07T01:50:00+02:00",
          "2022-10-07T01:55:00+02:00",
          "2022-10-07T02:00:00+02:00",
          "2022-10-07T02:05:00+02:00",
          "2022-10-07T02:10:00+02:00",
          "2022-10-07T02:15:00+02:00",
          "2022-10-07T02:20:00+02:00",
          "2022-10-07T02:25:00+02:00",
          "2022-10-07T02:30:00+02:00",
          "2022-10-07T02:35:00+02:00",
          "2022-10-07T02:40:00+02:00",
          "2022-10-07T02:45:00+02:00",
          "2022-10-07T02:50:00+02:00",
          "2022-10-07T02:55:00+02:00",
          "2022-10-07T03:00:00+02:00",
          "2022-10-07T03:05:00+02:00",
          "2022-10-07T03:10:00+02:00",
          "2022-10-07T03:15:00+02:00",
          "2022-10-07T03:20:00+02:00",
          "2022-10-07T03:25:00+02:00",
          "2022-10-07T03:30:00+02:00",
          "2022-10-07T03:35:00+02:00",
          "2022-10-07T03:40:00+02:00",
          "2022-10-07T03:45:00+02:00",
          "2022-10-07T03:50:00+02:00",
          "2022-10-07T03:55:00+02:00",
          "2022-10-07T04:00:00+02:00",
          "2022-10-07T04:05:00+02:00",
          "2022-10-07T04:10:00+02:00",
          "2022-10-07T04:15:00+02:00",
          "2022-10-07T04:20:00+02:00",
          "2022-10-07T04:25:00+02:00",
          "2022-10-07T04:30:00+02:00",
          "2022-10-07T04:35:00+02:00",
          "2022-10-07T04:40:00+02:00",
          "2022-10-07T04:45:00+02:00",
          "2022-10-07T04:50:00+02:00",
          "2022-10-07T04:55:00+02:00",
          "2022-10-07T05:00:00+02:00",
          "2022-10-07T05:05:00+02:00",
          "2022-10-07T05:10:00+02:00",
          "2022-10-07T05:15:00+02:00",
          "2022-10-07T05:20:00+02:00",
          "2022-10-07T05:25:00+02:00",
          "2022-10-07T05:30:00+02:00",
          "2022-10-07T05:35:00+02:00",
          "2022-10-07T05:40:00+02:00",
          "2022-10-07T05:45:00+02:00",
          "2022-10-07T05:50:00+02:00",
          "2022-10-07T05:55:00+02:00",
          "2022-10-07T06:00:00+02:00",
          "2022-10-07T06:05:00+02:00",
          "2022-10-07T06:10:00+02:00",
          "2022-10-07T06:15:00+02:00",
          "2022-10-07T06:20:00+02:00",
          "2022-10-07T06:25:00+02:00",
          "2022-10-07T06:30:00+02:00",
          "2022-10-07T06:35:00+02:00",
          "2022-10-07T06:40:00+02:00",
          "2022-10-07T06:45:00+02:00",
          "2022-10-07T06:50:00+02:00",
          "2022-10-07T06:55:00+02:00",
          "2022-10-07T07:00:00+02:00",
          "2022-10-07T07:05:00+02:00",
          "2022-10-07T07:10:00+02:00",
          "2022-10-07T07:15:00+02:00",
          "2022-10-07T07:20:00+02:00",
          "2022-10-07T07:25:00+02:00",
          "2022-10-07T07:30:00+02:00",
          "2022-10-07T07:35:00+02:00",
          "2022-10-07T07:40:00+02:00",
          "2022-10-07T07:45:00+02:00",
          "2022-10-07T07:50:00+02:00",
          "2022-10-07T07:55:00+02:00",
          "2022-10-07T08:00:00+02:00",
          "2022-10-07T08:05:00+02:00",
          "2022-10-07T08:10:00+02:00",
          "2022-10-07T08:15:00+02:00",
          "2022-10-07T08:20:00+02:00",
          "2022-10-07T08:25:00+02:00",
          "2022-10-07T08:30:00+02:00",
          "2022-10-07T08:35:00+02:00",
          "2022-10-07T08:40:00+02:00",
          "2022-10-07T08:45:00+02:00",
          "2022-10-07T08:50:00+02:00",
          "2022-10-07T08:55:00+02:00",
          "2022-10-07T09:00:00+02:00",
          "2022-10-07T09:05:00+02:00",
          "2022-10-07T09:10:00+02:00",
          "2022-10-07T09:15:00+02:00",
          "2022-10-07T09:20:00+02:00",
          "2022-10-07T09:25:00+02:00",
          "2022-10-07T09:30:00+02:00",
          "2022-10-07T09:35:00+02:00",
          "2022-10-07T09:40:00+02:00",
          "2022-10-07T09:45:00+02:00",
          "2022-10-07T09:50:00+02:00",
          "2022-10-07T09:55:00+02:00",
          "2022-10-07T10:00:00+02:00",
          "2022-10-07T10:05:00+02:00",
          "2022-10-07T10:10:00+02:00",
          "2022-10-07T10:15:00+02:00",
          "2022-10-07T10:20:00+02:00",
          "2022-10-07T10:25:00+02:00",
          "2022-10-07T10:30:00+02:00",
          "2022-10-07T10:35:00+02:00",
          "2022-10-07T10:40:00+02:00",
          "2022-10-07T10:45:00+02:00",
          "2022-10-07T10:50:00+02:00",
          "2022-10-07T10:55:00+02:00",
          "2022-10-07T11:00:00+02:00",
          "2022-10-07T11:05:00+02:00",
          "2022-10-07T11:10:00+02:00",
          "2022-10-07T11:15:00+02:00",
          "2022-10-07T11:20:00+02:00",
          "2022-10-07T11:25:00+02:00",
          "2022-10-07T11:30:00+02:00",
          "2022-10-07T11:35:00+02:00",
          "2022-10-07T11:40:00+02:00",
          "2022-10-07T11:45:00+02:00",
          "2022-10-07T11:50:00+02:00",
          "2022-10-07T11:55:00+02:00",
          "2022-10-07T12:00:00+02:00",
          "2022-10-07T12:05:00+02:00",
          "2022-10-07T12:10:00+02:00",
          "2022-10-07T12:15:00+02:00",
          "2022-10-07T12:20:00+02:00",
          "2022-10-07T12:25:00+02:00",
          "2022-10-07T12:30:00+02:00",
          "2022-10-07T12:35:00+02:00",
          "2022-10-07T12:40:00+02:00",
          "2022-10-07T12:45:00+02:00",
          "2022-10-07T12:50:00+02:00",
          "2022-10-07T12:55:00+02:00",
          "2022-10-07T13:00:00+02:00"
         ],
         "xaxis": "x",
         "y": [
          20123.8,
          20154.8,
          20144.5,
          20132.9,
          20143.6,
          20136.9,
          20127.9,
          20167.6,
          20218.1,
          20201,
          20199.3,
          20215.2,
          20236.7,
          20273.8,
          20203.4,
          20226.2,
          20168.1,
          20213,
          20201.4,
          20295.1,
          20302,
          20268.2,
          20208.4,
          20201.9,
          20181.8,
          20120.5,
          20144.9,
          20127.9,
          20111.1,
          20090.1,
          20074.8,
          20150.1,
          20220.6,
          20251.8,
          20166,
          20194.9,
          20106.2,
          20033.3,
          19957.7,
          19941.8,
          19944.6,
          19934.1,
          19879,
          19898.2,
          19934.5,
          20013.5,
          20093.2,
          20063.9,
          20098.3,
          20037,
          20060,
          19990.1,
          20079.7,
          20100.8,
          20090,
          20069.5,
          20064.2,
          20049.9,
          20087.1,
          20090.9,
          20010,
          19992.5,
          19949.3,
          19983.3,
          20015.8,
          20034,
          20058.9,
          20043.9,
          20050.9,
          20081.3,
          20086.7,
          20080.7,
          20051,
          20039.6,
          20020.6,
          20089.9,
          20077.3,
          20085.7,
          20130,
          20087.2,
          20074.6,
          20098.2,
          20129.3,
          20109.5,
          20106.6,
          20069,
          20062.2,
          20079.6,
          20069.2,
          20065.5,
          20069.2,
          20044.7,
          20059.7,
          20044,
          20008.3,
          20018.8,
          20011,
          20005.5,
          20015.2,
          20038.1,
          20026.9,
          20033.4,
          20048,
          20033.8,
          20036.9,
          20030.5,
          20022.7,
          20029.9,
          20003.2,
          20014,
          20018.5,
          20025.6,
          20027.6,
          20048,
          20059.6,
          20045.2,
          20041.3,
          20035.8,
          20027.6,
          20041.7,
          20044.7,
          20023.1,
          20000.6,
          19978.1,
          19971,
          19946.2,
          19949.1,
          19913.4,
          19920,
          19937.1,
          19968.2,
          19942.9,
          19909.7,
          19937.8,
          19924.4,
          19913.3,
          19929.8,
          19924.9,
          19918.5,
          19900,
          19919.6,
          19928.2,
          19914.9,
          19908.2,
          19894.4,
          19896.9,
          19914.6,
          19938.8,
          19953.5,
          19928.9,
          19955.4,
          19962.7,
          19940.8,
          19942.6,
          19940.8,
          19949.8,
          19957.2,
          19948.5,
          19974.7,
          20006.4,
          20027.1,
          20031.8,
          20033.2,
          20007.3,
          20015,
          20012.6,
          19993,
          19996.9,
          19988.8,
          19965.4,
          19986.8,
          19987.1,
          19986.4,
          20009.1,
          20009.5,
          19978.9,
          19996.4,
          20005.8,
          19985.9,
          19991.9,
          19987.8,
          19976.7,
          19972.8,
          19979,
          20010.8,
          20016.5,
          20024.5,
          20025.2,
          20040.4,
          20034.7,
          20023.2,
          20007.7,
          20013.1,
          20011.2,
          20021.2,
          20008,
          20002,
          19986.5,
          19993.7,
          19985.8,
          19997.6,
          20013,
          19997.7,
          19990.9,
          19981.9,
          19978.4,
          19983.5,
          19995.2,
          19987.9,
          19996.2,
          19993.9,
          19967.7,
          19975.8,
          19966.5,
          19970.7,
          19969.9,
          19935.7,
          19908.1,
          19934.4,
          19920.1,
          19931.4,
          19948.5,
          19942.5,
          19942.4,
          19965.6,
          19972.2,
          19974.6,
          19967.9,
          19963.5,
          19946.6,
          19962.5,
          19953.6,
          19935,
          19900.8,
          19819.9,
          19847.3,
          19860.4,
          19851.4,
          19863.2,
          19857.5,
          19847.4,
          19880,
          19908.9,
          19901,
          19919.7,
          19910,
          19893.7,
          19907.8,
          19922,
          19924.2,
          19935.6,
          19931,
          19923.1,
          19929.8,
          19938.5,
          19954.9,
          19975.2,
          19982,
          19959.7,
          19988.2,
          19988.1,
          19985.4,
          19975,
          19966.1,
          19966.8,
          19980.4,
          19976.4,
          19993,
          20002.7,
          20000.3,
          19980,
          19996.4,
          19980.6,
          19973.6,
          19956.2,
          19971.4,
          19972.9,
          19946.1,
          19940.5,
          19932.3,
          19933.5,
          19947.4,
          19939.9,
          19961.8,
          19950.8,
          19948.1,
          19963.4,
          19965,
          19990.1
         ],
         "yaxis": "y2"
        },
        {
         "marker": {
          "color": "yellowgreen"
         },
         "name": "Weighted Average Funding Rate",
         "type": "bar",
         "x": [
          "2022-10-06T13:00:00+02:00",
          "2022-10-06T13:05:00+02:00",
          "2022-10-06T13:10:00+02:00",
          "2022-10-06T13:15:00+02:00",
          "2022-10-06T13:20:00+02:00",
          "2022-10-06T13:25:00+02:00",
          "2022-10-06T13:30:00+02:00",
          "2022-10-06T13:35:00+02:00",
          "2022-10-06T13:40:00+02:00",
          "2022-10-06T13:45:00+02:00",
          "2022-10-06T13:50:00+02:00",
          "2022-10-06T13:55:00+02:00",
          "2022-10-06T14:00:00+02:00",
          "2022-10-06T14:05:00+02:00",
          "2022-10-06T14:10:00+02:00",
          "2022-10-06T14:15:00+02:00",
          "2022-10-06T14:20:00+02:00",
          "2022-10-06T14:25:00+02:00",
          "2022-10-06T14:30:00+02:00",
          "2022-10-06T14:35:00+02:00",
          "2022-10-06T14:40:00+02:00",
          "2022-10-06T14:45:00+02:00",
          "2022-10-06T14:50:00+02:00",
          "2022-10-06T14:55:00+02:00",
          "2022-10-06T15:00:00+02:00",
          "2022-10-06T15:05:00+02:00",
          "2022-10-06T15:10:00+02:00",
          "2022-10-06T15:15:00+02:00",
          "2022-10-06T15:20:00+02:00",
          "2022-10-06T15:25:00+02:00",
          "2022-10-06T15:30:00+02:00",
          "2022-10-06T15:35:00+02:00",
          "2022-10-06T15:40:00+02:00",
          "2022-10-06T15:45:00+02:00",
          "2022-10-06T15:50:00+02:00",
          "2022-10-06T15:55:00+02:00",
          "2022-10-06T16:00:00+02:00",
          "2022-10-06T16:05:00+02:00",
          "2022-10-06T16:10:00+02:00",
          "2022-10-06T16:15:00+02:00",
          "2022-10-06T16:20:00+02:00",
          "2022-10-06T16:25:00+02:00",
          "2022-10-06T16:30:00+02:00",
          "2022-10-06T16:35:00+02:00",
          "2022-10-06T16:40:00+02:00",
          "2022-10-06T16:45:00+02:00",
          "2022-10-06T16:50:00+02:00",
          "2022-10-06T16:55:00+02:00",
          "2022-10-06T17:00:00+02:00",
          "2022-10-06T17:05:00+02:00",
          "2022-10-06T17:10:00+02:00",
          "2022-10-06T17:15:00+02:00",
          "2022-10-06T17:20:00+02:00",
          "2022-10-06T17:25:00+02:00",
          "2022-10-06T17:30:00+02:00",
          "2022-10-06T17:35:00+02:00",
          "2022-10-06T17:40:00+02:00",
          "2022-10-06T17:45:00+02:00",
          "2022-10-06T17:50:00+02:00",
          "2022-10-06T17:55:00+02:00",
          "2022-10-06T18:00:00+02:00",
          "2022-10-06T18:05:00+02:00",
          "2022-10-06T18:10:00+02:00",
          "2022-10-06T18:15:00+02:00",
          "2022-10-06T18:20:00+02:00",
          "2022-10-06T18:25:00+02:00",
          "2022-10-06T18:30:00+02:00",
          "2022-10-06T18:35:00+02:00",
          "2022-10-06T18:40:00+02:00",
          "2022-10-06T18:45:00+02:00",
          "2022-10-06T18:50:00+02:00",
          "2022-10-06T18:55:00+02:00",
          "2022-10-06T19:00:00+02:00",
          "2022-10-06T19:05:00+02:00",
          "2022-10-06T19:10:00+02:00",
          "2022-10-06T19:15:00+02:00",
          "2022-10-06T19:20:00+02:00",
          "2022-10-06T19:25:00+02:00",
          "2022-10-06T19:30:00+02:00",
          "2022-10-06T19:35:00+02:00",
          "2022-10-06T19:40:00+02:00",
          "2022-10-06T19:45:00+02:00",
          "2022-10-06T19:50:00+02:00",
          "2022-10-06T19:55:00+02:00",
          "2022-10-06T20:00:00+02:00",
          "2022-10-06T20:05:00+02:00",
          "2022-10-06T20:10:00+02:00",
          "2022-10-06T20:15:00+02:00",
          "2022-10-06T20:20:00+02:00",
          "2022-10-06T20:25:00+02:00",
          "2022-10-06T20:30:00+02:00",
          "2022-10-06T20:35:00+02:00",
          "2022-10-06T20:40:00+02:00",
          "2022-10-06T20:45:00+02:00",
          "2022-10-06T20:50:00+02:00",
          "2022-10-06T20:55:00+02:00",
          "2022-10-06T21:00:00+02:00",
          "2022-10-06T21:05:00+02:00",
          "2022-10-06T21:10:00+02:00",
          "2022-10-06T21:15:00+02:00",
          "2022-10-06T21:20:00+02:00",
          "2022-10-06T21:25:00+02:00",
          "2022-10-06T21:30:00+02:00",
          "2022-10-06T21:35:00+02:00",
          "2022-10-06T21:40:00+02:00",
          "2022-10-06T21:45:00+02:00",
          "2022-10-06T21:50:00+02:00",
          "2022-10-06T21:55:00+02:00",
          "2022-10-06T22:00:00+02:00",
          "2022-10-06T22:05:00+02:00",
          "2022-10-06T22:10:00+02:00",
          "2022-10-06T22:15:00+02:00",
          "2022-10-06T22:20:00+02:00",
          "2022-10-06T22:25:00+02:00",
          "2022-10-06T22:30:00+02:00",
          "2022-10-06T22:35:00+02:00",
          "2022-10-06T22:40:00+02:00",
          "2022-10-06T22:45:00+02:00",
          "2022-10-06T22:50:00+02:00",
          "2022-10-06T22:55:00+02:00",
          "2022-10-06T23:00:00+02:00",
          "2022-10-06T23:05:00+02:00",
          "2022-10-06T23:10:00+02:00",
          "2022-10-06T23:15:00+02:00",
          "2022-10-06T23:20:00+02:00",
          "2022-10-06T23:25:00+02:00",
          "2022-10-06T23:30:00+02:00",
          "2022-10-06T23:35:00+02:00",
          "2022-10-06T23:40:00+02:00",
          "2022-10-06T23:45:00+02:00",
          "2022-10-06T23:50:00+02:00",
          "2022-10-06T23:55:00+02:00",
          "2022-10-07T00:00:00+02:00",
          "2022-10-07T00:05:00+02:00",
          "2022-10-07T00:10:00+02:00",
          "2022-10-07T00:15:00+02:00",
          "2022-10-07T00:20:00+02:00",
          "2022-10-07T00:25:00+02:00",
          "2022-10-07T00:30:00+02:00",
          "2022-10-07T00:35:00+02:00",
          "2022-10-07T00:40:00+02:00",
          "2022-10-07T00:45:00+02:00",
          "2022-10-07T00:50:00+02:00",
          "2022-10-07T00:55:00+02:00",
          "2022-10-07T01:00:00+02:00",
          "2022-10-07T01:05:00+02:00",
          "2022-10-07T01:10:00+02:00",
          "2022-10-07T01:15:00+02:00",
          "2022-10-07T01:20:00+02:00",
          "2022-10-07T01:25:00+02:00",
          "2022-10-07T01:30:00+02:00",
          "2022-10-07T01:35:00+02:00",
          "2022-10-07T01:40:00+02:00",
          "2022-10-07T01:45:00+02:00",
          "2022-10-07T01:50:00+02:00",
          "2022-10-07T01:55:00+02:00",
          "2022-10-07T02:00:00+02:00",
          "2022-10-07T02:05:00+02:00",
          "2022-10-07T02:10:00+02:00",
          "2022-10-07T02:15:00+02:00",
          "2022-10-07T02:20:00+02:00",
          "2022-10-07T02:25:00+02:00",
          "2022-10-07T02:30:00+02:00",
          "2022-10-07T02:35:00+02:00",
          "2022-10-07T02:40:00+02:00",
          "2022-10-07T02:45:00+02:00",
          "2022-10-07T02:50:00+02:00",
          "2022-10-07T02:55:00+02:00",
          "2022-10-07T03:00:00+02:00",
          "2022-10-07T03:05:00+02:00",
          "2022-10-07T03:10:00+02:00",
          "2022-10-07T03:15:00+02:00",
          "2022-10-07T03:20:00+02:00",
          "2022-10-07T03:25:00+02:00",
          "2022-10-07T03:30:00+02:00",
          "2022-10-07T03:35:00+02:00",
          "2022-10-07T03:40:00+02:00",
          "2022-10-07T03:45:00+02:00",
          "2022-10-07T03:50:00+02:00",
          "2022-10-07T03:55:00+02:00",
          "2022-10-07T04:00:00+02:00",
          "2022-10-07T04:05:00+02:00",
          "2022-10-07T04:10:00+02:00",
          "2022-10-07T04:15:00+02:00",
          "2022-10-07T04:20:00+02:00",
          "2022-10-07T04:25:00+02:00",
          "2022-10-07T04:30:00+02:00",
          "2022-10-07T04:35:00+02:00",
          "2022-10-07T04:40:00+02:00",
          "2022-10-07T04:45:00+02:00",
          "2022-10-07T04:50:00+02:00",
          "2022-10-07T04:55:00+02:00",
          "2022-10-07T05:00:00+02:00",
          "2022-10-07T05:05:00+02:00",
          "2022-10-07T05:10:00+02:00",
          "2022-10-07T05:15:00+02:00",
          "2022-10-07T05:20:00+02:00",
          "2022-10-07T05:25:00+02:00",
          "2022-10-07T05:30:00+02:00",
          "2022-10-07T05:35:00+02:00",
          "2022-10-07T05:40:00+02:00",
          "2022-10-07T05:45:00+02:00",
          "2022-10-07T05:50:00+02:00",
          "2022-10-07T05:55:00+02:00",
          "2022-10-07T06:00:00+02:00",
          "2022-10-07T06:05:00+02:00",
          "2022-10-07T06:10:00+02:00",
          "2022-10-07T06:15:00+02:00",
          "2022-10-07T06:20:00+02:00",
          "2022-10-07T06:25:00+02:00",
          "2022-10-07T06:30:00+02:00",
          "2022-10-07T06:35:00+02:00",
          "2022-10-07T06:40:00+02:00",
          "2022-10-07T06:45:00+02:00",
          "2022-10-07T06:50:00+02:00",
          "2022-10-07T06:55:00+02:00",
          "2022-10-07T07:00:00+02:00",
          "2022-10-07T07:05:00+02:00",
          "2022-10-07T07:10:00+02:00",
          "2022-10-07T07:15:00+02:00",
          "2022-10-07T07:20:00+02:00",
          "2022-10-07T07:25:00+02:00",
          "2022-10-07T07:30:00+02:00",
          "2022-10-07T07:35:00+02:00",
          "2022-10-07T07:40:00+02:00",
          "2022-10-07T07:45:00+02:00",
          "2022-10-07T07:50:00+02:00",
          "2022-10-07T07:55:00+02:00",
          "2022-10-07T08:00:00+02:00",
          "2022-10-07T08:05:00+02:00",
          "2022-10-07T08:10:00+02:00",
          "2022-10-07T08:15:00+02:00",
          "2022-10-07T08:20:00+02:00",
          "2022-10-07T08:25:00+02:00",
          "2022-10-07T08:30:00+02:00",
          "2022-10-07T08:35:00+02:00",
          "2022-10-07T08:40:00+02:00",
          "2022-10-07T08:45:00+02:00",
          "2022-10-07T08:50:00+02:00",
          "2022-10-07T08:55:00+02:00",
          "2022-10-07T09:00:00+02:00",
          "2022-10-07T09:05:00+02:00",
          "2022-10-07T09:10:00+02:00",
          "2022-10-07T09:15:00+02:00",
          "2022-10-07T09:20:00+02:00",
          "2022-10-07T09:25:00+02:00",
          "2022-10-07T09:30:00+02:00",
          "2022-10-07T09:35:00+02:00",
          "2022-10-07T09:40:00+02:00",
          "2022-10-07T09:45:00+02:00",
          "2022-10-07T09:50:00+02:00",
          "2022-10-07T09:55:00+02:00",
          "2022-10-07T10:00:00+02:00",
          "2022-10-07T10:05:00+02:00",
          "2022-10-07T10:10:00+02:00",
          "2022-10-07T10:15:00+02:00",
          "2022-10-07T10:20:00+02:00",
          "2022-10-07T10:25:00+02:00",
          "2022-10-07T10:30:00+02:00",
          "2022-10-07T10:35:00+02:00",
          "2022-10-07T10:40:00+02:00",
          "2022-10-07T10:45:00+02:00",
          "2022-10-07T10:50:00+02:00",
          "2022-10-07T10:55:00+02:00",
          "2022-10-07T11:00:00+02:00",
          "2022-10-07T11:05:00+02:00",
          "2022-10-07T11:10:00+02:00",
          "2022-10-07T11:15:00+02:00",
          "2022-10-07T11:20:00+02:00",
          "2022-10-07T11:25:00+02:00",
          "2022-10-07T11:30:00+02:00",
          "2022-10-07T11:35:00+02:00",
          "2022-10-07T11:40:00+02:00",
          "2022-10-07T11:45:00+02:00",
          "2022-10-07T11:50:00+02:00",
          "2022-10-07T11:55:00+02:00",
          "2022-10-07T12:00:00+02:00",
          "2022-10-07T12:05:00+02:00",
          "2022-10-07T12:10:00+02:00",
          "2022-10-07T12:15:00+02:00",
          "2022-10-07T12:20:00+02:00",
          "2022-10-07T12:25:00+02:00",
          "2022-10-07T12:30:00+02:00",
          "2022-10-07T12:35:00+02:00",
          "2022-10-07T12:40:00+02:00",
          "2022-10-07T12:45:00+02:00",
          "2022-10-07T12:50:00+02:00",
          "2022-10-07T12:55:00+02:00",
          "2022-10-07T13:00:00+02:00"
         ],
         "xaxis": "x",
         "y": [
          0.0049,
          0.005,
          0.0049,
          0.0049,
          0.0049,
          0.0049,
          0.0049,
          0.005,
          0.0052,
          0.0052,
          0.0052,
          0.0052,
          0.0052,
          0.0059,
          0.0054,
          0.0052,
          0.0052,
          0.0051,
          0.0053,
          0.0054,
          0.0056,
          0.0062,
          0.0063,
          0.0062,
          0.0062,
          0.0058,
          0.0063,
          0.0064,
          0.0064,
          0.0062,
          0.0061,
          0.0062,
          0.0062,
          0.0064,
          0.0064,
          0.0064,
          0.0063,
          0.0062,
          0.0058,
          0.0057,
          0.0055,
          0.0053,
          0.0052,
          0.005,
          0.0051,
          0.0052,
          0.0054,
          0.0056,
          0.0058,
          0.0062,
          0.0063,
          0.0063,
          0.0063,
          0.0063,
          0.0064,
          0.0064,
          0.0064,
          0.0064,
          0.0063,
          0.0063,
          0.0062,
          0.002,
          0.001,
          0.0003,
          0.0011,
          0.0011,
          0.0012,
          0.0014,
          0.0016,
          0.0016,
          0.0018,
          0.0017,
          0.0017,
          0.0013,
          0.0013,
          0.0014,
          0.0016,
          0.0018,
          0.0019,
          0.0019,
          0.0019,
          0.0019,
          0.002,
          0.0021,
          0.0022,
          0.0019,
          0.002,
          0.0023,
          0.0024,
          0.0025,
          0.0025,
          0.0025,
          0.0024,
          0.0023,
          0.0021,
          0.002,
          0.0021,
          0.0023,
          0.0022,
          0.0024,
          0.0025,
          0.0027,
          0.0028,
          0.0029,
          0.0029,
          0.0029,
          0.0029,
          0.0028,
          0.0027,
          0.003,
          0.0031,
          0.0032,
          0.0032,
          0.0033,
          0.0034,
          0.0035,
          0.0036,
          0.0037,
          0.0036,
          0.0035,
          0.0035,
          0.0032,
          0.0033,
          0.0032,
          0.0032,
          0.003,
          0.0029,
          0.003,
          0.0029,
          0.003,
          0.003,
          0.003,
          0.003,
          0.0028,
          0.0033,
          0.0032,
          0.0031,
          0.0031,
          0.003,
          0.0029,
          0.0028,
          0.0028,
          0.0028,
          0.0027,
          0.0026,
          0.0023,
          0.0025,
          0.0026,
          0.0026,
          0.0026,
          0.0027,
          0.0027,
          0.0029,
          0.0029,
          0.0029,
          0.0029,
          0.0029,
          0.004,
          0.0045,
          0.0052,
          0.0052,
          0.0054,
          0.0053,
          0.0052,
          0.0052,
          0.0052,
          0.0051,
          0.0051,
          0.005,
          0.0047,
          0.0048,
          0.005,
          0.0049,
          0.0049,
          0.0049,
          0.0048,
          0.0048,
          0.0048,
          0.0048,
          0.0049,
          0.0048,
          0.0045,
          0.0046,
          0.0045,
          0.0046,
          0.0048,
          0.005,
          0.0051,
          0.0051,
          0.0052,
          0.0053,
          0.0053,
          0.0052,
          0.005,
          0.0052,
          0.0051,
          0.005,
          0.005,
          0.0049,
          0.0049,
          0.0049,
          0.005,
          0.0052,
          0.0052,
          0.0052,
          0.005,
          0.005,
          0.005,
          0.0051,
          0.0052,
          0.0052,
          0.0052,
          0.0052,
          0.0051,
          0.0051,
          0.005,
          0.0049,
          0.0047,
          0.0048,
          0.0049,
          0.0049,
          0.0049,
          0.0049,
          0.005,
          0.005,
          0.0051,
          0.0052,
          0.0052,
          0.0052,
          0.0051,
          0.0052,
          0.0052,
          0.0052,
          0.0053,
          0.0051,
          0.0051,
          0.0051,
          0.0052,
          0.0052,
          0.0052,
          0.0051,
          0.0053,
          0.0054,
          0.0056,
          0.0058,
          0.0059,
          0.0059,
          0.006,
          0.0062,
          0.0063,
          0.0063,
          0.0063,
          0.0063,
          0.0051,
          0.0044,
          0.0048,
          0.0055,
          0.0066,
          0.007,
          0.0072,
          0.0076,
          0.0075,
          0.0077,
          0.0078,
          0.0079,
          0.0081,
          0.0083,
          0.0084,
          0.0086,
          0.0086,
          0.0086,
          0.0083,
          0.008,
          0.0077,
          0.0075,
          0.0074,
          0.0073,
          0.0069,
          0.0068,
          0.0067,
          0.0065,
          0.0065,
          0.0066,
          0.0067,
          0.0068,
          0.0068,
          0.0069,
          0.007,
          0.0071
         ],
         "yaxis": "y"
        }
       ],
       "layout": {
        "annotations": [
         {
          "showarrow": false,
          "text": "Baseline",
          "x": 1,
          "xanchor": "right",
          "xref": "x domain",
          "y": 0.01,
          "yanchor": "bottom",
          "yref": "y"
         },
         {
          "showarrow": false,
          "text": "<b>0.0071%</b>",
          "x": "2022-10-07T13:00:00+02:00",
          "xanchor": "left",
          "y": 0.0071,
          "yanchor": "bottom"
         }
        ],
        "height": 1200,
        "legend": {
         "font": {
          "size": 12
         },
         "y": 0.5
        },
        "shapes": [
         {
          "line": {
           "dash": "dot"
          },
          "opacity": 0.3,
          "type": "line",
          "x0": 0,
          "x1": 1,
          "xref": "x domain",
          "y0": 0.01,
          "y1": 0.01,
          "yref": "y"
         }
        ],
        "template": {
         "data": {
          "bar": [
           {
            "error_x": {
             "color": "#2a3f5f"
            },
            "error_y": {
             "color": "#2a3f5f"
            },
            "marker": {
             "line": {
              "color": "#E5ECF6",
              "width": 0.5
             },
             "pattern": {
              "fillmode": "overlay",
              "size": 10,
              "solidity": 0.2
             }
            },
            "type": "bar"
           }
          ],
          "barpolar": [
           {
            "marker": {
             "line": {
              "color": "#E5ECF6",
              "width": 0.5
             },
             "pattern": {
              "fillmode": "overlay",
              "size": 10,
              "solidity": 0.2
             }
            },
            "type": "barpolar"
           }
          ],
          "carpet": [
           {
            "aaxis": {
             "endlinecolor": "#2a3f5f",
             "gridcolor": "white",
             "linecolor": "white",
             "minorgridcolor": "white",
             "startlinecolor": "#2a3f5f"
            },
            "baxis": {
             "endlinecolor": "#2a3f5f",
             "gridcolor": "white",
             "linecolor": "white",
             "minorgridcolor": "white",
             "startlinecolor": "#2a3f5f"
            },
            "type": "carpet"
           }
          ],
          "choropleth": [
           {
            "colorbar": {
             "outlinewidth": 0,
             "ticks": ""
            },
            "type": "choropleth"
           }
          ],
          "contour": [
           {
            "colorbar": {
             "outlinewidth": 0,
             "ticks": ""
            },
            "colorscale": [
             [
              0,
              "#0d0887"
             ],
             [
              0.1111111111111111,
              "#46039f"
             ],
             [
              0.2222222222222222,
              "#7201a8"
             ],
             [
              0.3333333333333333,
              "#9c179e"
             ],
             [
              0.4444444444444444,
              "#bd3786"
             ],
             [
              0.5555555555555556,
              "#d8576b"
             ],
             [
              0.6666666666666666,
              "#ed7953"
             ],
             [
              0.7777777777777778,
              "#fb9f3a"
             ],
             [
              0.8888888888888888,
              "#fdca26"
             ],
             [
              1,
              "#f0f921"
             ]
            ],
            "type": "contour"
           }
          ],
          "contourcarpet": [
           {
            "colorbar": {
             "outlinewidth": 0,
             "ticks": ""
            },
            "type": "contourcarpet"
           }
          ],
          "heatmap": [
           {
            "colorbar": {
             "outlinewidth": 0,
             "ticks": ""
            },
            "colorscale": [
             [
              0,
              "#0d0887"
             ],
             [
              0.1111111111111111,
              "#46039f"
             ],
             [
              0.2222222222222222,
              "#7201a8"
             ],
             [
              0.3333333333333333,
              "#9c179e"
             ],
             [
              0.4444444444444444,
              "#bd3786"
             ],
             [
              0.5555555555555556,
              "#d8576b"
             ],
             [
              0.6666666666666666,
              "#ed7953"
             ],
             [
              0.7777777777777778,
              "#fb9f3a"
             ],
             [
              0.8888888888888888,
              "#fdca26"
             ],
             [
              1,
              "#f0f921"
             ]
            ],
            "type": "heatmap"
           }
          ],
          "heatmapgl": [
           {
            "colorbar": {
             "outlinewidth": 0,
             "ticks": ""
            },
            "colorscale": [
             [
              0,
              "#0d0887"
             ],
             [
              0.1111111111111111,
              "#46039f"
             ],
             [
              0.2222222222222222,
              "#7201a8"
             ],
             [
              0.3333333333333333,
              "#9c179e"
             ],
             [
              0.4444444444444444,
              "#bd3786"
             ],
             [
              0.5555555555555556,
              "#d8576b"
             ],
             [
              0.6666666666666666,
              "#ed7953"
             ],
             [
              0.7777777777777778,
              "#fb9f3a"
             ],
             [
              0.8888888888888888,
              "#fdca26"
             ],
             [
              1,
              "#f0f921"
             ]
            ],
            "type": "heatmapgl"
           }
          ],
          "histogram": [
           {
            "marker": {
             "pattern": {
              "fillmode": "overlay",
              "size": 10,
              "solidity": 0.2
             }
            },
            "type": "histogram"
           }
          ],
          "histogram2d": [
           {
            "colorbar": {
             "outlinewidth": 0,
             "ticks": ""
            },
            "colorscale": [
             [
              0,
              "#0d0887"
             ],
             [
              0.1111111111111111,
              "#46039f"
             ],
             [
              0.2222222222222222,
              "#7201a8"
             ],
             [
              0.3333333333333333,
              "#9c179e"
             ],
             [
              0.4444444444444444,
              "#bd3786"
             ],
             [
              0.5555555555555556,
              "#d8576b"
             ],
             [
              0.6666666666666666,
              "#ed7953"
             ],
             [
              0.7777777777777778,
              "#fb9f3a"
             ],
             [
              0.8888888888888888,
              "#fdca26"
             ],
             [
              1,
              "#f0f921"
             ]
            ],
            "type": "histogram2d"
           }
          ],
          "histogram2dcontour": [
           {
            "colorbar": {
             "outlinewidth": 0,
             "ticks": ""
            },
            "colorscale": [
             [
              0,
              "#0d0887"
             ],
             [
              0.1111111111111111,
              "#46039f"
             ],
             [
              0.2222222222222222,
              "#7201a8"
             ],
             [
              0.3333333333333333,
              "#9c179e"
             ],
             [
              0.4444444444444444,
              "#bd3786"
             ],
             [
              0.5555555555555556,
              "#d8576b"
             ],
             [
              0.6666666666666666,
              "#ed7953"
             ],
             [
              0.7777777777777778,
              "#fb9f3a"
             ],
             [
              0.8888888888888888,
              "#fdca26"
             ],
             [
              1,
              "#f0f921"
             ]
            ],
            "type": "histogram2dcontour"
           }
          ],
          "mesh3d": [
           {
            "colorbar": {
             "outlinewidth": 0,
             "ticks": ""
            },
            "type": "mesh3d"
           }
          ],
          "parcoords": [
           {
            "line": {
             "colorbar": {
              "outlinewidth": 0,
              "ticks": ""
             }
            },
            "type": "parcoords"
           }
          ],
          "pie": [
           {
            "automargin": true,
            "type": "pie"
           }
          ],
          "scatter": [
           {
            "fillpattern": {
             "fillmode": "overlay",
             "size": 10,
             "solidity": 0.2
            },
            "type": "scatter"
           }
          ],
          "scatter3d": [
           {
            "line": {
             "colorbar": {
              "outlinewidth": 0,
              "ticks": ""
             }
            },
            "marker": {
             "colorbar": {
              "outlinewidth": 0,
              "ticks": ""
             }
            },
            "type": "scatter3d"
           }
          ],
          "scattercarpet": [
           {
            "marker": {
             "colorbar": {
              "outlinewidth": 0,
              "ticks": ""
             }
            },
            "type": "scattercarpet"
           }
          ],
          "scattergeo": [
           {
            "marker": {
             "colorbar": {
              "outlinewidth": 0,
              "ticks": ""
             }
            },
            "type": "scattergeo"
           }
          ],
          "scattergl": [
           {
            "marker": {
             "colorbar": {
              "outlinewidth": 0,
              "ticks": ""
             }
            },
            "type": "scattergl"
           }
          ],
          "scattermapbox": [
           {
            "marker": {
             "colorbar": {
              "outlinewidth": 0,
              "ticks": ""
             }
            },
            "type": "scattermapbox"
           }
          ],
          "scatterpolar": [
           {
            "marker": {
             "colorbar": {
              "outlinewidth": 0,
              "ticks": ""
             }
            },
            "type": "scatterpolar"
           }
          ],
          "scatterpolargl": [
           {
            "marker": {
             "colorbar": {
              "outlinewidth": 0,
              "ticks": ""
             }
            },
            "type": "scatterpolargl"
           }
          ],
          "scatterternary": [
           {
            "marker": {
             "colorbar": {
              "outlinewidth": 0,
              "ticks": ""
             }
            },
            "type": "scatterternary"
           }
          ],
          "surface": [
           {
            "colorbar": {
             "outlinewidth": 0,
             "ticks": ""
            },
            "colorscale": [
             [
              0,
              "#0d0887"
             ],
             [
              0.1111111111111111,
              "#46039f"
             ],
             [
              0.2222222222222222,
              "#7201a8"
             ],
             [
              0.3333333333333333,
              "#9c179e"
             ],
             [
              0.4444444444444444,
              "#bd3786"
             ],
             [
              0.5555555555555556,
              "#d8576b"
             ],
             [
              0.6666666666666666,
              "#ed7953"
             ],
             [
              0.7777777777777778,
              "#fb9f3a"
             ],
             [
              0.8888888888888888,
              "#fdca26"
             ],
             [
              1,
              "#f0f921"
             ]
            ],
            "type": "surface"
           }
          ],
          "table": [
           {
            "cells": {
             "fill": {
              "color": "#EBF0F8"
             },
             "line": {
              "color": "white"
             }
            },
            "header": {
             "fill": {
              "color": "#C8D4E3"
             },
             "line": {
              "color": "white"
             }
            },
            "type": "table"
           }
          ]
         },
         "layout": {
          "annotationdefaults": {
           "arrowcolor": "#2a3f5f",
           "arrowhead": 0,
           "arrowwidth": 1
          },
          "autotypenumbers": "strict",
          "coloraxis": {
           "colorbar": {
            "outlinewidth": 0,
            "ticks": ""
           }
          },
          "colorscale": {
           "diverging": [
            [
             0,
             "#8e0152"
            ],
            [
             0.1,
             "#c51b7d"
            ],
            [
             0.2,
             "#de77ae"
            ],
            [
             0.3,
             "#f1b6da"
            ],
            [
             0.4,
             "#fde0ef"
            ],
            [
             0.5,
             "#f7f7f7"
            ],
            [
             0.6,
             "#e6f5d0"
            ],
            [
             0.7,
             "#b8e186"
            ],
            [
             0.8,
             "#7fbc41"
            ],
            [
             0.9,
             "#4d9221"
            ],
            [
             1,
             "#276419"
            ]
           ],
           "sequential": [
            [
             0,
             "#0d0887"
            ],
            [
             0.1111111111111111,
             "#46039f"
            ],
            [
             0.2222222222222222,
             "#7201a8"
            ],
            [
             0.3333333333333333,
             "#9c179e"
            ],
            [
             0.4444444444444444,
             "#bd3786"
            ],
            [
             0.5555555555555556,
             "#d8576b"
            ],
            [
             0.6666666666666666,
             "#ed7953"
            ],
            [
             0.7777777777777778,
             "#fb9f3a"
            ],
            [
             0.8888888888888888,
             "#fdca26"
            ],
            [
             1,
             "#f0f921"
            ]
           ],
           "sequentialminus": [
            [
             0,
             "#0d0887"
            ],
            [
             0.1111111111111111,
             "#46039f"
            ],
            [
             0.2222222222222222,
             "#7201a8"
            ],
            [
             0.3333333333333333,
             "#9c179e"
            ],
            [
             0.4444444444444444,
             "#bd3786"
            ],
            [
             0.5555555555555556,
             "#d8576b"
            ],
            [
             0.6666666666666666,
             "#ed7953"
            ],
            [
             0.7777777777777778,
             "#fb9f3a"
            ],
            [
             0.8888888888888888,
             "#fdca26"
            ],
            [
             1,
             "#f0f921"
            ]
           ]
          },
          "colorway": [
           "#636efa",
           "#EF553B",
           "#00cc96",
           "#ab63fa",
           "#FFA15A",
           "#19d3f3",
           "#FF6692",
           "#B6E880",
           "#FF97FF",
           "#FECB52"
          ],
          "font": {
           "color": "#2a3f5f"
          },
          "geo": {
           "bgcolor": "white",
           "lakecolor": "white",
           "landcolor": "#E5ECF6",
           "showlakes": true,
           "showland": true,
           "subunitcolor": "white"
          },
          "hoverlabel": {
           "align": "left"
          },
          "hovermode": "closest",
          "mapbox": {
           "style": "light"
          },
          "paper_bgcolor": "white",
          "plot_bgcolor": "#E5ECF6",
          "polar": {
           "angularaxis": {
            "gridcolor": "white",
            "linecolor": "white",
            "ticks": ""
           },
           "bgcolor": "#E5ECF6",
           "radialaxis": {
            "gridcolor": "white",
            "linecolor": "white",
            "ticks": ""
           }
          },
          "scene": {
           "xaxis": {
            "backgroundcolor": "#E5ECF6",
            "gridcolor": "white",
            "gridwidth": 2,
            "linecolor": "white",
            "showbackground": true,
            "ticks": "",
            "zerolinecolor": "white"
           },
           "yaxis": {
            "backgroundcolor": "#E5ECF6",
            "gridcolor": "white",
            "gridwidth": 2,
            "linecolor": "white",
            "showbackground": true,
            "ticks": "",
            "zerolinecolor": "white"
           },
           "zaxis": {
            "backgroundcolor": "#E5ECF6",
            "gridcolor": "white",
            "gridwidth": 2,
            "linecolor": "white",
            "showbackground": true,
            "ticks": "",
            "zerolinecolor": "white"
           }
          },
          "shapedefaults": {
           "line": {
            "color": "#2a3f5f"
           }
          },
          "ternary": {
           "aaxis": {
            "gridcolor": "white",
            "linecolor": "white",
            "ticks": ""
           },
           "baxis": {
            "gridcolor": "white",
            "linecolor": "white",
            "ticks": ""
           },
           "bgcolor": "#E5ECF6",
           "caxis": {
            "gridcolor": "white",
            "linecolor": "white",
            "ticks": ""
           }
          },
          "title": {
           "x": 0.05
          },
          "xaxis": {
           "automargin": true,
           "gridcolor": "white",
           "linecolor": "white",
           "ticks": "",
           "title": {
            "standoff": 15
           },
           "zerolinecolor": "white",
           "zerolinewidth": 2
          },
          "yaxis": {
           "automargin": true,
           "gridcolor": "white",
           "linecolor": "white",
           "ticks": "",
           "title": {
            "standoff": 15
           },
           "zerolinecolor": "white",
           "zerolinewidth": 2
          }
         }
        },
        "title": {
         "text": "<B>5 Minute Funding Rate Data (last 24 hours)</B>",
         "x": 0.5
        },
        "width": 1800,
        "xaxis": {
         "anchor": "y",
         "domain": [
          0,
          0.94
         ]
        },
        "yaxis": {
         "anchor": "x",
         "domain": [
          0,
          1
         ],
         "range": [
          -0.015,
          0.015
         ]
        },
        "yaxis2": {
         "anchor": "x",
         "overlaying": "y",
         "side": "right"
        }
       }
      }
     },
     "metadata": {},
     "output_type": "display_data"
    },
    {
     "data": {
      "text/html": [
       "<img src=\"https://alternative.me/crypto/fear-and-greed-index.png\" width=\"400\" height=\"400\"/>"
      ],
      "text/plain": [
       "<IPython.core.display.Image object>"
      ]
     },
     "execution_count": 6,
     "metadata": {},
     "output_type": "execute_result"
    }
   ],
   "source": [
    "df = read_csv_sftp('IP_ADDRESS', 'gustavo', '/home/gustavo/btc_futures_data/minute_funding_rate.csv')\n",
    "#df = pd.read_csv('minute_funding_rate.csv')\n",
    "\n",
    "df['date'] = pd.to_datetime(df['date'])\n",
    "df['date'] = df['date'].dt.tz_localize('UTC').dt.tz_convert('Europe/Budapest')\n",
    "\n",
    "df.set_index('date', inplace=True)\n",
    "\n",
    "#df.head()\n",
    "\n",
    "mask_usdt = df['type'] == 'USDT'\n",
    "mask_token = df['type'] == 'TOKEN'\n",
    "\n",
    "se_usdt_weighted_mean_funding_rate = df[mask_usdt]['weighted_mean_funding_rate']\n",
    "se_token_weighted_mean_funding_rate = df[mask_token]['weighted_mean_funding_rate']\n",
    "\n",
    "se_weighted_mean_funding_rate = round((se_token_weighted_mean_funding_rate + se_usdt_weighted_mean_funding_rate) / 2, 4)\n",
    "\n",
    "\n",
    "# Chart config\n",
    "\n",
    "# date filter\n",
    "h = 24\n",
    "date_filter = (datetime.datetime.now() - datetime.timedelta(hours = h)).strftime('%Y-%m-%d-%H')\n",
    "\n",
    "# Instantiate fig with 2 y axis\n",
    "fig = make_subplots(specs=[[{\"secondary_y\": True}]])\n",
    "\n",
    "# Add price plot\n",
    "fig.add_trace(go.Scatter(x=df[mask_usdt][date_filter:].index, \n",
    "                         y=df[mask_usdt][date_filter:]['price'],\n",
    "                         name=\"Price\",\n",
    "                         mode='lines+markers',\n",
    "                         ),\n",
    "                         secondary_y=True,\n",
    "                         \n",
    "             )\n",
    "\n",
    "# Add funding rate plot\n",
    "fig.add_trace(go.Bar(x=df[mask_usdt][date_filter:].index, \n",
    "                         y=se_weighted_mean_funding_rate[date_filter:],\n",
    "                         name=\"Weighted Average Funding Rate\"            \n",
    "                        ),\n",
    "                        secondary_y=False\n",
    "                        \n",
    "             )\n",
    "\n",
    "# Change axis ranges\n",
    "#fig.update_yaxes(range=[df[date_filter]['price'].min() - 500 , df['price'][date_filter].max() + 500], secondary_y=True)\n",
    "fig.update_yaxes(range=[-0.015, 0.015], secondary_y=False)\n",
    "#fig.update_yaxes(range=[df[date_filter]['weighted_mean_funding_rate'].min() - 0.01 , df[date_filter]['weighted_mean_funding_rate'].max() + 0.01], secondary_y=False)\n",
    "\n",
    "# Add horizontal line\n",
    "fig.add_hline(y=0.01, line_dash=\"dot\", opacity=0.3, annotation_text='Baseline')\n",
    "\n",
    "# Change color of primary y axis\n",
    "fig.update_traces(marker_color='yellowgreen', secondary_y=False)\n",
    "fig.update_traces(marker_color='black', secondary_y=True)\n",
    "\n",
    "# Add annotation to current funding rate\n",
    "fig.add_annotation(x=df[mask_usdt][date_filter:].index[-1], \n",
    "                   y=se_weighted_mean_funding_rate[date_filter:][-1],\n",
    "                   text='<b>{}%</b>'.format(se_weighted_mean_funding_rate[-1]),\n",
    "                   showarrow=False,\n",
    "                   xanchor='left',\n",
    "                   yanchor='bottom',\n",
    "                   )\n",
    "\n",
    "\n",
    "# Add Title and height\n",
    "fig.update_layout(legend=dict(y=0.5, font_size=12), \n",
    "                  height=1200, \n",
    "                  width=1800,\n",
    "                  title='<B>5 Minute Funding Rate Data (last {} hours)</B>'.format(h),\n",
    "                  title_x=0.5,\n",
    "                  )\n",
    "\n",
    "\n",
    "\n",
    "fig.show()\n",
    "\n",
    "# Get current fear and greed\n",
    "Image(url= \"https://alternative.me/crypto/fear-and-greed-index.png\", width=400, height=400)"
   ]
  },
  {
   "cell_type": "code",
   "execution_count": null,
   "metadata": {},
   "outputs": [],
   "source": []
  }
 ],
 "metadata": {
  "kernelspec": {
   "display_name": "Python 3.10.4 64-bit",
   "language": "python",
   "name": "python3"
  },
  "language_info": {
   "codemirror_mode": {
    "name": "ipython",
    "version": 3
   },
   "file_extension": ".py",
   "mimetype": "text/x-python",
   "name": "python",
   "nbconvert_exporter": "python",
   "pygments_lexer": "ipython3",
   "version": "3.10.4"
  },
  "vscode": {
   "interpreter": {
    "hash": "26de051ba29f2982a8de78e945f0abaf191376122a1563185a90213a26c5da77"
   }
  }
 },
 "nbformat": 4,
 "nbformat_minor": 5
}
